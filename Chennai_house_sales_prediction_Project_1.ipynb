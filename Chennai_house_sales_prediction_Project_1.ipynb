{
  "cells": [
    {
      "cell_type": "markdown",
      "metadata": {
        "id": "view-in-github",
        "colab_type": "text"
      },
      "source": [
        "<a href=\"https://colab.research.google.com/github/PunithKumarR/ML_Projects-/blob/main/Chennai_house_sales_prediction_Project_1.ipynb\" target=\"_parent\"><img src=\"https://colab.research.google.com/assets/colab-badge.svg\" alt=\"Open In Colab\"/></a>"
      ]
    },
    {
      "cell_type": "markdown",
      "metadata": {
        "id": "fkNgwLOw4K76"
      },
      "source": [
        "## Importing Required Packages"
      ]
    },
    {
      "cell_type": "code",
      "execution_count": 1,
      "metadata": {
        "id": "36mrdCFT1ajL"
      },
      "outputs": [],
      "source": [
        "import pandas as pd\n",
        "import numpy as np\n",
        "import seaborn as sns\n",
        "import matplotlib.pyplot as plt\n",
        "%matplotlib inline\n",
        "import warnings\n",
        "warnings.filterwarnings('ignore')\n",
        "from sklearn.model_selection import train_test_split\n",
        "from sklearn.linear_model import LinearRegression\n",
        "from sklearn.preprocessing import StandardScaler\n",
        "from sklearn import metrics\n",
        "from sklearn.metrics import r2_score\n",
        "from sklearn.neighbors import KNeighborsRegressor\n",
        "from sklearn.model_selection import cross_val_score\n",
        "from sklearn.tree import DecisionTreeRegressor\n",
        "from sklearn.ensemble import RandomForestRegressor\n",
        "import xgboost as xgb\n",
        "from xgboost import XGBRegressor\n"
      ]
    },
    {
      "cell_type": "markdown",
      "metadata": {
        "id": "9IAiaJ2X4qcY"
      },
      "source": [
        "Loading the Dataset"
      ]
    },
    {
      "cell_type": "code",
      "execution_count": 2,
      "metadata": {
        "colab": {
          "base_uri": "https://localhost:8080/",
          "height": 386
        },
        "id": "xv8Pd9V04xxr",
        "outputId": "aa2e64f3-2cd6-4fae-b491-e9cbb1d623c2"
      },
      "outputs": [
        {
          "output_type": "execute_result",
          "data": {
            "text/plain": [
              "   PRT_ID        AREA  INT_SQFT   DATE_SALE  DIST_MAINROAD  N_BEDROOM  \\\n",
              "0  P03210  Karapakkam      1004  04-05-2011            131        1.0   \n",
              "1  P09411  Anna Nagar      1986  19-12-2006             26        2.0   \n",
              "2  P01812       Adyar       909  04-02-2012             70        1.0   \n",
              "3  P05346   Velachery      1855  13-03-2010             14        3.0   \n",
              "4  P06210  Karapakkam      1226  05-10-2009             84        1.0   \n",
              "\n",
              "   N_BATHROOM  N_ROOM SALE_COND PARK_FACIL  ... UTILITY_AVAIL  STREET MZZONE  \\\n",
              "0         1.0       3  AbNormal        Yes  ...        AllPub   Paved      A   \n",
              "1         1.0       5  AbNormal         No  ...        AllPub  Gravel     RH   \n",
              "2         1.0       3  AbNormal        Yes  ...           ELO  Gravel     RL   \n",
              "3         2.0       5    Family         No  ...       NoSewr    Paved      I   \n",
              "4         1.0       3  AbNormal        Yes  ...        AllPub  Gravel      C   \n",
              "\n",
              "  QS_ROOMS QS_BATHROOM  QS_BEDROOM  QS_OVERALL  REG_FEE  COMMIS  SALES_PRICE  \n",
              "0      4.0         3.9         4.9       4.330   380000  144400      7600000  \n",
              "1      4.9         4.2         2.5       3.765   760122  304049     21717770  \n",
              "2      4.1         3.8         2.2       3.090   421094   92114     13159200  \n",
              "3      4.7         3.9         3.6       4.010   356321   77042      9630290  \n",
              "4      3.0         2.5         4.1       3.290   237000   74063      7406250  \n",
              "\n",
              "[5 rows x 22 columns]"
            ],
            "text/html": [
              "\n",
              "  <div id=\"df-082be86f-fc40-4dd2-8dd2-8667eb941ed0\">\n",
              "    <div class=\"colab-df-container\">\n",
              "      <div>\n",
              "<style scoped>\n",
              "    .dataframe tbody tr th:only-of-type {\n",
              "        vertical-align: middle;\n",
              "    }\n",
              "\n",
              "    .dataframe tbody tr th {\n",
              "        vertical-align: top;\n",
              "    }\n",
              "\n",
              "    .dataframe thead th {\n",
              "        text-align: right;\n",
              "    }\n",
              "</style>\n",
              "<table border=\"1\" class=\"dataframe\">\n",
              "  <thead>\n",
              "    <tr style=\"text-align: right;\">\n",
              "      <th></th>\n",
              "      <th>PRT_ID</th>\n",
              "      <th>AREA</th>\n",
              "      <th>INT_SQFT</th>\n",
              "      <th>DATE_SALE</th>\n",
              "      <th>DIST_MAINROAD</th>\n",
              "      <th>N_BEDROOM</th>\n",
              "      <th>N_BATHROOM</th>\n",
              "      <th>N_ROOM</th>\n",
              "      <th>SALE_COND</th>\n",
              "      <th>PARK_FACIL</th>\n",
              "      <th>...</th>\n",
              "      <th>UTILITY_AVAIL</th>\n",
              "      <th>STREET</th>\n",
              "      <th>MZZONE</th>\n",
              "      <th>QS_ROOMS</th>\n",
              "      <th>QS_BATHROOM</th>\n",
              "      <th>QS_BEDROOM</th>\n",
              "      <th>QS_OVERALL</th>\n",
              "      <th>REG_FEE</th>\n",
              "      <th>COMMIS</th>\n",
              "      <th>SALES_PRICE</th>\n",
              "    </tr>\n",
              "  </thead>\n",
              "  <tbody>\n",
              "    <tr>\n",
              "      <th>0</th>\n",
              "      <td>P03210</td>\n",
              "      <td>Karapakkam</td>\n",
              "      <td>1004</td>\n",
              "      <td>04-05-2011</td>\n",
              "      <td>131</td>\n",
              "      <td>1.0</td>\n",
              "      <td>1.0</td>\n",
              "      <td>3</td>\n",
              "      <td>AbNormal</td>\n",
              "      <td>Yes</td>\n",
              "      <td>...</td>\n",
              "      <td>AllPub</td>\n",
              "      <td>Paved</td>\n",
              "      <td>A</td>\n",
              "      <td>4.0</td>\n",
              "      <td>3.9</td>\n",
              "      <td>4.9</td>\n",
              "      <td>4.330</td>\n",
              "      <td>380000</td>\n",
              "      <td>144400</td>\n",
              "      <td>7600000</td>\n",
              "    </tr>\n",
              "    <tr>\n",
              "      <th>1</th>\n",
              "      <td>P09411</td>\n",
              "      <td>Anna Nagar</td>\n",
              "      <td>1986</td>\n",
              "      <td>19-12-2006</td>\n",
              "      <td>26</td>\n",
              "      <td>2.0</td>\n",
              "      <td>1.0</td>\n",
              "      <td>5</td>\n",
              "      <td>AbNormal</td>\n",
              "      <td>No</td>\n",
              "      <td>...</td>\n",
              "      <td>AllPub</td>\n",
              "      <td>Gravel</td>\n",
              "      <td>RH</td>\n",
              "      <td>4.9</td>\n",
              "      <td>4.2</td>\n",
              "      <td>2.5</td>\n",
              "      <td>3.765</td>\n",
              "      <td>760122</td>\n",
              "      <td>304049</td>\n",
              "      <td>21717770</td>\n",
              "    </tr>\n",
              "    <tr>\n",
              "      <th>2</th>\n",
              "      <td>P01812</td>\n",
              "      <td>Adyar</td>\n",
              "      <td>909</td>\n",
              "      <td>04-02-2012</td>\n",
              "      <td>70</td>\n",
              "      <td>1.0</td>\n",
              "      <td>1.0</td>\n",
              "      <td>3</td>\n",
              "      <td>AbNormal</td>\n",
              "      <td>Yes</td>\n",
              "      <td>...</td>\n",
              "      <td>ELO</td>\n",
              "      <td>Gravel</td>\n",
              "      <td>RL</td>\n",
              "      <td>4.1</td>\n",
              "      <td>3.8</td>\n",
              "      <td>2.2</td>\n",
              "      <td>3.090</td>\n",
              "      <td>421094</td>\n",
              "      <td>92114</td>\n",
              "      <td>13159200</td>\n",
              "    </tr>\n",
              "    <tr>\n",
              "      <th>3</th>\n",
              "      <td>P05346</td>\n",
              "      <td>Velachery</td>\n",
              "      <td>1855</td>\n",
              "      <td>13-03-2010</td>\n",
              "      <td>14</td>\n",
              "      <td>3.0</td>\n",
              "      <td>2.0</td>\n",
              "      <td>5</td>\n",
              "      <td>Family</td>\n",
              "      <td>No</td>\n",
              "      <td>...</td>\n",
              "      <td>NoSewr</td>\n",
              "      <td>Paved</td>\n",
              "      <td>I</td>\n",
              "      <td>4.7</td>\n",
              "      <td>3.9</td>\n",
              "      <td>3.6</td>\n",
              "      <td>4.010</td>\n",
              "      <td>356321</td>\n",
              "      <td>77042</td>\n",
              "      <td>9630290</td>\n",
              "    </tr>\n",
              "    <tr>\n",
              "      <th>4</th>\n",
              "      <td>P06210</td>\n",
              "      <td>Karapakkam</td>\n",
              "      <td>1226</td>\n",
              "      <td>05-10-2009</td>\n",
              "      <td>84</td>\n",
              "      <td>1.0</td>\n",
              "      <td>1.0</td>\n",
              "      <td>3</td>\n",
              "      <td>AbNormal</td>\n",
              "      <td>Yes</td>\n",
              "      <td>...</td>\n",
              "      <td>AllPub</td>\n",
              "      <td>Gravel</td>\n",
              "      <td>C</td>\n",
              "      <td>3.0</td>\n",
              "      <td>2.5</td>\n",
              "      <td>4.1</td>\n",
              "      <td>3.290</td>\n",
              "      <td>237000</td>\n",
              "      <td>74063</td>\n",
              "      <td>7406250</td>\n",
              "    </tr>\n",
              "  </tbody>\n",
              "</table>\n",
              "<p>5 rows × 22 columns</p>\n",
              "</div>\n",
              "      <button class=\"colab-df-convert\" onclick=\"convertToInteractive('df-082be86f-fc40-4dd2-8dd2-8667eb941ed0')\"\n",
              "              title=\"Convert this dataframe to an interactive table.\"\n",
              "              style=\"display:none;\">\n",
              "        \n",
              "  <svg xmlns=\"http://www.w3.org/2000/svg\" height=\"24px\"viewBox=\"0 0 24 24\"\n",
              "       width=\"24px\">\n",
              "    <path d=\"M0 0h24v24H0V0z\" fill=\"none\"/>\n",
              "    <path d=\"M18.56 5.44l.94 2.06.94-2.06 2.06-.94-2.06-.94-.94-2.06-.94 2.06-2.06.94zm-11 1L8.5 8.5l.94-2.06 2.06-.94-2.06-.94L8.5 2.5l-.94 2.06-2.06.94zm10 10l.94 2.06.94-2.06 2.06-.94-2.06-.94-.94-2.06-.94 2.06-2.06.94z\"/><path d=\"M17.41 7.96l-1.37-1.37c-.4-.4-.92-.59-1.43-.59-.52 0-1.04.2-1.43.59L10.3 9.45l-7.72 7.72c-.78.78-.78 2.05 0 2.83L4 21.41c.39.39.9.59 1.41.59.51 0 1.02-.2 1.41-.59l7.78-7.78 2.81-2.81c.8-.78.8-2.07 0-2.86zM5.41 20L4 18.59l7.72-7.72 1.47 1.35L5.41 20z\"/>\n",
              "  </svg>\n",
              "      </button>\n",
              "      \n",
              "  <style>\n",
              "    .colab-df-container {\n",
              "      display:flex;\n",
              "      flex-wrap:wrap;\n",
              "      gap: 12px;\n",
              "    }\n",
              "\n",
              "    .colab-df-convert {\n",
              "      background-color: #E8F0FE;\n",
              "      border: none;\n",
              "      border-radius: 50%;\n",
              "      cursor: pointer;\n",
              "      display: none;\n",
              "      fill: #1967D2;\n",
              "      height: 32px;\n",
              "      padding: 0 0 0 0;\n",
              "      width: 32px;\n",
              "    }\n",
              "\n",
              "    .colab-df-convert:hover {\n",
              "      background-color: #E2EBFA;\n",
              "      box-shadow: 0px 1px 2px rgba(60, 64, 67, 0.3), 0px 1px 3px 1px rgba(60, 64, 67, 0.15);\n",
              "      fill: #174EA6;\n",
              "    }\n",
              "\n",
              "    [theme=dark] .colab-df-convert {\n",
              "      background-color: #3B4455;\n",
              "      fill: #D2E3FC;\n",
              "    }\n",
              "\n",
              "    [theme=dark] .colab-df-convert:hover {\n",
              "      background-color: #434B5C;\n",
              "      box-shadow: 0px 1px 3px 1px rgba(0, 0, 0, 0.15);\n",
              "      filter: drop-shadow(0px 1px 2px rgba(0, 0, 0, 0.3));\n",
              "      fill: #FFFFFF;\n",
              "    }\n",
              "  </style>\n",
              "\n",
              "      <script>\n",
              "        const buttonEl =\n",
              "          document.querySelector('#df-082be86f-fc40-4dd2-8dd2-8667eb941ed0 button.colab-df-convert');\n",
              "        buttonEl.style.display =\n",
              "          google.colab.kernel.accessAllowed ? 'block' : 'none';\n",
              "\n",
              "        async function convertToInteractive(key) {\n",
              "          const element = document.querySelector('#df-082be86f-fc40-4dd2-8dd2-8667eb941ed0');\n",
              "          const dataTable =\n",
              "            await google.colab.kernel.invokeFunction('convertToInteractive',\n",
              "                                                     [key], {});\n",
              "          if (!dataTable) return;\n",
              "\n",
              "          const docLinkHtml = 'Like what you see? Visit the ' +\n",
              "            '<a target=\"_blank\" href=https://colab.research.google.com/notebooks/data_table.ipynb>data table notebook</a>'\n",
              "            + ' to learn more about interactive tables.';\n",
              "          element.innerHTML = '';\n",
              "          dataTable['output_type'] = 'display_data';\n",
              "          await google.colab.output.renderOutput(dataTable, element);\n",
              "          const docLink = document.createElement('div');\n",
              "          docLink.innerHTML = docLinkHtml;\n",
              "          element.appendChild(docLink);\n",
              "        }\n",
              "      </script>\n",
              "    </div>\n",
              "  </div>\n",
              "  "
            ]
          },
          "metadata": {},
          "execution_count": 2
        }
      ],
      "source": [
        "df=pd.read_csv('train-chennai-sale.csv')\n",
        "df.head()"
      ]
    },
    {
      "cell_type": "markdown",
      "metadata": {
        "id": "E9ektMUO8rOx"
      },
      "source": [
        "checking the how many rows and columns are there in dataset"
      ]
    },
    {
      "cell_type": "code",
      "execution_count": 3,
      "metadata": {
        "colab": {
          "base_uri": "https://localhost:8080/"
        },
        "id": "72vHTWUr6jH6",
        "outputId": "a3976b46-d99c-4b04-d645-9079fd7b7e20"
      },
      "outputs": [
        {
          "output_type": "execute_result",
          "data": {
            "text/plain": [
              "(7109, 22)"
            ]
          },
          "metadata": {},
          "execution_count": 3
        }
      ],
      "source": [
        "df.shape"
      ]
    },
    {
      "cell_type": "code",
      "execution_count": 4,
      "metadata": {
        "colab": {
          "base_uri": "https://localhost:8080/"
        },
        "id": "8z9-OkdZ6TfD",
        "outputId": "b01e2d17-09a2-462b-e10a-1df0dc49fa19"
      },
      "outputs": [
        {
          "output_type": "execute_result",
          "data": {
            "text/plain": [
              "Index(['PRT_ID', 'AREA', 'INT_SQFT', 'DATE_SALE', 'DIST_MAINROAD', 'N_BEDROOM',\n",
              "       'N_BATHROOM', 'N_ROOM', 'SALE_COND', 'PARK_FACIL', 'DATE_BUILD',\n",
              "       'BUILDTYPE', 'UTILITY_AVAIL', 'STREET', 'MZZONE', 'QS_ROOMS',\n",
              "       'QS_BATHROOM', 'QS_BEDROOM', 'QS_OVERALL', 'REG_FEE', 'COMMIS',\n",
              "       'SALES_PRICE'],\n",
              "      dtype='object')"
            ]
          },
          "metadata": {},
          "execution_count": 4
        }
      ],
      "source": [
        "df.columns"
      ]
    },
    {
      "cell_type": "markdown",
      "metadata": {
        "id": "8iH1lmy08YvC"
      },
      "source": [
        "Removing the UnNecessary Columns"
      ]
    },
    {
      "cell_type": "code",
      "execution_count": 5,
      "metadata": {
        "colab": {
          "base_uri": "https://localhost:8080/",
          "height": 357
        },
        "id": "gTvu-7ft6ifg",
        "outputId": "631fe761-726e-4cc0-b925-8bf4e3859f89"
      },
      "outputs": [
        {
          "output_type": "execute_result",
          "data": {
            "text/plain": [
              "         AREA  INT_SQFT   DATE_SALE  DIST_MAINROAD  N_BEDROOM  N_BATHROOM  \\\n",
              "0  Karapakkam      1004  04-05-2011            131        1.0         1.0   \n",
              "1  Anna Nagar      1986  19-12-2006             26        2.0         1.0   \n",
              "2       Adyar       909  04-02-2012             70        1.0         1.0   \n",
              "3   Velachery      1855  13-03-2010             14        3.0         2.0   \n",
              "4  Karapakkam      1226  05-10-2009             84        1.0         1.0   \n",
              "\n",
              "   N_ROOM SALE_COND PARK_FACIL  DATE_BUILD   BUILDTYPE UTILITY_AVAIL  STREET  \\\n",
              "0       3  AbNormal        Yes  15-05-1967  Commercial        AllPub   Paved   \n",
              "1       5  AbNormal         No  22-12-1995  Commercial        AllPub  Gravel   \n",
              "2       3  AbNormal        Yes  09-02-1992  Commercial           ELO  Gravel   \n",
              "3       5    Family         No  18-03-1988      Others       NoSewr    Paved   \n",
              "4       3  AbNormal        Yes  13-10-1979      Others        AllPub  Gravel   \n",
              "\n",
              "  MZZONE  QS_ROOMS  QS_BATHROOM  QS_BEDROOM  QS_OVERALL  SALES_PRICE  \n",
              "0      A       4.0          3.9         4.9       4.330      7600000  \n",
              "1     RH       4.9          4.2         2.5       3.765     21717770  \n",
              "2     RL       4.1          3.8         2.2       3.090     13159200  \n",
              "3      I       4.7          3.9         3.6       4.010      9630290  \n",
              "4      C       3.0          2.5         4.1       3.290      7406250  "
            ],
            "text/html": [
              "\n",
              "  <div id=\"df-2667215b-39ee-44b0-99cc-60ea05d3fa63\">\n",
              "    <div class=\"colab-df-container\">\n",
              "      <div>\n",
              "<style scoped>\n",
              "    .dataframe tbody tr th:only-of-type {\n",
              "        vertical-align: middle;\n",
              "    }\n",
              "\n",
              "    .dataframe tbody tr th {\n",
              "        vertical-align: top;\n",
              "    }\n",
              "\n",
              "    .dataframe thead th {\n",
              "        text-align: right;\n",
              "    }\n",
              "</style>\n",
              "<table border=\"1\" class=\"dataframe\">\n",
              "  <thead>\n",
              "    <tr style=\"text-align: right;\">\n",
              "      <th></th>\n",
              "      <th>AREA</th>\n",
              "      <th>INT_SQFT</th>\n",
              "      <th>DATE_SALE</th>\n",
              "      <th>DIST_MAINROAD</th>\n",
              "      <th>N_BEDROOM</th>\n",
              "      <th>N_BATHROOM</th>\n",
              "      <th>N_ROOM</th>\n",
              "      <th>SALE_COND</th>\n",
              "      <th>PARK_FACIL</th>\n",
              "      <th>DATE_BUILD</th>\n",
              "      <th>BUILDTYPE</th>\n",
              "      <th>UTILITY_AVAIL</th>\n",
              "      <th>STREET</th>\n",
              "      <th>MZZONE</th>\n",
              "      <th>QS_ROOMS</th>\n",
              "      <th>QS_BATHROOM</th>\n",
              "      <th>QS_BEDROOM</th>\n",
              "      <th>QS_OVERALL</th>\n",
              "      <th>SALES_PRICE</th>\n",
              "    </tr>\n",
              "  </thead>\n",
              "  <tbody>\n",
              "    <tr>\n",
              "      <th>0</th>\n",
              "      <td>Karapakkam</td>\n",
              "      <td>1004</td>\n",
              "      <td>04-05-2011</td>\n",
              "      <td>131</td>\n",
              "      <td>1.0</td>\n",
              "      <td>1.0</td>\n",
              "      <td>3</td>\n",
              "      <td>AbNormal</td>\n",
              "      <td>Yes</td>\n",
              "      <td>15-05-1967</td>\n",
              "      <td>Commercial</td>\n",
              "      <td>AllPub</td>\n",
              "      <td>Paved</td>\n",
              "      <td>A</td>\n",
              "      <td>4.0</td>\n",
              "      <td>3.9</td>\n",
              "      <td>4.9</td>\n",
              "      <td>4.330</td>\n",
              "      <td>7600000</td>\n",
              "    </tr>\n",
              "    <tr>\n",
              "      <th>1</th>\n",
              "      <td>Anna Nagar</td>\n",
              "      <td>1986</td>\n",
              "      <td>19-12-2006</td>\n",
              "      <td>26</td>\n",
              "      <td>2.0</td>\n",
              "      <td>1.0</td>\n",
              "      <td>5</td>\n",
              "      <td>AbNormal</td>\n",
              "      <td>No</td>\n",
              "      <td>22-12-1995</td>\n",
              "      <td>Commercial</td>\n",
              "      <td>AllPub</td>\n",
              "      <td>Gravel</td>\n",
              "      <td>RH</td>\n",
              "      <td>4.9</td>\n",
              "      <td>4.2</td>\n",
              "      <td>2.5</td>\n",
              "      <td>3.765</td>\n",
              "      <td>21717770</td>\n",
              "    </tr>\n",
              "    <tr>\n",
              "      <th>2</th>\n",
              "      <td>Adyar</td>\n",
              "      <td>909</td>\n",
              "      <td>04-02-2012</td>\n",
              "      <td>70</td>\n",
              "      <td>1.0</td>\n",
              "      <td>1.0</td>\n",
              "      <td>3</td>\n",
              "      <td>AbNormal</td>\n",
              "      <td>Yes</td>\n",
              "      <td>09-02-1992</td>\n",
              "      <td>Commercial</td>\n",
              "      <td>ELO</td>\n",
              "      <td>Gravel</td>\n",
              "      <td>RL</td>\n",
              "      <td>4.1</td>\n",
              "      <td>3.8</td>\n",
              "      <td>2.2</td>\n",
              "      <td>3.090</td>\n",
              "      <td>13159200</td>\n",
              "    </tr>\n",
              "    <tr>\n",
              "      <th>3</th>\n",
              "      <td>Velachery</td>\n",
              "      <td>1855</td>\n",
              "      <td>13-03-2010</td>\n",
              "      <td>14</td>\n",
              "      <td>3.0</td>\n",
              "      <td>2.0</td>\n",
              "      <td>5</td>\n",
              "      <td>Family</td>\n",
              "      <td>No</td>\n",
              "      <td>18-03-1988</td>\n",
              "      <td>Others</td>\n",
              "      <td>NoSewr</td>\n",
              "      <td>Paved</td>\n",
              "      <td>I</td>\n",
              "      <td>4.7</td>\n",
              "      <td>3.9</td>\n",
              "      <td>3.6</td>\n",
              "      <td>4.010</td>\n",
              "      <td>9630290</td>\n",
              "    </tr>\n",
              "    <tr>\n",
              "      <th>4</th>\n",
              "      <td>Karapakkam</td>\n",
              "      <td>1226</td>\n",
              "      <td>05-10-2009</td>\n",
              "      <td>84</td>\n",
              "      <td>1.0</td>\n",
              "      <td>1.0</td>\n",
              "      <td>3</td>\n",
              "      <td>AbNormal</td>\n",
              "      <td>Yes</td>\n",
              "      <td>13-10-1979</td>\n",
              "      <td>Others</td>\n",
              "      <td>AllPub</td>\n",
              "      <td>Gravel</td>\n",
              "      <td>C</td>\n",
              "      <td>3.0</td>\n",
              "      <td>2.5</td>\n",
              "      <td>4.1</td>\n",
              "      <td>3.290</td>\n",
              "      <td>7406250</td>\n",
              "    </tr>\n",
              "  </tbody>\n",
              "</table>\n",
              "</div>\n",
              "      <button class=\"colab-df-convert\" onclick=\"convertToInteractive('df-2667215b-39ee-44b0-99cc-60ea05d3fa63')\"\n",
              "              title=\"Convert this dataframe to an interactive table.\"\n",
              "              style=\"display:none;\">\n",
              "        \n",
              "  <svg xmlns=\"http://www.w3.org/2000/svg\" height=\"24px\"viewBox=\"0 0 24 24\"\n",
              "       width=\"24px\">\n",
              "    <path d=\"M0 0h24v24H0V0z\" fill=\"none\"/>\n",
              "    <path d=\"M18.56 5.44l.94 2.06.94-2.06 2.06-.94-2.06-.94-.94-2.06-.94 2.06-2.06.94zm-11 1L8.5 8.5l.94-2.06 2.06-.94-2.06-.94L8.5 2.5l-.94 2.06-2.06.94zm10 10l.94 2.06.94-2.06 2.06-.94-2.06-.94-.94-2.06-.94 2.06-2.06.94z\"/><path d=\"M17.41 7.96l-1.37-1.37c-.4-.4-.92-.59-1.43-.59-.52 0-1.04.2-1.43.59L10.3 9.45l-7.72 7.72c-.78.78-.78 2.05 0 2.83L4 21.41c.39.39.9.59 1.41.59.51 0 1.02-.2 1.41-.59l7.78-7.78 2.81-2.81c.8-.78.8-2.07 0-2.86zM5.41 20L4 18.59l7.72-7.72 1.47 1.35L5.41 20z\"/>\n",
              "  </svg>\n",
              "      </button>\n",
              "      \n",
              "  <style>\n",
              "    .colab-df-container {\n",
              "      display:flex;\n",
              "      flex-wrap:wrap;\n",
              "      gap: 12px;\n",
              "    }\n",
              "\n",
              "    .colab-df-convert {\n",
              "      background-color: #E8F0FE;\n",
              "      border: none;\n",
              "      border-radius: 50%;\n",
              "      cursor: pointer;\n",
              "      display: none;\n",
              "      fill: #1967D2;\n",
              "      height: 32px;\n",
              "      padding: 0 0 0 0;\n",
              "      width: 32px;\n",
              "    }\n",
              "\n",
              "    .colab-df-convert:hover {\n",
              "      background-color: #E2EBFA;\n",
              "      box-shadow: 0px 1px 2px rgba(60, 64, 67, 0.3), 0px 1px 3px 1px rgba(60, 64, 67, 0.15);\n",
              "      fill: #174EA6;\n",
              "    }\n",
              "\n",
              "    [theme=dark] .colab-df-convert {\n",
              "      background-color: #3B4455;\n",
              "      fill: #D2E3FC;\n",
              "    }\n",
              "\n",
              "    [theme=dark] .colab-df-convert:hover {\n",
              "      background-color: #434B5C;\n",
              "      box-shadow: 0px 1px 3px 1px rgba(0, 0, 0, 0.15);\n",
              "      filter: drop-shadow(0px 1px 2px rgba(0, 0, 0, 0.3));\n",
              "      fill: #FFFFFF;\n",
              "    }\n",
              "  </style>\n",
              "\n",
              "      <script>\n",
              "        const buttonEl =\n",
              "          document.querySelector('#df-2667215b-39ee-44b0-99cc-60ea05d3fa63 button.colab-df-convert');\n",
              "        buttonEl.style.display =\n",
              "          google.colab.kernel.accessAllowed ? 'block' : 'none';\n",
              "\n",
              "        async function convertToInteractive(key) {\n",
              "          const element = document.querySelector('#df-2667215b-39ee-44b0-99cc-60ea05d3fa63');\n",
              "          const dataTable =\n",
              "            await google.colab.kernel.invokeFunction('convertToInteractive',\n",
              "                                                     [key], {});\n",
              "          if (!dataTable) return;\n",
              "\n",
              "          const docLinkHtml = 'Like what you see? Visit the ' +\n",
              "            '<a target=\"_blank\" href=https://colab.research.google.com/notebooks/data_table.ipynb>data table notebook</a>'\n",
              "            + ' to learn more about interactive tables.';\n",
              "          element.innerHTML = '';\n",
              "          dataTable['output_type'] = 'display_data';\n",
              "          await google.colab.output.renderOutput(dataTable, element);\n",
              "          const docLink = document.createElement('div');\n",
              "          docLink.innerHTML = docLinkHtml;\n",
              "          element.appendChild(docLink);\n",
              "        }\n",
              "      </script>\n",
              "    </div>\n",
              "  </div>\n",
              "  "
            ]
          },
          "metadata": {},
          "execution_count": 5
        }
      ],
      "source": [
        "df.drop(df.columns[[0,19,20]],axis=1,inplace=True)\n",
        "df.head()"
      ]
    },
    {
      "cell_type": "code",
      "execution_count": 6,
      "metadata": {
        "colab": {
          "base_uri": "https://localhost:8080/"
        },
        "id": "xxFSjLrQ7ZHr",
        "outputId": "6d4814fb-e00d-4152-f14d-d9b098107d00"
      },
      "outputs": [
        {
          "output_type": "execute_result",
          "data": {
            "text/plain": [
              "(7109, 19)"
            ]
          },
          "metadata": {},
          "execution_count": 6
        }
      ],
      "source": [
        "df.shape"
      ]
    },
    {
      "cell_type": "markdown",
      "metadata": {
        "id": "Nd8RRZXk8TqN"
      },
      "source": [
        "Checking the Missing Values"
      ]
    },
    {
      "cell_type": "code",
      "execution_count": 7,
      "metadata": {
        "colab": {
          "base_uri": "https://localhost:8080/"
        },
        "id": "NBAjAX4X8F6i",
        "outputId": "7ea27162-6fdd-427c-fbe3-312c6d67edb6"
      },
      "outputs": [
        {
          "output_type": "execute_result",
          "data": {
            "text/plain": [
              "AREA              0\n",
              "INT_SQFT          0\n",
              "DATE_SALE         0\n",
              "DIST_MAINROAD     0\n",
              "N_BEDROOM         1\n",
              "N_BATHROOM        5\n",
              "N_ROOM            0\n",
              "SALE_COND         0\n",
              "PARK_FACIL        0\n",
              "DATE_BUILD        0\n",
              "BUILDTYPE         0\n",
              "UTILITY_AVAIL     0\n",
              "STREET            0\n",
              "MZZONE            0\n",
              "QS_ROOMS          0\n",
              "QS_BATHROOM       0\n",
              "QS_BEDROOM        0\n",
              "QS_OVERALL       48\n",
              "SALES_PRICE       0\n",
              "dtype: int64"
            ]
          },
          "metadata": {},
          "execution_count": 7
        }
      ],
      "source": [
        "df.isnull().sum()"
      ]
    },
    {
      "cell_type": "markdown",
      "metadata": {
        "id": "yJ3EREYy9ZXA"
      },
      "source": [
        "imputing the missing values"
      ]
    },
    {
      "cell_type": "code",
      "execution_count": 8,
      "metadata": {
        "colab": {
          "base_uri": "https://localhost:8080/"
        },
        "id": "igeEXlg_8JLA",
        "outputId": "cf6da498-40e7-4958-93a8-3a87982e2343"
      },
      "outputs": [
        {
          "output_type": "execute_result",
          "data": {
            "text/plain": [
              "1.0    3795\n",
              "2.0    2352\n",
              "3.0     707\n",
              "4.0     254\n",
              "Name: N_BEDROOM, dtype: int64"
            ]
          },
          "metadata": {},
          "execution_count": 8
        }
      ],
      "source": [
        "df['N_BEDROOM'].value_counts()"
      ]
    },
    {
      "cell_type": "code",
      "execution_count": 9,
      "metadata": {
        "id": "couQVdFW9vkL"
      },
      "outputs": [],
      "source": [
        "df['N_BEDROOM'].fillna(df['N_BEDROOM'].mean(),inplace=True)\n"
      ]
    },
    {
      "cell_type": "code",
      "execution_count": 10,
      "metadata": {
        "colab": {
          "base_uri": "https://localhost:8080/"
        },
        "id": "HMhl3N3bBP3H",
        "outputId": "4fcabfa0-531d-475b-d8a5-6097669df377"
      },
      "outputs": [
        {
          "output_type": "execute_result",
          "data": {
            "text/plain": [
              "0"
            ]
          },
          "metadata": {},
          "execution_count": 10
        }
      ],
      "source": [
        "df.N_BEDROOM.isnull().sum()"
      ]
    },
    {
      "cell_type": "code",
      "execution_count": 11,
      "metadata": {
        "id": "XAkZYP7uBbzu"
      },
      "outputs": [],
      "source": [
        "df['N_BATHROOM'].fillna(df['N_BATHROOM'].mean(),inplace=True)"
      ]
    },
    {
      "cell_type": "code",
      "execution_count": 12,
      "metadata": {
        "colab": {
          "base_uri": "https://localhost:8080/"
        },
        "id": "8dYZA0CGCAlX",
        "outputId": "9ee1add4-0c0f-414a-859f-c1f67d7d167b"
      },
      "outputs": [
        {
          "output_type": "execute_result",
          "data": {
            "text/plain": [
              "0"
            ]
          },
          "metadata": {},
          "execution_count": 12
        }
      ],
      "source": [
        "df.N_BATHROOM.isnull().sum()"
      ]
    },
    {
      "cell_type": "code",
      "execution_count": 13,
      "metadata": {
        "colab": {
          "base_uri": "https://localhost:8080/"
        },
        "id": "Pzs0otpYCGpM",
        "outputId": "b2737cda-e01b-4e18-9c29-7cc2515c4b53"
      },
      "outputs": [
        {
          "output_type": "execute_result",
          "data": {
            "text/plain": [
              "4.33"
            ]
          },
          "metadata": {},
          "execution_count": 13
        }
      ],
      "source": [
        "df.QS_OVERALL.values[0]"
      ]
    },
    {
      "cell_type": "code",
      "execution_count": 14,
      "metadata": {
        "id": "ckJCPkpICaKY"
      },
      "outputs": [],
      "source": [
        "df.QS_OVERALL.fillna(df['QS_OVERALL'].mean(),inplace=True)"
      ]
    },
    {
      "cell_type": "code",
      "execution_count": 15,
      "metadata": {
        "colab": {
          "base_uri": "https://localhost:8080/"
        },
        "id": "ffohz3IHCl6K",
        "outputId": "47c5780a-a313-47a9-d43a-3da1173f7ee2"
      },
      "outputs": [
        {
          "output_type": "execute_result",
          "data": {
            "text/plain": [
              "0"
            ]
          },
          "metadata": {},
          "execution_count": 15
        }
      ],
      "source": [
        "df.QS_OVERALL.isnull().sum()"
      ]
    },
    {
      "cell_type": "code",
      "execution_count": 16,
      "metadata": {
        "colab": {
          "base_uri": "https://localhost:8080/"
        },
        "id": "74bPdCRBCzsv",
        "outputId": "691971a6-d1fe-4735-d9c5-7c952aea4996"
      },
      "outputs": [
        {
          "output_type": "execute_result",
          "data": {
            "text/plain": [
              "AREA             0\n",
              "INT_SQFT         0\n",
              "DATE_SALE        0\n",
              "DIST_MAINROAD    0\n",
              "N_BEDROOM        0\n",
              "N_BATHROOM       0\n",
              "N_ROOM           0\n",
              "SALE_COND        0\n",
              "PARK_FACIL       0\n",
              "DATE_BUILD       0\n",
              "BUILDTYPE        0\n",
              "UTILITY_AVAIL    0\n",
              "STREET           0\n",
              "MZZONE           0\n",
              "QS_ROOMS         0\n",
              "QS_BATHROOM      0\n",
              "QS_BEDROOM       0\n",
              "QS_OVERALL       0\n",
              "SALES_PRICE      0\n",
              "dtype: int64"
            ]
          },
          "metadata": {},
          "execution_count": 16
        }
      ],
      "source": [
        "df.isnull().sum()"
      ]
    },
    {
      "cell_type": "markdown",
      "metadata": {
        "id": "SAWnMbh-DvIy"
      },
      "source": [
        "Removing the duplicates"
      ]
    },
    {
      "cell_type": "code",
      "execution_count": 17,
      "metadata": {
        "colab": {
          "base_uri": "https://localhost:8080/",
          "height": 357
        },
        "id": "Pf-By88tC48-",
        "outputId": "d6c47fc1-cb98-4ba7-fb10-7d439cbbb45f"
      },
      "outputs": [
        {
          "output_type": "execute_result",
          "data": {
            "text/plain": [
              "         AREA  INT_SQFT   DATE_SALE  DIST_MAINROAD  N_BEDROOM  N_BATHROOM  \\\n",
              "0  Karapakkam      1004  04-05-2011            131        1.0         1.0   \n",
              "1  Anna Nagar      1986  19-12-2006             26        2.0         1.0   \n",
              "2       Adyar       909  04-02-2012             70        1.0         1.0   \n",
              "3   Velachery      1855  13-03-2010             14        3.0         2.0   \n",
              "4  Karapakkam      1226  05-10-2009             84        1.0         1.0   \n",
              "\n",
              "   N_ROOM SALE_COND PARK_FACIL  DATE_BUILD   BUILDTYPE UTILITY_AVAIL  STREET  \\\n",
              "0       3  AbNormal        Yes  15-05-1967  Commercial        AllPub   Paved   \n",
              "1       5  AbNormal         No  22-12-1995  Commercial        AllPub  Gravel   \n",
              "2       3  AbNormal        Yes  09-02-1992  Commercial           ELO  Gravel   \n",
              "3       5    Family         No  18-03-1988      Others       NoSewr    Paved   \n",
              "4       3  AbNormal        Yes  13-10-1979      Others        AllPub  Gravel   \n",
              "\n",
              "  MZZONE  QS_ROOMS  QS_BATHROOM  QS_BEDROOM  QS_OVERALL  SALES_PRICE  \n",
              "0      A       4.0          3.9         4.9       4.330      7600000  \n",
              "1     RH       4.9          4.2         2.5       3.765     21717770  \n",
              "2     RL       4.1          3.8         2.2       3.090     13159200  \n",
              "3      I       4.7          3.9         3.6       4.010      9630290  \n",
              "4      C       3.0          2.5         4.1       3.290      7406250  "
            ],
            "text/html": [
              "\n",
              "  <div id=\"df-2cf2419e-63c9-4b89-87e0-b962a95ba532\">\n",
              "    <div class=\"colab-df-container\">\n",
              "      <div>\n",
              "<style scoped>\n",
              "    .dataframe tbody tr th:only-of-type {\n",
              "        vertical-align: middle;\n",
              "    }\n",
              "\n",
              "    .dataframe tbody tr th {\n",
              "        vertical-align: top;\n",
              "    }\n",
              "\n",
              "    .dataframe thead th {\n",
              "        text-align: right;\n",
              "    }\n",
              "</style>\n",
              "<table border=\"1\" class=\"dataframe\">\n",
              "  <thead>\n",
              "    <tr style=\"text-align: right;\">\n",
              "      <th></th>\n",
              "      <th>AREA</th>\n",
              "      <th>INT_SQFT</th>\n",
              "      <th>DATE_SALE</th>\n",
              "      <th>DIST_MAINROAD</th>\n",
              "      <th>N_BEDROOM</th>\n",
              "      <th>N_BATHROOM</th>\n",
              "      <th>N_ROOM</th>\n",
              "      <th>SALE_COND</th>\n",
              "      <th>PARK_FACIL</th>\n",
              "      <th>DATE_BUILD</th>\n",
              "      <th>BUILDTYPE</th>\n",
              "      <th>UTILITY_AVAIL</th>\n",
              "      <th>STREET</th>\n",
              "      <th>MZZONE</th>\n",
              "      <th>QS_ROOMS</th>\n",
              "      <th>QS_BATHROOM</th>\n",
              "      <th>QS_BEDROOM</th>\n",
              "      <th>QS_OVERALL</th>\n",
              "      <th>SALES_PRICE</th>\n",
              "    </tr>\n",
              "  </thead>\n",
              "  <tbody>\n",
              "    <tr>\n",
              "      <th>0</th>\n",
              "      <td>Karapakkam</td>\n",
              "      <td>1004</td>\n",
              "      <td>04-05-2011</td>\n",
              "      <td>131</td>\n",
              "      <td>1.0</td>\n",
              "      <td>1.0</td>\n",
              "      <td>3</td>\n",
              "      <td>AbNormal</td>\n",
              "      <td>Yes</td>\n",
              "      <td>15-05-1967</td>\n",
              "      <td>Commercial</td>\n",
              "      <td>AllPub</td>\n",
              "      <td>Paved</td>\n",
              "      <td>A</td>\n",
              "      <td>4.0</td>\n",
              "      <td>3.9</td>\n",
              "      <td>4.9</td>\n",
              "      <td>4.330</td>\n",
              "      <td>7600000</td>\n",
              "    </tr>\n",
              "    <tr>\n",
              "      <th>1</th>\n",
              "      <td>Anna Nagar</td>\n",
              "      <td>1986</td>\n",
              "      <td>19-12-2006</td>\n",
              "      <td>26</td>\n",
              "      <td>2.0</td>\n",
              "      <td>1.0</td>\n",
              "      <td>5</td>\n",
              "      <td>AbNormal</td>\n",
              "      <td>No</td>\n",
              "      <td>22-12-1995</td>\n",
              "      <td>Commercial</td>\n",
              "      <td>AllPub</td>\n",
              "      <td>Gravel</td>\n",
              "      <td>RH</td>\n",
              "      <td>4.9</td>\n",
              "      <td>4.2</td>\n",
              "      <td>2.5</td>\n",
              "      <td>3.765</td>\n",
              "      <td>21717770</td>\n",
              "    </tr>\n",
              "    <tr>\n",
              "      <th>2</th>\n",
              "      <td>Adyar</td>\n",
              "      <td>909</td>\n",
              "      <td>04-02-2012</td>\n",
              "      <td>70</td>\n",
              "      <td>1.0</td>\n",
              "      <td>1.0</td>\n",
              "      <td>3</td>\n",
              "      <td>AbNormal</td>\n",
              "      <td>Yes</td>\n",
              "      <td>09-02-1992</td>\n",
              "      <td>Commercial</td>\n",
              "      <td>ELO</td>\n",
              "      <td>Gravel</td>\n",
              "      <td>RL</td>\n",
              "      <td>4.1</td>\n",
              "      <td>3.8</td>\n",
              "      <td>2.2</td>\n",
              "      <td>3.090</td>\n",
              "      <td>13159200</td>\n",
              "    </tr>\n",
              "    <tr>\n",
              "      <th>3</th>\n",
              "      <td>Velachery</td>\n",
              "      <td>1855</td>\n",
              "      <td>13-03-2010</td>\n",
              "      <td>14</td>\n",
              "      <td>3.0</td>\n",
              "      <td>2.0</td>\n",
              "      <td>5</td>\n",
              "      <td>Family</td>\n",
              "      <td>No</td>\n",
              "      <td>18-03-1988</td>\n",
              "      <td>Others</td>\n",
              "      <td>NoSewr</td>\n",
              "      <td>Paved</td>\n",
              "      <td>I</td>\n",
              "      <td>4.7</td>\n",
              "      <td>3.9</td>\n",
              "      <td>3.6</td>\n",
              "      <td>4.010</td>\n",
              "      <td>9630290</td>\n",
              "    </tr>\n",
              "    <tr>\n",
              "      <th>4</th>\n",
              "      <td>Karapakkam</td>\n",
              "      <td>1226</td>\n",
              "      <td>05-10-2009</td>\n",
              "      <td>84</td>\n",
              "      <td>1.0</td>\n",
              "      <td>1.0</td>\n",
              "      <td>3</td>\n",
              "      <td>AbNormal</td>\n",
              "      <td>Yes</td>\n",
              "      <td>13-10-1979</td>\n",
              "      <td>Others</td>\n",
              "      <td>AllPub</td>\n",
              "      <td>Gravel</td>\n",
              "      <td>C</td>\n",
              "      <td>3.0</td>\n",
              "      <td>2.5</td>\n",
              "      <td>4.1</td>\n",
              "      <td>3.290</td>\n",
              "      <td>7406250</td>\n",
              "    </tr>\n",
              "  </tbody>\n",
              "</table>\n",
              "</div>\n",
              "      <button class=\"colab-df-convert\" onclick=\"convertToInteractive('df-2cf2419e-63c9-4b89-87e0-b962a95ba532')\"\n",
              "              title=\"Convert this dataframe to an interactive table.\"\n",
              "              style=\"display:none;\">\n",
              "        \n",
              "  <svg xmlns=\"http://www.w3.org/2000/svg\" height=\"24px\"viewBox=\"0 0 24 24\"\n",
              "       width=\"24px\">\n",
              "    <path d=\"M0 0h24v24H0V0z\" fill=\"none\"/>\n",
              "    <path d=\"M18.56 5.44l.94 2.06.94-2.06 2.06-.94-2.06-.94-.94-2.06-.94 2.06-2.06.94zm-11 1L8.5 8.5l.94-2.06 2.06-.94-2.06-.94L8.5 2.5l-.94 2.06-2.06.94zm10 10l.94 2.06.94-2.06 2.06-.94-2.06-.94-.94-2.06-.94 2.06-2.06.94z\"/><path d=\"M17.41 7.96l-1.37-1.37c-.4-.4-.92-.59-1.43-.59-.52 0-1.04.2-1.43.59L10.3 9.45l-7.72 7.72c-.78.78-.78 2.05 0 2.83L4 21.41c.39.39.9.59 1.41.59.51 0 1.02-.2 1.41-.59l7.78-7.78 2.81-2.81c.8-.78.8-2.07 0-2.86zM5.41 20L4 18.59l7.72-7.72 1.47 1.35L5.41 20z\"/>\n",
              "  </svg>\n",
              "      </button>\n",
              "      \n",
              "  <style>\n",
              "    .colab-df-container {\n",
              "      display:flex;\n",
              "      flex-wrap:wrap;\n",
              "      gap: 12px;\n",
              "    }\n",
              "\n",
              "    .colab-df-convert {\n",
              "      background-color: #E8F0FE;\n",
              "      border: none;\n",
              "      border-radius: 50%;\n",
              "      cursor: pointer;\n",
              "      display: none;\n",
              "      fill: #1967D2;\n",
              "      height: 32px;\n",
              "      padding: 0 0 0 0;\n",
              "      width: 32px;\n",
              "    }\n",
              "\n",
              "    .colab-df-convert:hover {\n",
              "      background-color: #E2EBFA;\n",
              "      box-shadow: 0px 1px 2px rgba(60, 64, 67, 0.3), 0px 1px 3px 1px rgba(60, 64, 67, 0.15);\n",
              "      fill: #174EA6;\n",
              "    }\n",
              "\n",
              "    [theme=dark] .colab-df-convert {\n",
              "      background-color: #3B4455;\n",
              "      fill: #D2E3FC;\n",
              "    }\n",
              "\n",
              "    [theme=dark] .colab-df-convert:hover {\n",
              "      background-color: #434B5C;\n",
              "      box-shadow: 0px 1px 3px 1px rgba(0, 0, 0, 0.15);\n",
              "      filter: drop-shadow(0px 1px 2px rgba(0, 0, 0, 0.3));\n",
              "      fill: #FFFFFF;\n",
              "    }\n",
              "  </style>\n",
              "\n",
              "      <script>\n",
              "        const buttonEl =\n",
              "          document.querySelector('#df-2cf2419e-63c9-4b89-87e0-b962a95ba532 button.colab-df-convert');\n",
              "        buttonEl.style.display =\n",
              "          google.colab.kernel.accessAllowed ? 'block' : 'none';\n",
              "\n",
              "        async function convertToInteractive(key) {\n",
              "          const element = document.querySelector('#df-2cf2419e-63c9-4b89-87e0-b962a95ba532');\n",
              "          const dataTable =\n",
              "            await google.colab.kernel.invokeFunction('convertToInteractive',\n",
              "                                                     [key], {});\n",
              "          if (!dataTable) return;\n",
              "\n",
              "          const docLinkHtml = 'Like what you see? Visit the ' +\n",
              "            '<a target=\"_blank\" href=https://colab.research.google.com/notebooks/data_table.ipynb>data table notebook</a>'\n",
              "            + ' to learn more about interactive tables.';\n",
              "          element.innerHTML = '';\n",
              "          dataTable['output_type'] = 'display_data';\n",
              "          await google.colab.output.renderOutput(dataTable, element);\n",
              "          const docLink = document.createElement('div');\n",
              "          docLink.innerHTML = docLinkHtml;\n",
              "          element.appendChild(docLink);\n",
              "        }\n",
              "      </script>\n",
              "    </div>\n",
              "  </div>\n",
              "  "
            ]
          },
          "metadata": {},
          "execution_count": 17
        }
      ],
      "source": [
        "df = df.drop_duplicates()\n",
        "df.head()"
      ]
    },
    {
      "cell_type": "markdown",
      "metadata": {
        "id": "tRAF_hiJD8vU"
      },
      "source": [
        "checking datatypes"
      ]
    },
    {
      "cell_type": "code",
      "execution_count": 18,
      "metadata": {
        "colab": {
          "base_uri": "https://localhost:8080/"
        },
        "id": "R-00vbssD_Oi",
        "outputId": "1614135c-236c-4a8c-b0a8-9dd613557958"
      },
      "outputs": [
        {
          "output_type": "execute_result",
          "data": {
            "text/plain": [
              "AREA              object\n",
              "INT_SQFT           int64\n",
              "DATE_SALE         object\n",
              "DIST_MAINROAD      int64\n",
              "N_BEDROOM        float64\n",
              "N_BATHROOM       float64\n",
              "N_ROOM             int64\n",
              "SALE_COND         object\n",
              "PARK_FACIL        object\n",
              "DATE_BUILD        object\n",
              "BUILDTYPE         object\n",
              "UTILITY_AVAIL     object\n",
              "STREET            object\n",
              "MZZONE            object\n",
              "QS_ROOMS         float64\n",
              "QS_BATHROOM      float64\n",
              "QS_BEDROOM       float64\n",
              "QS_OVERALL       float64\n",
              "SALES_PRICE        int64\n",
              "dtype: object"
            ]
          },
          "metadata": {},
          "execution_count": 18
        }
      ],
      "source": [
        "df.dtypes"
      ]
    },
    {
      "cell_type": "markdown",
      "metadata": {
        "id": "PHrgBwjwH5yi"
      },
      "source": [
        "Updating unproper datatype to proper datatype format"
      ]
    },
    {
      "cell_type": "code",
      "execution_count": 19,
      "metadata": {
        "id": "4zaGoXfcH33Z"
      },
      "outputs": [],
      "source": [
        "df['DATE_SALE']=df['DATE_SALE'].astype('datetime64[ns]')\n",
        "df['N_BEDROOM']=df['N_BEDROOM'].astype('int')\n",
        "df['N_BATHROOM']=df['N_BATHROOM'].astype('int')\n",
        "df['DATE_BUILD']=df['DATE_BUILD'].astype('datetime64[ns]')"
      ]
    },
    {
      "cell_type": "code",
      "execution_count": 20,
      "metadata": {
        "colab": {
          "base_uri": "https://localhost:8080/"
        },
        "id": "AUNlPa7sJv4N",
        "outputId": "1819b164-cb67-4bf1-a8b2-a01c3287a29b"
      },
      "outputs": [
        {
          "output_type": "execute_result",
          "data": {
            "text/plain": [
              "AREA                     object\n",
              "INT_SQFT                  int64\n",
              "DATE_SALE        datetime64[ns]\n",
              "DIST_MAINROAD             int64\n",
              "N_BEDROOM                 int64\n",
              "N_BATHROOM                int64\n",
              "N_ROOM                    int64\n",
              "SALE_COND                object\n",
              "PARK_FACIL               object\n",
              "DATE_BUILD       datetime64[ns]\n",
              "BUILDTYPE                object\n",
              "UTILITY_AVAIL            object\n",
              "STREET                   object\n",
              "MZZONE                   object\n",
              "QS_ROOMS                float64\n",
              "QS_BATHROOM             float64\n",
              "QS_BEDROOM              float64\n",
              "QS_OVERALL              float64\n",
              "SALES_PRICE               int64\n",
              "dtype: object"
            ]
          },
          "metadata": {},
          "execution_count": 20
        }
      ],
      "source": [
        "df.dtypes"
      ]
    },
    {
      "cell_type": "markdown",
      "metadata": {
        "id": "KXVyL6ciKpsl"
      },
      "source": [
        "creating Age of the Buliding columns based on the datesales and datebuilds columns"
      ]
    },
    {
      "cell_type": "code",
      "execution_count": 21,
      "metadata": {
        "colab": {
          "base_uri": "https://localhost:8080/"
        },
        "id": "JG_GUgr8K8pE",
        "outputId": "00376a2f-e460-43cb-cb6e-886e6aab0cf6"
      },
      "outputs": [
        {
          "output_type": "execute_result",
          "data": {
            "text/plain": [
              "0    44\n",
              "1    11\n",
              "2    20\n",
              "3    22\n",
              "4    30\n",
              "Name: BULIDING_AGE, dtype: int64"
            ]
          },
          "metadata": {},
          "execution_count": 21
        }
      ],
      "source": [
        "df['BULIDING_AGE']=pd.DatetimeIndex(df['DATE_SALE']).year - pd.DatetimeIndex(df['DATE_BUILD']).year\n",
        "df['BULIDING_AGE'].head()"
      ]
    },
    {
      "cell_type": "code",
      "execution_count": 22,
      "metadata": {
        "colab": {
          "base_uri": "https://localhost:8080/"
        },
        "id": "FGW7hcyRKo47",
        "outputId": "dff291ba-56f4-4bac-9025-b48ab28c2312"
      },
      "outputs": [
        {
          "output_type": "execute_result",
          "data": {
            "text/plain": [
              "AREA                     object\n",
              "INT_SQFT                  int64\n",
              "DATE_SALE        datetime64[ns]\n",
              "DIST_MAINROAD             int64\n",
              "N_BEDROOM                 int64\n",
              "N_BATHROOM                int64\n",
              "N_ROOM                    int64\n",
              "SALE_COND                object\n",
              "PARK_FACIL               object\n",
              "DATE_BUILD       datetime64[ns]\n",
              "BUILDTYPE                object\n",
              "UTILITY_AVAIL            object\n",
              "STREET                   object\n",
              "MZZONE                   object\n",
              "QS_ROOMS                float64\n",
              "QS_BATHROOM             float64\n",
              "QS_BEDROOM              float64\n",
              "QS_OVERALL              float64\n",
              "SALES_PRICE               int64\n",
              "BULIDING_AGE              int64\n",
              "dtype: object"
            ]
          },
          "metadata": {},
          "execution_count": 22
        }
      ],
      "source": [
        "df.dtypes"
      ]
    },
    {
      "cell_type": "markdown",
      "metadata": {
        "id": "S6BPUOYyPD86"
      },
      "source": [
        "Describing the Numerical Columns"
      ]
    },
    {
      "cell_type": "code",
      "execution_count": 23,
      "metadata": {
        "colab": {
          "base_uri": "https://localhost:8080/",
          "height": 364
        },
        "id": "e4mtFYz8J5A2",
        "outputId": "ad07b5c8-dfc3-4a05-ed43-6bf621f61e2f"
      },
      "outputs": [
        {
          "output_type": "execute_result",
          "data": {
            "text/plain": [
              "          INT_SQFT  DIST_MAINROAD    N_BEDROOM   N_BATHROOM       N_ROOM  \\\n",
              "count  7109.000000    7109.000000  7109.000000  7109.000000  7109.000000   \n",
              "mean   1382.073006      99.603179     1.636939     1.213110     3.688704   \n",
              "std     457.410902      57.403110     0.802881     0.409534     1.019099   \n",
              "min     500.000000       0.000000     1.000000     1.000000     2.000000   \n",
              "25%     993.000000      50.000000     1.000000     1.000000     3.000000   \n",
              "50%    1373.000000      99.000000     1.000000     1.000000     4.000000   \n",
              "75%    1744.000000     148.000000     2.000000     1.000000     4.000000   \n",
              "max    2500.000000     200.000000     4.000000     2.000000     6.000000   \n",
              "\n",
              "          QS_ROOMS  QS_BATHROOM   QS_BEDROOM   QS_OVERALL   SALES_PRICE  \\\n",
              "count  7109.000000  7109.000000  7109.000000  7109.000000  7.109000e+03   \n",
              "mean      3.517471     3.507244     3.485300     3.503254  1.089491e+07   \n",
              "std       0.891972     0.897834     0.887266     0.525440  3.768603e+06   \n",
              "min       2.000000     2.000000     2.000000     2.000000  2.156875e+06   \n",
              "25%       2.700000     2.700000     2.700000     3.130000  8.272100e+06   \n",
              "50%       3.500000     3.500000     3.500000     3.503254  1.033505e+07   \n",
              "75%       4.300000     4.300000     4.300000     3.880000  1.299390e+07   \n",
              "max       5.000000     5.000000     5.000000     4.970000  2.366734e+07   \n",
              "\n",
              "       BULIDING_AGE  \n",
              "count   7109.000000  \n",
              "mean      24.276270  \n",
              "std       12.334164  \n",
              "min        3.000000  \n",
              "25%       14.000000  \n",
              "50%       23.000000  \n",
              "75%       34.000000  \n",
              "max       55.000000  "
            ],
            "text/html": [
              "\n",
              "  <div id=\"df-5750096a-4103-4d00-8ac9-027e0dac4171\">\n",
              "    <div class=\"colab-df-container\">\n",
              "      <div>\n",
              "<style scoped>\n",
              "    .dataframe tbody tr th:only-of-type {\n",
              "        vertical-align: middle;\n",
              "    }\n",
              "\n",
              "    .dataframe tbody tr th {\n",
              "        vertical-align: top;\n",
              "    }\n",
              "\n",
              "    .dataframe thead th {\n",
              "        text-align: right;\n",
              "    }\n",
              "</style>\n",
              "<table border=\"1\" class=\"dataframe\">\n",
              "  <thead>\n",
              "    <tr style=\"text-align: right;\">\n",
              "      <th></th>\n",
              "      <th>INT_SQFT</th>\n",
              "      <th>DIST_MAINROAD</th>\n",
              "      <th>N_BEDROOM</th>\n",
              "      <th>N_BATHROOM</th>\n",
              "      <th>N_ROOM</th>\n",
              "      <th>QS_ROOMS</th>\n",
              "      <th>QS_BATHROOM</th>\n",
              "      <th>QS_BEDROOM</th>\n",
              "      <th>QS_OVERALL</th>\n",
              "      <th>SALES_PRICE</th>\n",
              "      <th>BULIDING_AGE</th>\n",
              "    </tr>\n",
              "  </thead>\n",
              "  <tbody>\n",
              "    <tr>\n",
              "      <th>count</th>\n",
              "      <td>7109.000000</td>\n",
              "      <td>7109.000000</td>\n",
              "      <td>7109.000000</td>\n",
              "      <td>7109.000000</td>\n",
              "      <td>7109.000000</td>\n",
              "      <td>7109.000000</td>\n",
              "      <td>7109.000000</td>\n",
              "      <td>7109.000000</td>\n",
              "      <td>7109.000000</td>\n",
              "      <td>7.109000e+03</td>\n",
              "      <td>7109.000000</td>\n",
              "    </tr>\n",
              "    <tr>\n",
              "      <th>mean</th>\n",
              "      <td>1382.073006</td>\n",
              "      <td>99.603179</td>\n",
              "      <td>1.636939</td>\n",
              "      <td>1.213110</td>\n",
              "      <td>3.688704</td>\n",
              "      <td>3.517471</td>\n",
              "      <td>3.507244</td>\n",
              "      <td>3.485300</td>\n",
              "      <td>3.503254</td>\n",
              "      <td>1.089491e+07</td>\n",
              "      <td>24.276270</td>\n",
              "    </tr>\n",
              "    <tr>\n",
              "      <th>std</th>\n",
              "      <td>457.410902</td>\n",
              "      <td>57.403110</td>\n",
              "      <td>0.802881</td>\n",
              "      <td>0.409534</td>\n",
              "      <td>1.019099</td>\n",
              "      <td>0.891972</td>\n",
              "      <td>0.897834</td>\n",
              "      <td>0.887266</td>\n",
              "      <td>0.525440</td>\n",
              "      <td>3.768603e+06</td>\n",
              "      <td>12.334164</td>\n",
              "    </tr>\n",
              "    <tr>\n",
              "      <th>min</th>\n",
              "      <td>500.000000</td>\n",
              "      <td>0.000000</td>\n",
              "      <td>1.000000</td>\n",
              "      <td>1.000000</td>\n",
              "      <td>2.000000</td>\n",
              "      <td>2.000000</td>\n",
              "      <td>2.000000</td>\n",
              "      <td>2.000000</td>\n",
              "      <td>2.000000</td>\n",
              "      <td>2.156875e+06</td>\n",
              "      <td>3.000000</td>\n",
              "    </tr>\n",
              "    <tr>\n",
              "      <th>25%</th>\n",
              "      <td>993.000000</td>\n",
              "      <td>50.000000</td>\n",
              "      <td>1.000000</td>\n",
              "      <td>1.000000</td>\n",
              "      <td>3.000000</td>\n",
              "      <td>2.700000</td>\n",
              "      <td>2.700000</td>\n",
              "      <td>2.700000</td>\n",
              "      <td>3.130000</td>\n",
              "      <td>8.272100e+06</td>\n",
              "      <td>14.000000</td>\n",
              "    </tr>\n",
              "    <tr>\n",
              "      <th>50%</th>\n",
              "      <td>1373.000000</td>\n",
              "      <td>99.000000</td>\n",
              "      <td>1.000000</td>\n",
              "      <td>1.000000</td>\n",
              "      <td>4.000000</td>\n",
              "      <td>3.500000</td>\n",
              "      <td>3.500000</td>\n",
              "      <td>3.500000</td>\n",
              "      <td>3.503254</td>\n",
              "      <td>1.033505e+07</td>\n",
              "      <td>23.000000</td>\n",
              "    </tr>\n",
              "    <tr>\n",
              "      <th>75%</th>\n",
              "      <td>1744.000000</td>\n",
              "      <td>148.000000</td>\n",
              "      <td>2.000000</td>\n",
              "      <td>1.000000</td>\n",
              "      <td>4.000000</td>\n",
              "      <td>4.300000</td>\n",
              "      <td>4.300000</td>\n",
              "      <td>4.300000</td>\n",
              "      <td>3.880000</td>\n",
              "      <td>1.299390e+07</td>\n",
              "      <td>34.000000</td>\n",
              "    </tr>\n",
              "    <tr>\n",
              "      <th>max</th>\n",
              "      <td>2500.000000</td>\n",
              "      <td>200.000000</td>\n",
              "      <td>4.000000</td>\n",
              "      <td>2.000000</td>\n",
              "      <td>6.000000</td>\n",
              "      <td>5.000000</td>\n",
              "      <td>5.000000</td>\n",
              "      <td>5.000000</td>\n",
              "      <td>4.970000</td>\n",
              "      <td>2.366734e+07</td>\n",
              "      <td>55.000000</td>\n",
              "    </tr>\n",
              "  </tbody>\n",
              "</table>\n",
              "</div>\n",
              "      <button class=\"colab-df-convert\" onclick=\"convertToInteractive('df-5750096a-4103-4d00-8ac9-027e0dac4171')\"\n",
              "              title=\"Convert this dataframe to an interactive table.\"\n",
              "              style=\"display:none;\">\n",
              "        \n",
              "  <svg xmlns=\"http://www.w3.org/2000/svg\" height=\"24px\"viewBox=\"0 0 24 24\"\n",
              "       width=\"24px\">\n",
              "    <path d=\"M0 0h24v24H0V0z\" fill=\"none\"/>\n",
              "    <path d=\"M18.56 5.44l.94 2.06.94-2.06 2.06-.94-2.06-.94-.94-2.06-.94 2.06-2.06.94zm-11 1L8.5 8.5l.94-2.06 2.06-.94-2.06-.94L8.5 2.5l-.94 2.06-2.06.94zm10 10l.94 2.06.94-2.06 2.06-.94-2.06-.94-.94-2.06-.94 2.06-2.06.94z\"/><path d=\"M17.41 7.96l-1.37-1.37c-.4-.4-.92-.59-1.43-.59-.52 0-1.04.2-1.43.59L10.3 9.45l-7.72 7.72c-.78.78-.78 2.05 0 2.83L4 21.41c.39.39.9.59 1.41.59.51 0 1.02-.2 1.41-.59l7.78-7.78 2.81-2.81c.8-.78.8-2.07 0-2.86zM5.41 20L4 18.59l7.72-7.72 1.47 1.35L5.41 20z\"/>\n",
              "  </svg>\n",
              "      </button>\n",
              "      \n",
              "  <style>\n",
              "    .colab-df-container {\n",
              "      display:flex;\n",
              "      flex-wrap:wrap;\n",
              "      gap: 12px;\n",
              "    }\n",
              "\n",
              "    .colab-df-convert {\n",
              "      background-color: #E8F0FE;\n",
              "      border: none;\n",
              "      border-radius: 50%;\n",
              "      cursor: pointer;\n",
              "      display: none;\n",
              "      fill: #1967D2;\n",
              "      height: 32px;\n",
              "      padding: 0 0 0 0;\n",
              "      width: 32px;\n",
              "    }\n",
              "\n",
              "    .colab-df-convert:hover {\n",
              "      background-color: #E2EBFA;\n",
              "      box-shadow: 0px 1px 2px rgba(60, 64, 67, 0.3), 0px 1px 3px 1px rgba(60, 64, 67, 0.15);\n",
              "      fill: #174EA6;\n",
              "    }\n",
              "\n",
              "    [theme=dark] .colab-df-convert {\n",
              "      background-color: #3B4455;\n",
              "      fill: #D2E3FC;\n",
              "    }\n",
              "\n",
              "    [theme=dark] .colab-df-convert:hover {\n",
              "      background-color: #434B5C;\n",
              "      box-shadow: 0px 1px 3px 1px rgba(0, 0, 0, 0.15);\n",
              "      filter: drop-shadow(0px 1px 2px rgba(0, 0, 0, 0.3));\n",
              "      fill: #FFFFFF;\n",
              "    }\n",
              "  </style>\n",
              "\n",
              "      <script>\n",
              "        const buttonEl =\n",
              "          document.querySelector('#df-5750096a-4103-4d00-8ac9-027e0dac4171 button.colab-df-convert');\n",
              "        buttonEl.style.display =\n",
              "          google.colab.kernel.accessAllowed ? 'block' : 'none';\n",
              "\n",
              "        async function convertToInteractive(key) {\n",
              "          const element = document.querySelector('#df-5750096a-4103-4d00-8ac9-027e0dac4171');\n",
              "          const dataTable =\n",
              "            await google.colab.kernel.invokeFunction('convertToInteractive',\n",
              "                                                     [key], {});\n",
              "          if (!dataTable) return;\n",
              "\n",
              "          const docLinkHtml = 'Like what you see? Visit the ' +\n",
              "            '<a target=\"_blank\" href=https://colab.research.google.com/notebooks/data_table.ipynb>data table notebook</a>'\n",
              "            + ' to learn more about interactive tables.';\n",
              "          element.innerHTML = '';\n",
              "          dataTable['output_type'] = 'display_data';\n",
              "          await google.colab.output.renderOutput(dataTable, element);\n",
              "          const docLink = document.createElement('div');\n",
              "          docLink.innerHTML = docLinkHtml;\n",
              "          element.appendChild(docLink);\n",
              "        }\n",
              "      </script>\n",
              "    </div>\n",
              "  </div>\n",
              "  "
            ]
          },
          "metadata": {},
          "execution_count": 23
        }
      ],
      "source": [
        "df.describe()"
      ]
    },
    {
      "cell_type": "markdown",
      "metadata": {
        "id": "x6OT4bHPXPGL"
      },
      "source": [
        "Checking unique element in categorical colums"
      ]
    },
    {
      "cell_type": "code",
      "execution_count": 24,
      "metadata": {
        "colab": {
          "base_uri": "https://localhost:8080/"
        },
        "id": "26TkhnMvDa5a",
        "outputId": "9ce478b1-9bbb-43d1-a24b-60eb2220977a"
      },
      "outputs": [
        {
          "output_type": "stream",
          "name": "stdout",
          "text": [
            "['Karapakkam' 'Anna Nagar' 'Adyar' 'Velachery' 'Chrompet' 'KK Nagar'\n",
            " 'TNagar' 'T Nagar' 'Chrompt' 'Chrmpet' 'Karapakam' 'Ana Nagar' 'Chormpet'\n",
            " 'Adyr' 'Velchery' 'Ann Nagar' 'KKNagar']\n",
            "['AbNormal' 'Family' 'Partial' 'AdjLand' 'Normal Sale' 'Ab Normal'\n",
            " 'Partiall' 'Adj Land' 'PartiaLl']\n",
            "['Yes' 'No' 'Noo']\n",
            "['Commercial' 'Others' 'Other' 'House' 'Comercial']\n",
            "['AllPub' 'ELO' 'NoSewr ' 'NoSeWa' 'All Pub']\n",
            "['Paved' 'Gravel' 'No Access' 'Pavd' 'NoAccess']\n",
            "['A' 'RH' 'RL' 'I' 'C' 'RM']\n"
          ]
        }
      ],
      "source": [
        "print(df.AREA.unique())\n",
        "print(df.SALE_COND.unique())\n",
        "print(df.PARK_FACIL.unique())\n",
        "print(df.BUILDTYPE.unique())\n",
        "print(df.UTILITY_AVAIL.unique())\n",
        "print(df.STREET.unique())\n",
        "print(df.MZZONE.unique())"
      ]
    },
    {
      "cell_type": "markdown",
      "metadata": {
        "id": "H34JXa7YY9Dj"
      },
      "source": [
        "correcting the spelling mistakes in categorical columns"
      ]
    },
    {
      "cell_type": "code",
      "execution_count": 25,
      "metadata": {
        "id": "p_5dF_BFXKuO"
      },
      "outputs": [],
      "source": [
        "df['AREA'].replace(['karapakam','Karapakam'],'Karapakkam',inplace=True)\n",
        "df['AREA'].replace(['Ana Nagar','Ann Nagar'],'Anna Nagar',inplace=True)\n",
        "df['AREA'].replace(['Adyr'],'Adyar',inplace=True)\n",
        "df['AREA'].replace(['Velchery'],'Velachery',inplace=True)\n",
        "df['AREA'].replace(['Chrompt','Chrmpet','Chormpet'],'Chrompet',inplace=True)\n",
        "df['AREA'].replace(['KKNagar'],'KK Nagar',inplace=True)\n",
        "df['AREA'].replace(['TNagar'],'T Nagar',inplace=True)\n",
        "\n",
        "df['SALE_COND'].replace(['Ab Normal'],'AbNormal',inplace=True)\n",
        "df['SALE_COND'].replace(['PartiaLl','Partiall'],'Partial',inplace=True)\n",
        "df['SALE_COND'].replace(['Adj Land'],'AdjLand',inplace=True)\n",
        "\n",
        "df['PARK_FACIL'].replace(['Noo'],'No',inplace=True)\n",
        "\n",
        "df['BUILDTYPE'].replace(['Comercial'],'Commercial',inplace=True)\n",
        "df['BUILDTYPE'].replace(['Others'],'Other',inplace=True)\n",
        "\n",
        "df['UTILITY_AVAIL'].replace(['AllPub'],'All Pub',inplace=True)\n",
        "df['UTILITY_AVAIL'].replace(['NoSewr ','NoSeWa'],'NoSewr',inplace=True)\n",
        "\n",
        "df['STREET'].replace(['Pavd'],'Paved',inplace=True)\n",
        "df['STREET'].replace(['NoAccess'],'No Access',inplace=True)"
      ]
    },
    {
      "cell_type": "markdown",
      "metadata": {
        "id": "fd6mT8bPcvl5"
      },
      "source": [
        "After correcting all spelling mistakes in categorical colums therefore Rechecking the unique element."
      ]
    },
    {
      "cell_type": "code",
      "execution_count": 26,
      "metadata": {
        "colab": {
          "base_uri": "https://localhost:8080/"
        },
        "id": "TqihhXyscmJu",
        "outputId": "fc86471e-ec87-4363-b106-dc0e6298e148"
      },
      "outputs": [
        {
          "output_type": "stream",
          "name": "stdout",
          "text": [
            "['Karapakkam' 'Anna Nagar' 'Adyar' 'Velachery' 'Chrompet' 'KK Nagar'\n",
            " 'T Nagar']\n",
            "['AbNormal' 'Family' 'Partial' 'AdjLand' 'Normal Sale']\n",
            "['Yes' 'No']\n",
            "['Commercial' 'Other' 'House']\n",
            "['All Pub' 'ELO' 'NoSewr']\n",
            "['Paved' 'Gravel' 'No Access']\n",
            "['A' 'RH' 'RL' 'I' 'C' 'RM']\n"
          ]
        }
      ],
      "source": [
        "print(df.AREA.unique())\n",
        "print(df.SALE_COND.unique())\n",
        "print(df.PARK_FACIL.unique())\n",
        "print(df.BUILDTYPE.unique())\n",
        "print(df.UTILITY_AVAIL.unique())\n",
        "print(df.STREET.unique())\n",
        "print(df.MZZONE.unique())"
      ]
    },
    {
      "cell_type": "markdown",
      "metadata": {
        "id": "2a1N0snedxEP"
      },
      "source": [
        "**EXPLORTARY DATA ANALYSIS **(EDA)\n",
        "\n",
        "EDA for Categorical Columns and Numerical Columns"
      ]
    },
    {
      "cell_type": "markdown",
      "source": [
        "EDA FOR CATEGORICAL COLUMNS\n",
        "\n",
        "\n",
        "\n",
        "\n"
      ],
      "metadata": {
        "id": "tW4ApIWgftqq"
      }
    },
    {
      "cell_type": "markdown",
      "source": [
        "Checking relationship in between the 'AREA' FEATURE and 'SALE_PRICE' Target columns"
      ],
      "metadata": {
        "id": "GT4qPpjDCHnS"
      }
    },
    {
      "cell_type": "code",
      "source": [
        "sns.displot(df.AREA,linewidth=0,kde=True)\n",
        "plt.xticks(rotation=45)"
      ],
      "metadata": {
        "colab": {
          "base_uri": "https://localhost:8080/",
          "height": 427
        },
        "id": "g3nb_QbY5h1S",
        "outputId": "7b6b56c0-3eb3-4409-dab8-9ce01bddaccf"
      },
      "execution_count": 27,
      "outputs": [
        {
          "output_type": "execute_result",
          "data": {
            "text/plain": [
              "([0, 1, 2, 3, 4, 5, 6], <a list of 7 Text major ticklabel objects>)"
            ]
          },
          "metadata": {},
          "execution_count": 27
        },
        {
          "output_type": "display_data",
          "data": {
            "text/plain": [
              "<Figure size 360x360 with 1 Axes>"
            ],
            "image/png": "[encoded data removed]"
          },
          "metadata": {
            "needs_background": "light"
          }
        }
      ]
    },
    {
      "cell_type": "code",
      "execution_count": 28,
      "metadata": {
        "colab": {
          "base_uri": "https://localhost:8080/",
          "height": 348
        },
        "id": "bKr1WYX5u8i1",
        "outputId": "c75da0ba-4fcc-4b31-b447-7dae88b1dc00"
      },
      "outputs": [
        {
          "output_type": "execute_result",
          "data": {
            "text/plain": [
              "(array([0, 1, 2, 3, 4, 5, 6]), <a list of 7 Text major ticklabel objects>)"
            ]
          },
          "metadata": {},
          "execution_count": 28
        },
        {
          "output_type": "display_data",
          "data": {
            "text/plain": [
              "<Figure size 432x288 with 1 Axes>"
            ],
            "image/png": "[encoded data removed]"
          },
          "metadata": {
            "needs_background": "light"
          }
        }
      ],
      "source": [
        "area_order = df.groupby('AREA')['SALES_PRICE'].mean().reset_index().sort_values('SALES_PRICE')['AREA']\n",
        "sns.barplot(data=df,x='AREA',y='SALES_PRICE',order=area_order)\n",
        "plt.xticks(rotation=45)"
      ]
    },
    {
      "cell_type": "markdown",
      "source": [
        "* There is a linear relations betwen 'AREA' Feature and 'SALES_PRICE' Target.\n",
        "* we will do for label encoding for this column\n",
        "* This Feature will help in model fit\n"
      ],
      "metadata": {
        "id": "kEnQlV0_AlJE"
      }
    },
    {
      "cell_type": "markdown",
      "source": [
        "Checking relationship in between the 'SALE_COND' FEATURE and 'SALE_PRICE' Target columns"
      ],
      "metadata": {
        "id": "9ka57SeUDMGY"
      }
    },
    {
      "cell_type": "code",
      "source": [
        "sns.histplot(df.SALE_COND,linewidth=0,kde=True)\n",
        "plt.xticks(rotation=45)"
      ],
      "metadata": {
        "colab": {
          "base_uri": "https://localhost:8080/",
          "height": 340
        },
        "id": "x9KeKoRYDJjN",
        "outputId": "d46598d2-0376-4ea3-d119-54c60b36f990"
      },
      "execution_count": 29,
      "outputs": [
        {
          "output_type": "execute_result",
          "data": {
            "text/plain": [
              "([0, 1, 2, 3, 4], <a list of 5 Text major ticklabel objects>)"
            ]
          },
          "metadata": {},
          "execution_count": 29
        },
        {
          "output_type": "display_data",
          "data": {
            "text/plain": [
              "<Figure size 432x288 with 1 Axes>"
            ],
            "image/png": "[encoded data removed]"
          },
          "metadata": {
            "needs_background": "light"
          }
        }
      ]
    },
    {
      "cell_type": "code",
      "source": [
        "sale_cond_order = df.groupby('SALE_COND')['SALES_PRICE'].mean().reset_index().sort_values('SALES_PRICE')['SALE_COND']\n",
        "sns.barplot(x='SALE_COND',y='SALES_PRICE',data=df,order=sale_cond_order)\n",
        "plt.xticks(rotation=45)"
      ],
      "metadata": {
        "colab": {
          "base_uri": "https://localhost:8080/",
          "height": 348
        },
        "id": "6j9DpS1LDw7r",
        "outputId": "b146d8be-e310-4038-be52-4f55dd3a68ca"
      },
      "execution_count": 30,
      "outputs": [
        {
          "output_type": "execute_result",
          "data": {
            "text/plain": [
              "(array([0, 1, 2, 3, 4]), <a list of 5 Text major ticklabel objects>)"
            ]
          },
          "metadata": {},
          "execution_count": 30
        },
        {
          "output_type": "display_data",
          "data": {
            "text/plain": [
              "<Figure size 432x288 with 1 Axes>"
            ],
            "image/png": "[encoded data removed]"
          },
          "metadata": {
            "needs_background": "light"
          }
        }
      ]
    },
    {
      "cell_type": "markdown",
      "source": [
        "* In SALE_COND(Sale condition) columns all categories uniformly distributed.\n",
        "* There is no Linear Relationship between in SALE_COND AND SALE_PREICE columns,Therefore we need to drop this feature  "
      ],
      "metadata": {
        "id": "R2ZPdJeaEUbh"
      }
    },
    {
      "cell_type": "markdown",
      "source": [
        "Checking relationship in between the 'PARK_FACIL' FEATURE and 'SALE_PRICE' Target columns"
      ],
      "metadata": {
        "id": "3NEJyvdSJTtl"
      }
    },
    {
      "cell_type": "code",
      "source": [
        "sns.histplot(df.PARK_FACIL,linewidth=0,kde=True)\n",
        "plt.xticks(rotation=45)"
      ],
      "metadata": {
        "colab": {
          "base_uri": "https://localhost:8080/",
          "height": 306
        },
        "id": "oA2hJjWoGXSa",
        "outputId": "02191ade-f5f9-4033-8650-49fb20603f7f"
      },
      "execution_count": 31,
      "outputs": [
        {
          "output_type": "execute_result",
          "data": {
            "text/plain": [
              "([0, 1], <a list of 2 Text major ticklabel objects>)"
            ]
          },
          "metadata": {},
          "execution_count": 31
        },
        {
          "output_type": "display_data",
          "data": {
            "text/plain": [
              "<Figure size 432x288 with 1 Axes>"
            ],
            "image/png": "[encoded data removed]"
          },
          "metadata": {
            "needs_background": "light"
          }
        }
      ]
    },
    {
      "cell_type": "code",
      "source": [
        "sns.barplot(x='PARK_FACIL',y='SALES_PRICE',data=df)\n",
        "plt.xticks(rotation=45)"
      ],
      "metadata": {
        "colab": {
          "base_uri": "https://localhost:8080/",
          "height": 317
        },
        "id": "nM4mZh4RH159",
        "outputId": "d53569e3-c650-4bad-c789-052335240985"
      },
      "execution_count": 32,
      "outputs": [
        {
          "output_type": "execute_result",
          "data": {
            "text/plain": [
              "(array([0, 1]), <a list of 2 Text major ticklabel objects>)"
            ]
          },
          "metadata": {},
          "execution_count": 32
        },
        {
          "output_type": "display_data",
          "data": {
            "text/plain": [
              "<Figure size 432x288 with 1 Axes>"
            ],
            "image/png": "[encoded data removed]"
          },
          "metadata": {
            "needs_background": "light"
          }
        }
      ]
    },
    {
      "cell_type": "markdown",
      "source": [
        "* Houses having Parking Facilites are more expensive than the house with no parking facility.\n",
        "* There is a linear relations betwen 'PARK_FACIL' Feature and 'SALES_PRICE' Target\n",
        "* We will do label encoding for this column\n",
        "* This Feature will help in model fit"
      ],
      "metadata": {
        "id": "J1sPMpnLINp1"
      }
    },
    {
      "cell_type": "markdown",
      "source": [
        "Checking relationship in between the 'BULIDTYPE' FEATURE and 'SALE_PRICE' Target columns"
      ],
      "metadata": {
        "id": "URpyi1I1Joe3"
      }
    },
    {
      "cell_type": "code",
      "source": [
        "sns.histplot(df.BUILDTYPE,linewidth=0,kde=True)\n",
        "plt.xticks(rotation=45)"
      ],
      "metadata": {
        "colab": {
          "base_uri": "https://localhost:8080/",
          "height": 335
        },
        "id": "1xWEb2_qJZPg",
        "outputId": "67901b79-6bc2-496e-b861-5c015cddd81c"
      },
      "execution_count": 33,
      "outputs": [
        {
          "output_type": "execute_result",
          "data": {
            "text/plain": [
              "([0, 1, 2], <a list of 3 Text major ticklabel objects>)"
            ]
          },
          "metadata": {},
          "execution_count": 33
        },
        {
          "output_type": "display_data",
          "data": {
            "text/plain": [
              "<Figure size 432x288 with 1 Axes>"
            ],
            "image/png": "[encoded data removed]"
          },
          "metadata": {
            "needs_background": "light"
          }
        }
      ]
    },
    {
      "cell_type": "code",
      "source": [
        "sns.barplot(x='BUILDTYPE',y='SALES_PRICE',data=df,)\n",
        "plt.xticks(rotation=45)"
      ],
      "metadata": {
        "colab": {
          "base_uri": "https://localhost:8080/",
          "height": 346
        },
        "id": "uODMqLkcJs6v",
        "outputId": "d30a5123-5deb-4fdd-c8d3-d4cf2652c75f"
      },
      "execution_count": 34,
      "outputs": [
        {
          "output_type": "execute_result",
          "data": {
            "text/plain": [
              "(array([0, 1, 2]), <a list of 3 Text major ticklabel objects>)"
            ]
          },
          "metadata": {},
          "execution_count": 34
        },
        {
          "output_type": "display_data",
          "data": {
            "text/plain": [
              "<Figure size 432x288 with 1 Axes>"
            ],
            "image/png": "[encoded data removed]"
          },
          "metadata": {
            "needs_background": "light"
          }
        }
      ]
    },
    {
      "cell_type": "markdown",
      "source": [
        "* Commerical bulidings are expensive than the other type of buliding.\n",
        "* There is a linear relations betwen 'BUILDTYPE' Feature and 'SALES_PRICE' Target,But there is no linear Relations in between in these feature, therefore will do ONE HOT ENCODING for BUILDTYPE columns.\n",
        "* will keep this feature as it is.\n"
      ],
      "metadata": {
        "id": "eLP6mIRaM_Q1"
      }
    },
    {
      "cell_type": "markdown",
      "source": [
        "Checking relationship in between the 'UTILITY_AVAIL\n",
        "' FEATURE and 'SALE_PRICE' Target columns"
      ],
      "metadata": {
        "id": "xCVTe60aOufA"
      }
    },
    {
      "cell_type": "code",
      "source": [
        "sns.histplot(df.UTILITY_AVAIL,linewidth=0,kde=True)\n",
        "plt.xticks(rotation=45)"
      ],
      "metadata": {
        "colab": {
          "base_uri": "https://localhost:8080/",
          "height": 321
        },
        "id": "InV8xrluOTGW",
        "outputId": "707b199b-927b-4744-b1f6-9538a1185936"
      },
      "execution_count": 35,
      "outputs": [
        {
          "output_type": "execute_result",
          "data": {
            "text/plain": [
              "([0, 1, 2], <a list of 3 Text major ticklabel objects>)"
            ]
          },
          "metadata": {},
          "execution_count": 35
        },
        {
          "output_type": "display_data",
          "data": {
            "text/plain": [
              "<Figure size 432x288 with 1 Axes>"
            ],
            "image/png": "[encoded data removed]"
          },
          "metadata": {
            "needs_background": "light"
          }
        }
      ]
    },
    {
      "cell_type": "code",
      "source": [
        "utility_order = df.groupby('UTILITY_AVAIL')['SALES_PRICE'].mean().reset_index().sort_values('SALES_PRICE')['UTILITY_AVAIL']\n",
        "sns.barplot(x='UTILITY_AVAIL',y='SALES_PRICE',data=df,order=utility_order)\n",
        "plt.xticks(rotation=45)"
      ],
      "metadata": {
        "colab": {
          "base_uri": "https://localhost:8080/",
          "height": 332
        },
        "id": "kDi3Lr5jH0Dm",
        "outputId": "6040b3f7-e9dc-4670-99ef-59e985d73542"
      },
      "execution_count": 36,
      "outputs": [
        {
          "output_type": "execute_result",
          "data": {
            "text/plain": [
              "(array([0, 1, 2]), <a list of 3 Text major ticklabel objects>)"
            ]
          },
          "metadata": {},
          "execution_count": 36
        },
        {
          "output_type": "display_data",
          "data": {
            "text/plain": [
              "<Figure size 432x288 with 1 Axes>"
            ],
            "image/png": "[encoded data removed]"
          },
          "metadata": {
            "needs_background": "light"
          }
        }
      ]
    },
    {
      "cell_type": "markdown",
      "source": [
        "* There is a linear relations between 'UTILITY_AVAIL' Feature and 'SALES_PRICE' Target.\n",
        "* We will do label encoding for this column"
      ],
      "metadata": {
        "id": "RT3mU7nxjK5r"
      }
    },
    {
      "cell_type": "markdown",
      "source": [
        "Checking relationship in between the 'STREET' FEATURE and 'SALE_PRICE' Target columns"
      ],
      "metadata": {
        "id": "FMLWfyCuaKja"
      }
    },
    {
      "cell_type": "code",
      "source": [
        "sns.histplot(df.STREET,linewidth=0,kde=True)\n",
        "plt.xticks(rotation=45)"
      ],
      "metadata": {
        "colab": {
          "base_uri": "https://localhost:8080/",
          "height": 329
        },
        "id": "rVSSreDuaJT9",
        "outputId": "bc0c9518-303d-4dcc-ae73-3715f8ccc5ad"
      },
      "execution_count": 37,
      "outputs": [
        {
          "output_type": "execute_result",
          "data": {
            "text/plain": [
              "([0, 1, 2], <a list of 3 Text major ticklabel objects>)"
            ]
          },
          "metadata": {},
          "execution_count": 37
        },
        {
          "output_type": "display_data",
          "data": {
            "text/plain": [
              "<Figure size 432x288 with 1 Axes>"
            ],
            "image/png": "[encoded data removed]"
          },
          "metadata": {
            "needs_background": "light"
          }
        }
      ]
    },
    {
      "cell_type": "code",
      "source": [
        "area_order = df.groupby('STREET')['SALES_PRICE'].mean().reset_index().sort_values('SALES_PRICE')['STREET']\n",
        "sns.barplot(x='STREET',y='SALES_PRICE',data=df,order=area_order)\n",
        "plt.xticks(rotation=45)"
      ],
      "metadata": {
        "colab": {
          "base_uri": "https://localhost:8080/",
          "height": 340
        },
        "id": "4Qm_6O4Vac-e",
        "outputId": "999ae8e0-ade2-4aa6-ab96-37db58a1f4b3"
      },
      "execution_count": 38,
      "outputs": [
        {
          "output_type": "execute_result",
          "data": {
            "text/plain": [
              "(array([0, 1, 2]), <a list of 3 Text major ticklabel objects>)"
            ]
          },
          "metadata": {},
          "execution_count": 38
        },
        {
          "output_type": "display_data",
          "data": {
            "text/plain": [
              "<Figure size 432x288 with 1 Axes>"
            ],
            "image/png": "[encoded data removed]"
          },
          "metadata": {
            "needs_background": "light"
          }
        }
      ]
    },
    {
      "cell_type": "markdown",
      "source": [
        "* There is a linear relations between 'UTILITY_AVAIL' Feature and 'SALES_PRICE' Target.\n",
        "* We will do label encoding for this column"
      ],
      "metadata": {
        "id": "9zSZrrfVl0ZG"
      }
    },
    {
      "cell_type": "markdown",
      "source": [
        "Checking Relationship in between MZZON Feature and SALES_PRICE Target Columns."
      ],
      "metadata": {
        "id": "uC_XKbZGnvOc"
      }
    },
    {
      "cell_type": "code",
      "source": [
        "sns.histplot(df.MZZONE,linewidth=0,kde=True)\n",
        "plt.xticks(rotation=45)"
      ],
      "metadata": {
        "colab": {
          "base_uri": "https://localhost:8080/",
          "height": 304
        },
        "id": "0J_E6j2nam_J",
        "outputId": "6c7d779f-6c0b-4f9b-a2d7-975bfe2c229b"
      },
      "execution_count": 39,
      "outputs": [
        {
          "output_type": "execute_result",
          "data": {
            "text/plain": [
              "([0, 1, 2, 3, 4, 5], <a list of 6 Text major ticklabel objects>)"
            ]
          },
          "metadata": {},
          "execution_count": 39
        },
        {
          "output_type": "display_data",
          "data": {
            "text/plain": [
              "<Figure size 432x288 with 1 Axes>"
            ],
            "image/png": "[encoded data removed]"
          },
          "metadata": {
            "needs_background": "light"
          }
        }
      ]
    },
    {
      "cell_type": "code",
      "source": [
        "area_order = df.groupby('MZZONE')['SALES_PRICE'].mean().reset_index().sort_values('SALES_PRICE')['MZZONE']\n",
        "sns.barplot(x='MZZONE',y='SALES_PRICE',data=df,order=area_order)\n",
        "plt.xticks(rotation=45)"
      ],
      "metadata": {
        "colab": {
          "base_uri": "https://localhost:8080/",
          "height": 315
        },
        "id": "CnP8Dt1dazj5",
        "outputId": "05e8238a-7523-4d5c-f206-70b651f48bd6"
      },
      "execution_count": 40,
      "outputs": [
        {
          "output_type": "execute_result",
          "data": {
            "text/plain": [
              "(array([0, 1, 2, 3, 4, 5]), <a list of 6 Text major ticklabel objects>)"
            ]
          },
          "metadata": {},
          "execution_count": 40
        },
        {
          "output_type": "display_data",
          "data": {
            "text/plain": [
              "<Figure size 432x288 with 1 Axes>"
            ],
            "image/png": "[encoded data removed]"
          },
          "metadata": {
            "needs_background": "light"
          }
        }
      ]
    },
    {
      "cell_type": "markdown",
      "source": [
        "\n",
        "*   There is a linear relations between 'MZZONE' Feature and 'SALES_PRICE' Target.\n",
        "* We will do label encoding for this column\n"
      ],
      "metadata": {
        "id": "4KvtIDgdoWRj"
      }
    },
    {
      "cell_type": "markdown",
      "source": [
        "EDA For Numerical Columns"
      ],
      "metadata": {
        "id": "rS6Gj7Fzh7_r"
      }
    },
    {
      "cell_type": "markdown",
      "source": [
        "Checking relationship in between the 'INT_SQFT' FEATURE and 'SALE_PRICE' Target columns"
      ],
      "metadata": {
        "id": "gJTcF6l6haPH"
      }
    },
    {
      "cell_type": "code",
      "source": [
        "sns.displot(df.INT_SQFT,linewidth=0,kde=True)\n",
        "plt.xticks(rotation=45)"
      ],
      "metadata": {
        "colab": {
          "base_uri": "https://localhost:8080/",
          "height": 419
        },
        "id": "jSXYs28-AUsG",
        "outputId": "4a5dd517-f91c-459d-d21f-cefcd2e9392d"
      },
      "execution_count": 41,
      "outputs": [
        {
          "output_type": "execute_result",
          "data": {
            "text/plain": [
              "(array([ 250.,  500.,  750., 1000., 1250., 1500., 1750., 2000., 2250.,\n",
              "        2500., 2750.]), <a list of 11 Text major ticklabel objects>)"
            ]
          },
          "metadata": {},
          "execution_count": 41
        },
        {
          "output_type": "display_data",
          "data": {
            "text/plain": [
              "<Figure size 360x360 with 1 Axes>"
            ],
            "image/png": "[encoded data removed]"
          },
          "metadata": {
            "needs_background": "light"
          }
        }
      ]
    },
    {
      "cell_type": "code",
      "source": [
        "sns.regplot(x='INT_SQFT',y='SALES_PRICE',data=df,scatter_kws={'color':'green'},line_kws={'color':'red'})"
      ],
      "metadata": {
        "colab": {
          "base_uri": "https://localhost:8080/",
          "height": 308
        },
        "id": "JEABAdbyT9D9",
        "outputId": "f82090fe-9969-46f5-cc01-27676fed013b"
      },
      "execution_count": 42,
      "outputs": [
        {
          "output_type": "execute_result",
          "data": {
            "text/plain": [
              "<matplotlib.axes._subplots.AxesSubplot at 0x7fbea02fc790>"
            ]
          },
          "metadata": {},
          "execution_count": 42
        },
        {
          "output_type": "display_data",
          "data": {
            "text/plain": [
              "<Figure size 432x288 with 1 Axes>"
            ],
            "image/png": "[encoded data removed]"
          },
          "metadata": {
            "needs_background": "light"
          }
        }
      ]
    },
    {
      "cell_type": "markdown",
      "source": [
        "* There is a linear relations betwen 'INT_SQFT' Feature and 'SALES_PRICE' Target.\n",
        "*This Feature is very important to keep it for furthur process."
      ],
      "metadata": {
        "id": "Fk5NRs04U2VR"
      }
    },
    {
      "cell_type": "markdown",
      "source": [
        "Checking relationship in between the 'DIST_MAINROAD' FEATURE and 'SALE_PRICE' Target columns"
      ],
      "metadata": {
        "id": "RV3ynOk7sT2w"
      }
    },
    {
      "cell_type": "code",
      "source": [
        "sns.displot(df.DIST_MAINROAD,linewidth=0,kde=True)\n",
        "plt.xticks(rotation=45)"
      ],
      "metadata": {
        "colab": {
          "base_uri": "https://localhost:8080/",
          "height": 415
        },
        "id": "0yRQhk6U7iP_",
        "outputId": "28fb3abd-4eae-458f-dc37-bae0cf9b29ec"
      },
      "execution_count": 43,
      "outputs": [
        {
          "output_type": "execute_result",
          "data": {
            "text/plain": [
              "(array([-25.,   0.,  25.,  50.,  75., 100., 125., 150., 175., 200., 225.]),\n",
              " <a list of 11 Text major ticklabel objects>)"
            ]
          },
          "metadata": {},
          "execution_count": 43
        },
        {
          "output_type": "display_data",
          "data": {
            "text/plain": [
              "<Figure size 360x360 with 1 Axes>"
            ],
            "image/png": "[encoded data removed]"
          },
          "metadata": {
            "needs_background": "light"
          }
        }
      ]
    },
    {
      "cell_type": "code",
      "source": [
        "sns.regplot(x='DIST_MAINROAD',y='SALES_PRICE',data=df,scatter_kws={'color':'red'},line_kws={'color':'blue'})"
      ],
      "metadata": {
        "colab": {
          "base_uri": "https://localhost:8080/",
          "height": 308
        },
        "id": "7ZE-RLnwYHqx",
        "outputId": "d7e30d84-b2d4-40bb-fa59-90fc458575a5"
      },
      "execution_count": 44,
      "outputs": [
        {
          "output_type": "execute_result",
          "data": {
            "text/plain": [
              "<matplotlib.axes._subplots.AxesSubplot at 0x7fbea01d40d0>"
            ]
          },
          "metadata": {},
          "execution_count": 44
        },
        {
          "output_type": "display_data",
          "data": {
            "text/plain": [
              "<Figure size 432x288 with 1 Axes>"
            ],
            "image/png": "[encoded data removed]"
          },
          "metadata": {
            "needs_background": "light"
          }
        }
      ]
    },
    {
      "cell_type": "markdown",
      "source": [
        "* There is no Linear Releation in between DIST_MAINROAD FEATURE and SALES_PRICE Target.\n",
        "* we need to drop this feature for model."
      ],
      "metadata": {
        "id": "vjBQCP5UY28n"
      }
    },
    {
      "cell_type": "markdown",
      "source": [
        "Checking relationship in between the 'N_BEDROOM' FEATURE and 'SALE_PRICE' Target columns"
      ],
      "metadata": {
        "id": "q1rK4XMcGkeS"
      }
    },
    {
      "cell_type": "code",
      "source": [
        "sns.displot(df.N_BEDROOM,linewidth=0,kde=True)\n",
        "plt.xticks(rotation=25)"
      ],
      "metadata": {
        "colab": {
          "base_uri": "https://localhost:8080/",
          "height": 410
        },
        "id": "SOzP4flnAe4f",
        "outputId": "11c72c8e-faae-4b10-a278-1c08c08b614f"
      },
      "execution_count": 45,
      "outputs": [
        {
          "output_type": "execute_result",
          "data": {
            "text/plain": [
              "(array([0.5, 1. , 1.5, 2. , 2.5, 3. , 3.5, 4. , 4.5]),\n",
              " <a list of 9 Text major ticklabel objects>)"
            ]
          },
          "metadata": {},
          "execution_count": 45
        },
        {
          "output_type": "display_data",
          "data": {
            "text/plain": [
              "<Figure size 360x360 with 1 Axes>"
            ],
            "image/png": "[encoded data removed]"
          },
          "metadata": {
            "needs_background": "light"
          }
        }
      ]
    },
    {
      "cell_type": "code",
      "source": [
        "bedroom_order = df.groupby('N_BEDROOM')['SALES_PRICE'].mean().reset_index().sort_values('SALES_PRICE')['N_BEDROOM']\n",
        "sns.barplot(x='N_BEDROOM',y='SALES_PRICE',data=df,order=bedroom_order)\n",
        "plt.xticks(rotation=45)"
      ],
      "metadata": {
        "colab": {
          "base_uri": "https://localhost:8080/",
          "height": 310
        },
        "id": "4xgxIYdcAM-A",
        "outputId": "b8b79b06-8e0a-42a2-9070-30eda4f91ac8"
      },
      "execution_count": 46,
      "outputs": [
        {
          "output_type": "execute_result",
          "data": {
            "text/plain": [
              "(array([0, 1, 2, 3]), <a list of 4 Text major ticklabel objects>)"
            ]
          },
          "metadata": {},
          "execution_count": 46
        },
        {
          "output_type": "display_data",
          "data": {
            "text/plain": [
              "<Figure size 432x288 with 1 Axes>"
            ],
            "image/png": "[encoded data removed]"
          },
          "metadata": {
            "needs_background": "light"
          }
        }
      ]
    },
    {
      "cell_type": "markdown",
      "source": [
        "* There is a linear relations betwen 'BEDROOM' Feature and 'SALES_PRICE' Target.\n",
        "* This Feature will help in model fit"
      ],
      "metadata": {
        "id": "BKpFQDsQDAZ_"
      }
    },
    {
      "cell_type": "markdown",
      "source": [
        "Checking relationship in between the 'N_BATHROOM' FEATURE and 'SALE_PRICE' Target columns"
      ],
      "metadata": {
        "id": "myiJIq-rHZSA"
      }
    },
    {
      "cell_type": "code",
      "source": [
        "sns.histplot(df.N_BATHROOM,linewidth=0,kde=True)\n",
        "plt.xticks(rotation=45)"
      ],
      "metadata": {
        "colab": {
          "base_uri": "https://localhost:8080/",
          "height": 324
        },
        "id": "cUDtsCtuBtwV",
        "outputId": "1f866ab3-12c4-40db-a465-9bac1c2aa7e5"
      },
      "execution_count": 47,
      "outputs": [
        {
          "output_type": "execute_result",
          "data": {
            "text/plain": [
              "(array([0.8, 1. , 1.2, 1.4, 1.6, 1.8, 2. , 2.2]),\n",
              " <a list of 8 Text major ticklabel objects>)"
            ]
          },
          "metadata": {},
          "execution_count": 47
        },
        {
          "output_type": "display_data",
          "data": {
            "text/plain": [
              "<Figure size 432x288 with 1 Axes>"
            ],
            "image/png": "[encoded data removed]"
          },
          "metadata": {
            "needs_background": "light"
          }
        }
      ]
    },
    {
      "cell_type": "code",
      "source": [
        "bathroom_order = df.groupby('N_BATHROOM')['SALES_PRICE'].mean().reset_index().sort_values('SALES_PRICE')['N_BATHROOM']\n",
        "sns.barplot(x='N_BATHROOM',y='SALES_PRICE',data=df,order=bathroom_order)\n",
        "plt.xticks(rotation=45)"
      ],
      "metadata": {
        "colab": {
          "base_uri": "https://localhost:8080/",
          "height": 310
        },
        "id": "jKTZvizjB2rI",
        "outputId": "e4e51a98-9e5f-4111-904a-3fd55baf441c"
      },
      "execution_count": 48,
      "outputs": [
        {
          "output_type": "execute_result",
          "data": {
            "text/plain": [
              "(array([0, 1]), <a list of 2 Text major ticklabel objects>)"
            ]
          },
          "metadata": {},
          "execution_count": 48
        },
        {
          "output_type": "display_data",
          "data": {
            "text/plain": [
              "<Figure size 432x288 with 1 Axes>"
            ],
            "image/png": "[encoded data removed]"
          },
          "metadata": {
            "needs_background": "light"
          }
        }
      ]
    },
    {
      "cell_type": "markdown",
      "source": [
        "* There is a linear relations betwen 'BATHROOM' Feature and 'SALES_PRICE' Target\n",
        "* This Feature will help in model fit"
      ],
      "metadata": {
        "id": "Yl4jSTn4HfwT"
      }
    },
    {
      "cell_type": "markdown",
      "source": [
        "Checking relationship in between the 'N_ROOM' FEATURE and 'SALE_PRICE' Target columns"
      ],
      "metadata": {
        "id": "6JGYAE0oJO5U"
      }
    },
    {
      "cell_type": "code",
      "source": [
        "sns.displot(df.N_ROOM,linewidth=0,kde=True)\n",
        "plt.xticks(rotation=45)"
      ],
      "metadata": {
        "colab": {
          "base_uri": "https://localhost:8080/",
          "height": 413
        },
        "id": "K9XnOtSOFbfT",
        "outputId": "c8d6fe29-f879-4437-ca71-d2921019d132"
      },
      "execution_count": 49,
      "outputs": [
        {
          "output_type": "execute_result",
          "data": {
            "text/plain": [
              "(array([1.5, 2. , 2.5, 3. , 3.5, 4. , 4.5, 5. , 5.5, 6. , 6.5]),\n",
              " <a list of 11 Text major ticklabel objects>)"
            ]
          },
          "metadata": {},
          "execution_count": 49
        },
        {
          "output_type": "display_data",
          "data": {
            "text/plain": [
              "<Figure size 360x360 with 1 Axes>"
            ],
            "image/png": "[encoded data removed]"
          },
          "metadata": {
            "needs_background": "light"
          }
        }
      ]
    },
    {
      "cell_type": "code",
      "source": [
        "room_order = df.groupby('N_ROOM')['SALES_PRICE'].mean().reset_index().sort_values('SALES_PRICE')['N_ROOM']\n",
        "sns.barplot(x='N_ROOM',y='SALES_PRICE',data=df,order=room_order)\n",
        "plt.xticks(rotation=45)"
      ],
      "metadata": {
        "colab": {
          "base_uri": "https://localhost:8080/",
          "height": 310
        },
        "id": "6BEEnlhxGFR-",
        "outputId": "7ff43c30-f4a3-4849-e2c5-7319fd56cb4a"
      },
      "execution_count": 50,
      "outputs": [
        {
          "output_type": "execute_result",
          "data": {
            "text/plain": [
              "(array([0, 1, 2, 3, 4]), <a list of 5 Text major ticklabel objects>)"
            ]
          },
          "metadata": {},
          "execution_count": 50
        },
        {
          "output_type": "display_data",
          "data": {
            "text/plain": [
              "<Figure size 432x288 with 1 Axes>"
            ],
            "image/png": "[encoded data removed]"
          },
          "metadata": {
            "needs_background": "light"
          }
        }
      ]
    },
    {
      "cell_type": "markdown",
      "source": [
        "N_ROOM increase then the SALES_PRICE is automatically increase.\n",
        "* There is a linear relations betwen 'N_ROOM' Feature and 'SALES_PRICE' Target\n",
        "* This Feature will help in model fit\n"
      ],
      "metadata": {
        "id": "y5UyU09uO7fy"
      }
    },
    {
      "cell_type": "markdown",
      "source": [
        "Checking relationship in between the 'QS_ROOM' FEATURE and 'SALE_PRICE' Target columns"
      ],
      "metadata": {
        "id": "kcXTfUn_shn6"
      }
    },
    {
      "cell_type": "code",
      "source": [
        "sns.histplot(df.QS_ROOMS,linewidth=0,kde=True)\n",
        "plt.xticks(rotation=45)"
      ],
      "metadata": {
        "colab": {
          "base_uri": "https://localhost:8080/",
          "height": 324
        },
        "id": "vneYQPFbdKtN",
        "outputId": "6d755b5e-606e-4a45-e26e-d83a6583edea"
      },
      "execution_count": 51,
      "outputs": [
        {
          "output_type": "execute_result",
          "data": {
            "text/plain": [
              "(array([1.5, 2. , 2.5, 3. , 3.5, 4. , 4.5, 5. , 5.5]),\n",
              " <a list of 9 Text major ticklabel objects>)"
            ]
          },
          "metadata": {},
          "execution_count": 51
        },
        {
          "output_type": "display_data",
          "data": {
            "text/plain": [
              "<Figure size 432x288 with 1 Axes>"
            ],
            "image/png": "[encoded data removed]"
          },
          "metadata": {
            "needs_background": "light"
          }
        }
      ]
    },
    {
      "cell_type": "code",
      "source": [
        "sns.regplot(x='QS_ROOMS',y='SALES_PRICE',data=df,scatter_kws={'color':'orange'},line_kws={'color':'green'})"
      ],
      "metadata": {
        "colab": {
          "base_uri": "https://localhost:8080/",
          "height": 308
        },
        "id": "l31cFkJBd5Ia",
        "outputId": "02718090-2bcd-40de-ecb6-0d3e0974b321"
      },
      "execution_count": 52,
      "outputs": [
        {
          "output_type": "execute_result",
          "data": {
            "text/plain": [
              "<matplotlib.axes._subplots.AxesSubplot at 0x7fbe9fcd43d0>"
            ]
          },
          "metadata": {},
          "execution_count": 52
        },
        {
          "output_type": "display_data",
          "data": {
            "text/plain": [
              "<Figure size 432x288 with 1 Axes>"
            ],
            "image/png": "[encoded data removed]"
          },
          "metadata": {
            "needs_background": "light"
          }
        }
      ]
    },
    {
      "cell_type": "markdown",
      "source": [
        "* There is no Linear Releation in between QS_ROOMS Feature and SALES_PRICE Target.\n",
        "* we need to drop this feature for model.\n",
        " \n",
        "\n"
      ],
      "metadata": {
        "id": "mNXiiiRUmKMV"
      }
    },
    {
      "cell_type": "markdown",
      "source": [
        "Checking relationship in between the 'QS_BATHROOM' FEATURE and 'SALE_PRICE' Target columns"
      ],
      "metadata": {
        "id": "2rKc0WcGsnG_"
      }
    },
    {
      "cell_type": "code",
      "source": [
        "sns.histplot(df.QS_BATHROOM,linewidth=0,kde=True)\n",
        "plt.xticks(rotation=45)"
      ],
      "metadata": {
        "colab": {
          "base_uri": "https://localhost:8080/",
          "height": 324
        },
        "id": "mnNj-tyMdO8s",
        "outputId": "c64c01dc-83cc-4bb7-95ff-acf25762dc61"
      },
      "execution_count": 53,
      "outputs": [
        {
          "output_type": "execute_result",
          "data": {
            "text/plain": [
              "(array([1.5, 2. , 2.5, 3. , 3.5, 4. , 4.5, 5. , 5.5]),\n",
              " <a list of 9 Text major ticklabel objects>)"
            ]
          },
          "metadata": {},
          "execution_count": 53
        },
        {
          "output_type": "display_data",
          "data": {
            "text/plain": [
              "<Figure size 432x288 with 1 Axes>"
            ],
            "image/png": "[encoded data removed]"
          },
          "metadata": {
            "needs_background": "light"
          }
        }
      ]
    },
    {
      "cell_type": "code",
      "source": [
        "sns.regplot(x='QS_BATHROOM',y='SALES_PRICE',data=df,scatter_kws={'color':'yellow'},line_kws={'color':'violet'})"
      ],
      "metadata": {
        "colab": {
          "base_uri": "https://localhost:8080/",
          "height": 308
        },
        "id": "5oRKD_QCeFSV",
        "outputId": "bb5ee058-5fd0-403b-be95-40065f2264ff"
      },
      "execution_count": 54,
      "outputs": [
        {
          "output_type": "execute_result",
          "data": {
            "text/plain": [
              "<matplotlib.axes._subplots.AxesSubplot at 0x7fbe9fcc11d0>"
            ]
          },
          "metadata": {},
          "execution_count": 54
        },
        {
          "output_type": "display_data",
          "data": {
            "text/plain": [
              "<Figure size 432x288 with 1 Axes>"
            ],
            "image/png": "[encoded data removed]"
          },
          "metadata": {
            "needs_background": "light"
          }
        }
      ]
    },
    {
      "cell_type": "markdown",
      "source": [
        "* There is no Linear Releation in between QS_BATHROOM Feature and SALES_PRICE Target.\n",
        "* we need to drop this feature for model."
      ],
      "metadata": {
        "id": "tMHhSZcUmR_g"
      }
    },
    {
      "cell_type": "markdown",
      "source": [
        "Checking relationship in between the 'QS_BEDROOM' FEATURE and 'SALE_PRICE' Target columns"
      ],
      "metadata": {
        "id": "27MiwhVusrsy"
      }
    },
    {
      "cell_type": "code",
      "source": [
        "sns.histplot(df.QS_BEDROOM,linewidth=0,kde=True)\n",
        "plt.xticks(rotation=45)"
      ],
      "metadata": {
        "colab": {
          "base_uri": "https://localhost:8080/",
          "height": 324
        },
        "id": "5AUcxYUqdRSO",
        "outputId": "f4bde126-2887-4218-c9c4-2e64b2274ff4"
      },
      "execution_count": 55,
      "outputs": [
        {
          "output_type": "execute_result",
          "data": {
            "text/plain": [
              "(array([1.5, 2. , 2.5, 3. , 3.5, 4. , 4.5, 5. , 5.5]),\n",
              " <a list of 9 Text major ticklabel objects>)"
            ]
          },
          "metadata": {},
          "execution_count": 55
        },
        {
          "output_type": "display_data",
          "data": {
            "text/plain": [
              "<Figure size 432x288 with 1 Axes>"
            ],
            "image/png": "[encoded data removed]"
          },
          "metadata": {
            "needs_background": "light"
          }
        }
      ]
    },
    {
      "cell_type": "code",
      "source": [
        "sns.regplot(x='QS_BEDROOM',y='SALES_PRICE',data=df,scatter_kws={'color':'blue'},line_kws={'color':'brown'})"
      ],
      "metadata": {
        "colab": {
          "base_uri": "https://localhost:8080/",
          "height": 308
        },
        "id": "qujROBAeeTkI",
        "outputId": "071cfd4c-306d-4b42-8358-0786a8cb7c3b"
      },
      "execution_count": 56,
      "outputs": [
        {
          "output_type": "execute_result",
          "data": {
            "text/plain": [
              "<matplotlib.axes._subplots.AxesSubplot at 0x7fbe9fac6090>"
            ]
          },
          "metadata": {},
          "execution_count": 56
        },
        {
          "output_type": "display_data",
          "data": {
            "text/plain": [
              "<Figure size 432x288 with 1 Axes>"
            ],
            "image/png": "[encoded data removed]"
          },
          "metadata": {
            "needs_background": "light"
          }
        }
      ]
    },
    {
      "cell_type": "markdown",
      "source": [
        "* There is no Linear Releation in between QS_BEDROOM Feature and SALES_PRICE Target.\n",
        "* we need to drop this feature for model."
      ],
      "metadata": {
        "id": "Q13FJKbWmYbt"
      }
    },
    {
      "cell_type": "markdown",
      "source": [
        "Checking relationship in between the 'QS_OVERALL' FEATURE and 'SALE_PRICE' Target columns"
      ],
      "metadata": {
        "id": "bMJgkLNosu-Q"
      }
    },
    {
      "cell_type": "code",
      "source": [
        "sns.histplot(df.QS_OVERALL,linewidth=0,kde=True)\n",
        "plt.xticks(rotation=45)"
      ],
      "metadata": {
        "colab": {
          "base_uri": "https://localhost:8080/",
          "height": 324
        },
        "id": "4vk68WU7dTxy",
        "outputId": "c2d69e58-c6d9-4346-a4ad-15b45166426c"
      },
      "execution_count": 57,
      "outputs": [
        {
          "output_type": "execute_result",
          "data": {
            "text/plain": [
              "(array([1.5, 2. , 2.5, 3. , 3.5, 4. , 4.5, 5. , 5.5]),\n",
              " <a list of 9 Text major ticklabel objects>)"
            ]
          },
          "metadata": {},
          "execution_count": 57
        },
        {
          "output_type": "display_data",
          "data": {
            "text/plain": [
              "<Figure size 432x288 with 1 Axes>"
            ],
            "image/png": "[encoded data removed]"
          },
          "metadata": {
            "needs_background": "light"
          }
        }
      ]
    },
    {
      "cell_type": "code",
      "source": [
        "sns.regplot(x='QS_OVERALL',y='SALES_PRICE',data=df,scatter_kws={'color':'purple'},line_kws={'color':'black'})"
      ],
      "metadata": {
        "colab": {
          "base_uri": "https://localhost:8080/",
          "height": 308
        },
        "id": "lZ5uz-Z9eiGY",
        "outputId": "023e5072-8d47-482a-9ff1-69801976580e"
      },
      "execution_count": 58,
      "outputs": [
        {
          "output_type": "execute_result",
          "data": {
            "text/plain": [
              "<matplotlib.axes._subplots.AxesSubplot at 0x7fbe9fa42ed0>"
            ]
          },
          "metadata": {},
          "execution_count": 58
        },
        {
          "output_type": "display_data",
          "data": {
            "text/plain": [
              "<Figure size 432x288 with 1 Axes>"
            ],
            "image/png": "[encoded data removed]"
          },
          "metadata": {
            "needs_background": "light"
          }
        }
      ]
    },
    {
      "cell_type": "markdown",
      "source": [
        "* There is no Linear Releation in between QS_OVERALL Feature and SALES_PRICE Target.\n",
        "* we need to drop this feature for model.\n"
      ],
      "metadata": {
        "id": "I8vB4Aw0mhWa"
      }
    },
    {
      "cell_type": "markdown",
      "source": [
        "Checking relationship in between the 'BULIDING_AGE' FEATURE and 'SALE_PRICE' Target columns"
      ],
      "metadata": {
        "id": "oDiPb7y_szCf"
      }
    },
    {
      "cell_type": "code",
      "source": [
        "sns.histplot(df.BULIDING_AGE,linewidth=0,kde=True)\n",
        "plt.xticks(rotation=45)"
      ],
      "metadata": {
        "colab": {
          "base_uri": "https://localhost:8080/",
          "height": 321
        },
        "id": "5LLZMgCEfC7o",
        "outputId": "c2f221cf-4f32-44d5-f857-4b84ec22085d"
      },
      "execution_count": 59,
      "outputs": [
        {
          "output_type": "execute_result",
          "data": {
            "text/plain": [
              "(array([ 0., 10., 20., 30., 40., 50., 60.]),\n",
              " <a list of 7 Text major ticklabel objects>)"
            ]
          },
          "metadata": {},
          "execution_count": 59
        },
        {
          "output_type": "display_data",
          "data": {
            "text/plain": [
              "<Figure size 432x288 with 1 Axes>"
            ],
            "image/png": "[encoded data removed]"
          },
          "metadata": {
            "needs_background": "light"
          }
        }
      ]
    },
    {
      "cell_type": "code",
      "source": [
        "sns.regplot(x='BULIDING_AGE',y='SALES_PRICE',data=df,scatter_kws={'color':'violet'},line_kws={'color':'red'})"
      ],
      "metadata": {
        "colab": {
          "base_uri": "https://localhost:8080/",
          "height": 308
        },
        "id": "e6mAVTj9fCSk",
        "outputId": "2fbe5743-1f1c-4173-8dc0-2a4f662cdc34"
      },
      "execution_count": 60,
      "outputs": [
        {
          "output_type": "execute_result",
          "data": {
            "text/plain": [
              "<matplotlib.axes._subplots.AxesSubplot at 0x7fbe9f897a90>"
            ]
          },
          "metadata": {},
          "execution_count": 60
        },
        {
          "output_type": "display_data",
          "data": {
            "text/plain": [
              "<Figure size 432x288 with 1 Axes>"
            ],
            "image/png": "[encoded data removed]"
          },
          "metadata": {
            "needs_background": "light"
          }
        }
      ]
    },
    {
      "cell_type": "markdown",
      "source": [
        "* There is Negative Linear Releation in between BULIDING_AGE Feature and SALES_PRICE Target.\n",
        "*  The Feature will leave this as it is,It will be helpful further process. "
      ],
      "metadata": {
        "id": "tVp-LGaoms52"
      }
    },
    {
      "cell_type": "markdown",
      "source": [
        "Just Seeing the Target Feature here as a visualization view"
      ],
      "metadata": {
        "id": "CudYNCMYs3vN"
      }
    },
    {
      "cell_type": "code",
      "source": [
        "sns.histplot(df.SALES_PRICE,linewidth=0,kde=True)\n",
        "plt.xticks(rotation=45)"
      ],
      "metadata": {
        "colab": {
          "base_uri": "https://localhost:8080/",
          "height": 324
        },
        "id": "pGWB34eHGNqO",
        "outputId": "25e6cf17-eee5-472e-a26e-be93b67eccf7"
      },
      "execution_count": 61,
      "outputs": [
        {
          "output_type": "execute_result",
          "data": {
            "text/plain": [
              "(array([       0.,  5000000., 10000000., 15000000., 20000000., 25000000.]),\n",
              " <a list of 6 Text major ticklabel objects>)"
            ]
          },
          "metadata": {},
          "execution_count": 61
        },
        {
          "output_type": "display_data",
          "data": {
            "text/plain": [
              "<Figure size 432x288 with 1 Axes>"
            ],
            "image/png": "[encoded data removed]"
          },
          "metadata": {
            "needs_background": "light"
          }
        }
      ]
    },
    {
      "cell_type": "markdown",
      "source": [
        " **insight from Analysis** \n",
        "* The distribution of the data in all the columns are normally distributed. In some columns only the data is very slightly skewed.\n",
        "* INT_SQFT, N_BEDROOM, N_BATHROOM, N_ROOM Features having strong relationship with SALES_PRICES Target. Thes features are very important to train the model.\n",
        "* SALE_COND, DIST_MAINROAD, QS_ROOMS, QS_BATHROOM,QSBEDROOM, QS_OVERALL has no relationship with SALES_PRICE Target.Therefore,will drop all these features."
      ],
      "metadata": {
        "id": "38GE_qEC8CVq"
      }
    },
    {
      "cell_type": "markdown",
      "source": [
        "**Encoding**"
      ],
      "metadata": {
        "id": "jKzHUqMRtW7E"
      }
    },
    {
      "cell_type": "markdown",
      "source": [
        "Categorical Columns are changing to correct format as a Numerical columns using with Encoding method."
      ],
      "metadata": {
        "id": "kC0APrXgyvj3"
      }
    },
    {
      "cell_type": "markdown",
      "source": [
        "Label Encoding"
      ],
      "metadata": {
        "id": "J4nvVzhMzNwe"
      }
    },
    {
      "cell_type": "code",
      "source": [
        "df['AREA']=df.AREA.map({'Karapakkam':0,'Anna Nagar':1,'Adyar':2,'Velachery':3,'Chrompet':4,'KK Nagar':5,'T Nagar':'6'})"
      ],
      "metadata": {
        "id": "sgMXiWXytUcH"
      },
      "execution_count": 62,
      "outputs": []
    },
    {
      "cell_type": "code",
      "source": [
        "df['PARK_FACIL']=df.PARK_FACIL.map({'Yes':1,'No':0})"
      ],
      "metadata": {
        "id": "JgEeWDGfvof8"
      },
      "execution_count": 63,
      "outputs": []
    },
    {
      "cell_type": "code",
      "source": [
        "df['UTILITY_AVAIL']=df.UTILITY_AVAIL.map({'All Pub':1,'ELO':2,'NoSewr':3})"
      ],
      "metadata": {
        "id": "eWIjiGpVwQn5"
      },
      "execution_count": 64,
      "outputs": []
    },
    {
      "cell_type": "code",
      "source": [
        "df['STREET']=df.STREET.map({'Paved':1,'Gravel':2,'No Access':3})"
      ],
      "metadata": {
        "id": "BrdItScByC7R"
      },
      "execution_count": 65,
      "outputs": []
    },
    {
      "cell_type": "code",
      "source": [
        "df['MZZONE']=df.MZZONE.map({'A':0,'RH':1,'RL':2,'I':3,'C':4,'RM':5})"
      ],
      "metadata": {
        "id": "nWP4OkTsyUb1"
      },
      "execution_count": 66,
      "outputs": []
    },
    {
      "cell_type": "code",
      "source": [
        "df.head()"
      ],
      "metadata": {
        "colab": {
          "base_uri": "https://localhost:8080/",
          "height": 357
        },
        "id": "1_6ZZnBPz5d4",
        "outputId": "74d0530d-ac2a-4222-9a1c-8fda6971b400"
      },
      "execution_count": 67,
      "outputs": [
        {
          "output_type": "execute_result",
          "data": {
            "text/plain": [
              "  AREA  INT_SQFT  DATE_SALE  DIST_MAINROAD  N_BEDROOM  N_BATHROOM  N_ROOM  \\\n",
              "0    0      1004 2011-04-05            131          1           1       3   \n",
              "1    1      1986 2006-12-19             26          2           1       5   \n",
              "2    2       909 2012-04-02             70          1           1       3   \n",
              "3    3      1855 2010-03-13             14          3           2       5   \n",
              "4    0      1226 2009-05-10             84          1           1       3   \n",
              "\n",
              "  SALE_COND  PARK_FACIL DATE_BUILD   BUILDTYPE  UTILITY_AVAIL  STREET  MZZONE  \\\n",
              "0  AbNormal           1 1967-05-15  Commercial              1       1       0   \n",
              "1  AbNormal           0 1995-12-22  Commercial              1       2       1   \n",
              "2  AbNormal           1 1992-09-02  Commercial              2       2       2   \n",
              "3    Family           0 1988-03-18       Other              3       1       3   \n",
              "4  AbNormal           1 1979-10-13       Other              1       2       4   \n",
              "\n",
              "   QS_ROOMS  QS_BATHROOM  QS_BEDROOM  QS_OVERALL  SALES_PRICE  BULIDING_AGE  \n",
              "0       4.0          3.9         4.9       4.330      7600000            44  \n",
              "1       4.9          4.2         2.5       3.765     21717770            11  \n",
              "2       4.1          3.8         2.2       3.090     13159200            20  \n",
              "3       4.7          3.9         3.6       4.010      9630290            22  \n",
              "4       3.0          2.5         4.1       3.290      7406250            30  "
            ],
            "text/html": [
              "\n",
              "  <div id=\"df-62a9c9e8-1c28-471b-a267-7e5b7861a9a6\">\n",
              "    <div class=\"colab-df-container\">\n",
              "      <div>\n",
              "<style scoped>\n",
              "    .dataframe tbody tr th:only-of-type {\n",
              "        vertical-align: middle;\n",
              "    }\n",
              "\n",
              "    .dataframe tbody tr th {\n",
              "        vertical-align: top;\n",
              "    }\n",
              "\n",
              "    .dataframe thead th {\n",
              "        text-align: right;\n",
              "    }\n",
              "</style>\n",
              "<table border=\"1\" class=\"dataframe\">\n",
              "  <thead>\n",
              "    <tr style=\"text-align: right;\">\n",
              "      <th></th>\n",
              "      <th>AREA</th>\n",
              "      <th>INT_SQFT</th>\n",
              "      <th>DATE_SALE</th>\n",
              "      <th>DIST_MAINROAD</th>\n",
              "      <th>N_BEDROOM</th>\n",
              "      <th>N_BATHROOM</th>\n",
              "      <th>N_ROOM</th>\n",
              "      <th>SALE_COND</th>\n",
              "      <th>PARK_FACIL</th>\n",
              "      <th>DATE_BUILD</th>\n",
              "      <th>BUILDTYPE</th>\n",
              "      <th>UTILITY_AVAIL</th>\n",
              "      <th>STREET</th>\n",
              "      <th>MZZONE</th>\n",
              "      <th>QS_ROOMS</th>\n",
              "      <th>QS_BATHROOM</th>\n",
              "      <th>QS_BEDROOM</th>\n",
              "      <th>QS_OVERALL</th>\n",
              "      <th>SALES_PRICE</th>\n",
              "      <th>BULIDING_AGE</th>\n",
              "    </tr>\n",
              "  </thead>\n",
              "  <tbody>\n",
              "    <tr>\n",
              "      <th>0</th>\n",
              "      <td>0</td>\n",
              "      <td>1004</td>\n",
              "      <td>2011-04-05</td>\n",
              "      <td>131</td>\n",
              "      <td>1</td>\n",
              "      <td>1</td>\n",
              "      <td>3</td>\n",
              "      <td>AbNormal</td>\n",
              "      <td>1</td>\n",
              "      <td>1967-05-15</td>\n",
              "      <td>Commercial</td>\n",
              "      <td>1</td>\n",
              "      <td>1</td>\n",
              "      <td>0</td>\n",
              "      <td>4.0</td>\n",
              "      <td>3.9</td>\n",
              "      <td>4.9</td>\n",
              "      <td>4.330</td>\n",
              "      <td>7600000</td>\n",
              "      <td>44</td>\n",
              "    </tr>\n",
              "    <tr>\n",
              "      <th>1</th>\n",
              "      <td>1</td>\n",
              "      <td>1986</td>\n",
              "      <td>2006-12-19</td>\n",
              "      <td>26</td>\n",
              "      <td>2</td>\n",
              "      <td>1</td>\n",
              "      <td>5</td>\n",
              "      <td>AbNormal</td>\n",
              "      <td>0</td>\n",
              "      <td>1995-12-22</td>\n",
              "      <td>Commercial</td>\n",
              "      <td>1</td>\n",
              "      <td>2</td>\n",
              "      <td>1</td>\n",
              "      <td>4.9</td>\n",
              "      <td>4.2</td>\n",
              "      <td>2.5</td>\n",
              "      <td>3.765</td>\n",
              "      <td>21717770</td>\n",
              "      <td>11</td>\n",
              "    </tr>\n",
              "    <tr>\n",
              "      <th>2</th>\n",
              "      <td>2</td>\n",
              "      <td>909</td>\n",
              "      <td>2012-04-02</td>\n",
              "      <td>70</td>\n",
              "      <td>1</td>\n",
              "      <td>1</td>\n",
              "      <td>3</td>\n",
              "      <td>AbNormal</td>\n",
              "      <td>1</td>\n",
              "      <td>1992-09-02</td>\n",
              "      <td>Commercial</td>\n",
              "      <td>2</td>\n",
              "      <td>2</td>\n",
              "      <td>2</td>\n",
              "      <td>4.1</td>\n",
              "      <td>3.8</td>\n",
              "      <td>2.2</td>\n",
              "      <td>3.090</td>\n",
              "      <td>13159200</td>\n",
              "      <td>20</td>\n",
              "    </tr>\n",
              "    <tr>\n",
              "      <th>3</th>\n",
              "      <td>3</td>\n",
              "      <td>1855</td>\n",
              "      <td>2010-03-13</td>\n",
              "      <td>14</td>\n",
              "      <td>3</td>\n",
              "      <td>2</td>\n",
              "      <td>5</td>\n",
              "      <td>Family</td>\n",
              "      <td>0</td>\n",
              "      <td>1988-03-18</td>\n",
              "      <td>Other</td>\n",
              "      <td>3</td>\n",
              "      <td>1</td>\n",
              "      <td>3</td>\n",
              "      <td>4.7</td>\n",
              "      <td>3.9</td>\n",
              "      <td>3.6</td>\n",
              "      <td>4.010</td>\n",
              "      <td>9630290</td>\n",
              "      <td>22</td>\n",
              "    </tr>\n",
              "    <tr>\n",
              "      <th>4</th>\n",
              "      <td>0</td>\n",
              "      <td>1226</td>\n",
              "      <td>2009-05-10</td>\n",
              "      <td>84</td>\n",
              "      <td>1</td>\n",
              "      <td>1</td>\n",
              "      <td>3</td>\n",
              "      <td>AbNormal</td>\n",
              "      <td>1</td>\n",
              "      <td>1979-10-13</td>\n",
              "      <td>Other</td>\n",
              "      <td>1</td>\n",
              "      <td>2</td>\n",
              "      <td>4</td>\n",
              "      <td>3.0</td>\n",
              "      <td>2.5</td>\n",
              "      <td>4.1</td>\n",
              "      <td>3.290</td>\n",
              "      <td>7406250</td>\n",
              "      <td>30</td>\n",
              "    </tr>\n",
              "  </tbody>\n",
              "</table>\n",
              "</div>\n",
              "      <button class=\"colab-df-convert\" onclick=\"convertToInteractive('df-62a9c9e8-1c28-471b-a267-7e5b7861a9a6')\"\n",
              "              title=\"Convert this dataframe to an interactive table.\"\n",
              "              style=\"display:none;\">\n",
              "        \n",
              "  <svg xmlns=\"http://www.w3.org/2000/svg\" height=\"24px\"viewBox=\"0 0 24 24\"\n",
              "       width=\"24px\">\n",
              "    <path d=\"M0 0h24v24H0V0z\" fill=\"none\"/>\n",
              "    <path d=\"M18.56 5.44l.94 2.06.94-2.06 2.06-.94-2.06-.94-.94-2.06-.94 2.06-2.06.94zm-11 1L8.5 8.5l.94-2.06 2.06-.94-2.06-.94L8.5 2.5l-.94 2.06-2.06.94zm10 10l.94 2.06.94-2.06 2.06-.94-2.06-.94-.94-2.06-.94 2.06-2.06.94z\"/><path d=\"M17.41 7.96l-1.37-1.37c-.4-.4-.92-.59-1.43-.59-.52 0-1.04.2-1.43.59L10.3 9.45l-7.72 7.72c-.78.78-.78 2.05 0 2.83L4 21.41c.39.39.9.59 1.41.59.51 0 1.02-.2 1.41-.59l7.78-7.78 2.81-2.81c.8-.78.8-2.07 0-2.86zM5.41 20L4 18.59l7.72-7.72 1.47 1.35L5.41 20z\"/>\n",
              "  </svg>\n",
              "      </button>\n",
              "      \n",
              "  <style>\n",
              "    .colab-df-container {\n",
              "      display:flex;\n",
              "      flex-wrap:wrap;\n",
              "      gap: 12px;\n",
              "    }\n",
              "\n",
              "    .colab-df-convert {\n",
              "      background-color: #E8F0FE;\n",
              "      border: none;\n",
              "      border-radius: 50%;\n",
              "      cursor: pointer;\n",
              "      display: none;\n",
              "      fill: #1967D2;\n",
              "      height: 32px;\n",
              "      padding: 0 0 0 0;\n",
              "      width: 32px;\n",
              "    }\n",
              "\n",
              "    .colab-df-convert:hover {\n",
              "      background-color: #E2EBFA;\n",
              "      box-shadow: 0px 1px 2px rgba(60, 64, 67, 0.3), 0px 1px 3px 1px rgba(60, 64, 67, 0.15);\n",
              "      fill: #174EA6;\n",
              "    }\n",
              "\n",
              "    [theme=dark] .colab-df-convert {\n",
              "      background-color: #3B4455;\n",
              "      fill: #D2E3FC;\n",
              "    }\n",
              "\n",
              "    [theme=dark] .colab-df-convert:hover {\n",
              "      background-color: #434B5C;\n",
              "      box-shadow: 0px 1px 3px 1px rgba(0, 0, 0, 0.15);\n",
              "      filter: drop-shadow(0px 1px 2px rgba(0, 0, 0, 0.3));\n",
              "      fill: #FFFFFF;\n",
              "    }\n",
              "  </style>\n",
              "\n",
              "      <script>\n",
              "        const buttonEl =\n",
              "          document.querySelector('#df-62a9c9e8-1c28-471b-a267-7e5b7861a9a6 button.colab-df-convert');\n",
              "        buttonEl.style.display =\n",
              "          google.colab.kernel.accessAllowed ? 'block' : 'none';\n",
              "\n",
              "        async function convertToInteractive(key) {\n",
              "          const element = document.querySelector('#df-62a9c9e8-1c28-471b-a267-7e5b7861a9a6');\n",
              "          const dataTable =\n",
              "            await google.colab.kernel.invokeFunction('convertToInteractive',\n",
              "                                                     [key], {});\n",
              "          if (!dataTable) return;\n",
              "\n",
              "          const docLinkHtml = 'Like what you see? Visit the ' +\n",
              "            '<a target=\"_blank\" href=https://colab.research.google.com/notebooks/data_table.ipynb>data table notebook</a>'\n",
              "            + ' to learn more about interactive tables.';\n",
              "          element.innerHTML = '';\n",
              "          dataTable['output_type'] = 'display_data';\n",
              "          await google.colab.output.renderOutput(dataTable, element);\n",
              "          const docLink = document.createElement('div');\n",
              "          docLink.innerHTML = docLinkHtml;\n",
              "          element.appendChild(docLink);\n",
              "        }\n",
              "      </script>\n",
              "    </div>\n",
              "  </div>\n",
              "  "
            ]
          },
          "metadata": {},
          "execution_count": 67
        }
      ]
    },
    {
      "cell_type": "markdown",
      "source": [
        "ONE HOT ENCODING"
      ],
      "metadata": {
        "id": "piGNVlhf3ljj"
      }
    },
    {
      "cell_type": "code",
      "source": [
        "dummies=pd.get_dummies(df.BUILDTYPE)\n",
        "dummies.head()"
      ],
      "metadata": {
        "colab": {
          "base_uri": "https://localhost:8080/",
          "height": 206
        },
        "id": "zZZz7JLyzCEp",
        "outputId": "5c15ccf1-3e88-4e50-df0b-27c25267a67c"
      },
      "execution_count": 68,
      "outputs": [
        {
          "output_type": "execute_result",
          "data": {
            "text/plain": [
              "   Commercial  House  Other\n",
              "0           1      0      0\n",
              "1           1      0      0\n",
              "2           1      0      0\n",
              "3           0      0      1\n",
              "4           0      0      1"
            ],
            "text/html": [
              "\n",
              "  <div id=\"df-88e07e5c-c7d8-48e5-a7bc-c2e0590f8849\">\n",
              "    <div class=\"colab-df-container\">\n",
              "      <div>\n",
              "<style scoped>\n",
              "    .dataframe tbody tr th:only-of-type {\n",
              "        vertical-align: middle;\n",
              "    }\n",
              "\n",
              "    .dataframe tbody tr th {\n",
              "        vertical-align: top;\n",
              "    }\n",
              "\n",
              "    .dataframe thead th {\n",
              "        text-align: right;\n",
              "    }\n",
              "</style>\n",
              "<table border=\"1\" class=\"dataframe\">\n",
              "  <thead>\n",
              "    <tr style=\"text-align: right;\">\n",
              "      <th></th>\n",
              "      <th>Commercial</th>\n",
              "      <th>House</th>\n",
              "      <th>Other</th>\n",
              "    </tr>\n",
              "  </thead>\n",
              "  <tbody>\n",
              "    <tr>\n",
              "      <th>0</th>\n",
              "      <td>1</td>\n",
              "      <td>0</td>\n",
              "      <td>0</td>\n",
              "    </tr>\n",
              "    <tr>\n",
              "      <th>1</th>\n",
              "      <td>1</td>\n",
              "      <td>0</td>\n",
              "      <td>0</td>\n",
              "    </tr>\n",
              "    <tr>\n",
              "      <th>2</th>\n",
              "      <td>1</td>\n",
              "      <td>0</td>\n",
              "      <td>0</td>\n",
              "    </tr>\n",
              "    <tr>\n",
              "      <th>3</th>\n",
              "      <td>0</td>\n",
              "      <td>0</td>\n",
              "      <td>1</td>\n",
              "    </tr>\n",
              "    <tr>\n",
              "      <th>4</th>\n",
              "      <td>0</td>\n",
              "      <td>0</td>\n",
              "      <td>1</td>\n",
              "    </tr>\n",
              "  </tbody>\n",
              "</table>\n",
              "</div>\n",
              "      <button class=\"colab-df-convert\" onclick=\"convertToInteractive('df-88e07e5c-c7d8-48e5-a7bc-c2e0590f8849')\"\n",
              "              title=\"Convert this dataframe to an interactive table.\"\n",
              "              style=\"display:none;\">\n",
              "        \n",
              "  <svg xmlns=\"http://www.w3.org/2000/svg\" height=\"24px\"viewBox=\"0 0 24 24\"\n",
              "       width=\"24px\">\n",
              "    <path d=\"M0 0h24v24H0V0z\" fill=\"none\"/>\n",
              "    <path d=\"M18.56 5.44l.94 2.06.94-2.06 2.06-.94-2.06-.94-.94-2.06-.94 2.06-2.06.94zm-11 1L8.5 8.5l.94-2.06 2.06-.94-2.06-.94L8.5 2.5l-.94 2.06-2.06.94zm10 10l.94 2.06.94-2.06 2.06-.94-2.06-.94-.94-2.06-.94 2.06-2.06.94z\"/><path d=\"M17.41 7.96l-1.37-1.37c-.4-.4-.92-.59-1.43-.59-.52 0-1.04.2-1.43.59L10.3 9.45l-7.72 7.72c-.78.78-.78 2.05 0 2.83L4 21.41c.39.39.9.59 1.41.59.51 0 1.02-.2 1.41-.59l7.78-7.78 2.81-2.81c.8-.78.8-2.07 0-2.86zM5.41 20L4 18.59l7.72-7.72 1.47 1.35L5.41 20z\"/>\n",
              "  </svg>\n",
              "      </button>\n",
              "      \n",
              "  <style>\n",
              "    .colab-df-container {\n",
              "      display:flex;\n",
              "      flex-wrap:wrap;\n",
              "      gap: 12px;\n",
              "    }\n",
              "\n",
              "    .colab-df-convert {\n",
              "      background-color: #E8F0FE;\n",
              "      border: none;\n",
              "      border-radius: 50%;\n",
              "      cursor: pointer;\n",
              "      display: none;\n",
              "      fill: #1967D2;\n",
              "      height: 32px;\n",
              "      padding: 0 0 0 0;\n",
              "      width: 32px;\n",
              "    }\n",
              "\n",
              "    .colab-df-convert:hover {\n",
              "      background-color: #E2EBFA;\n",
              "      box-shadow: 0px 1px 2px rgba(60, 64, 67, 0.3), 0px 1px 3px 1px rgba(60, 64, 67, 0.15);\n",
              "      fill: #174EA6;\n",
              "    }\n",
              "\n",
              "    [theme=dark] .colab-df-convert {\n",
              "      background-color: #3B4455;\n",
              "      fill: #D2E3FC;\n",
              "    }\n",
              "\n",
              "    [theme=dark] .colab-df-convert:hover {\n",
              "      background-color: #434B5C;\n",
              "      box-shadow: 0px 1px 3px 1px rgba(0, 0, 0, 0.15);\n",
              "      filter: drop-shadow(0px 1px 2px rgba(0, 0, 0, 0.3));\n",
              "      fill: #FFFFFF;\n",
              "    }\n",
              "  </style>\n",
              "\n",
              "      <script>\n",
              "        const buttonEl =\n",
              "          document.querySelector('#df-88e07e5c-c7d8-48e5-a7bc-c2e0590f8849 button.colab-df-convert');\n",
              "        buttonEl.style.display =\n",
              "          google.colab.kernel.accessAllowed ? 'block' : 'none';\n",
              "\n",
              "        async function convertToInteractive(key) {\n",
              "          const element = document.querySelector('#df-88e07e5c-c7d8-48e5-a7bc-c2e0590f8849');\n",
              "          const dataTable =\n",
              "            await google.colab.kernel.invokeFunction('convertToInteractive',\n",
              "                                                     [key], {});\n",
              "          if (!dataTable) return;\n",
              "\n",
              "          const docLinkHtml = 'Like what you see? Visit the ' +\n",
              "            '<a target=\"_blank\" href=https://colab.research.google.com/notebooks/data_table.ipynb>data table notebook</a>'\n",
              "            + ' to learn more about interactive tables.';\n",
              "          element.innerHTML = '';\n",
              "          dataTable['output_type'] = 'display_data';\n",
              "          await google.colab.output.renderOutput(dataTable, element);\n",
              "          const docLink = document.createElement('div');\n",
              "          docLink.innerHTML = docLinkHtml;\n",
              "          element.appendChild(docLink);\n",
              "        }\n",
              "      </script>\n",
              "    </div>\n",
              "  </div>\n",
              "  "
            ]
          },
          "metadata": {},
          "execution_count": 68
        }
      ]
    },
    {
      "cell_type": "markdown",
      "source": [
        "AFTER COMPLETE ONE HOT ENCODING DUMMIES FILE CONCATENATE WITH ORIGINAL FILE"
      ],
      "metadata": {
        "id": "2V8JOnwU3s-9"
      }
    },
    {
      "cell_type": "code",
      "source": [
        "df=pd.concat([df,dummies],axis=1)"
      ],
      "metadata": {
        "id": "uaCZzWLf0FTe"
      },
      "execution_count": 69,
      "outputs": []
    },
    {
      "cell_type": "code",
      "source": [
        "df.head()"
      ],
      "metadata": {
        "colab": {
          "base_uri": "https://localhost:8080/",
          "height": 386
        },
        "id": "u-SxTmKn1mEy",
        "outputId": "282e6e55-f4b5-4b64-e826-4240d8c2bb40"
      },
      "execution_count": 70,
      "outputs": [
        {
          "output_type": "execute_result",
          "data": {
            "text/plain": [
              "  AREA  INT_SQFT  DATE_SALE  DIST_MAINROAD  N_BEDROOM  N_BATHROOM  N_ROOM  \\\n",
              "0    0      1004 2011-04-05            131          1           1       3   \n",
              "1    1      1986 2006-12-19             26          2           1       5   \n",
              "2    2       909 2012-04-02             70          1           1       3   \n",
              "3    3      1855 2010-03-13             14          3           2       5   \n",
              "4    0      1226 2009-05-10             84          1           1       3   \n",
              "\n",
              "  SALE_COND  PARK_FACIL DATE_BUILD  ... MZZONE  QS_ROOMS  QS_BATHROOM  \\\n",
              "0  AbNormal           1 1967-05-15  ...      0       4.0          3.9   \n",
              "1  AbNormal           0 1995-12-22  ...      1       4.9          4.2   \n",
              "2  AbNormal           1 1992-09-02  ...      2       4.1          3.8   \n",
              "3    Family           0 1988-03-18  ...      3       4.7          3.9   \n",
              "4  AbNormal           1 1979-10-13  ...      4       3.0          2.5   \n",
              "\n",
              "   QS_BEDROOM  QS_OVERALL  SALES_PRICE  BULIDING_AGE  Commercial  House  Other  \n",
              "0         4.9       4.330      7600000            44           1      0      0  \n",
              "1         2.5       3.765     21717770            11           1      0      0  \n",
              "2         2.2       3.090     13159200            20           1      0      0  \n",
              "3         3.6       4.010      9630290            22           0      0      1  \n",
              "4         4.1       3.290      7406250            30           0      0      1  \n",
              "\n",
              "[5 rows x 23 columns]"
            ],
            "text/html": [
              "\n",
              "  <div id=\"df-581b5d2e-c7a0-4647-b1f7-b8059e76426d\">\n",
              "    <div class=\"colab-df-container\">\n",
              "      <div>\n",
              "<style scoped>\n",
              "    .dataframe tbody tr th:only-of-type {\n",
              "        vertical-align: middle;\n",
              "    }\n",
              "\n",
              "    .dataframe tbody tr th {\n",
              "        vertical-align: top;\n",
              "    }\n",
              "\n",
              "    .dataframe thead th {\n",
              "        text-align: right;\n",
              "    }\n",
              "</style>\n",
              "<table border=\"1\" class=\"dataframe\">\n",
              "  <thead>\n",
              "    <tr style=\"text-align: right;\">\n",
              "      <th></th>\n",
              "      <th>AREA</th>\n",
              "      <th>INT_SQFT</th>\n",
              "      <th>DATE_SALE</th>\n",
              "      <th>DIST_MAINROAD</th>\n",
              "      <th>N_BEDROOM</th>\n",
              "      <th>N_BATHROOM</th>\n",
              "      <th>N_ROOM</th>\n",
              "      <th>SALE_COND</th>\n",
              "      <th>PARK_FACIL</th>\n",
              "      <th>DATE_BUILD</th>\n",
              "      <th>...</th>\n",
              "      <th>MZZONE</th>\n",
              "      <th>QS_ROOMS</th>\n",
              "      <th>QS_BATHROOM</th>\n",
              "      <th>QS_BEDROOM</th>\n",
              "      <th>QS_OVERALL</th>\n",
              "      <th>SALES_PRICE</th>\n",
              "      <th>BULIDING_AGE</th>\n",
              "      <th>Commercial</th>\n",
              "      <th>House</th>\n",
              "      <th>Other</th>\n",
              "    </tr>\n",
              "  </thead>\n",
              "  <tbody>\n",
              "    <tr>\n",
              "      <th>0</th>\n",
              "      <td>0</td>\n",
              "      <td>1004</td>\n",
              "      <td>2011-04-05</td>\n",
              "      <td>131</td>\n",
              "      <td>1</td>\n",
              "      <td>1</td>\n",
              "      <td>3</td>\n",
              "      <td>AbNormal</td>\n",
              "      <td>1</td>\n",
              "      <td>1967-05-15</td>\n",
              "      <td>...</td>\n",
              "      <td>0</td>\n",
              "      <td>4.0</td>\n",
              "      <td>3.9</td>\n",
              "      <td>4.9</td>\n",
              "      <td>4.330</td>\n",
              "      <td>7600000</td>\n",
              "      <td>44</td>\n",
              "      <td>1</td>\n",
              "      <td>0</td>\n",
              "      <td>0</td>\n",
              "    </tr>\n",
              "    <tr>\n",
              "      <th>1</th>\n",
              "      <td>1</td>\n",
              "      <td>1986</td>\n",
              "      <td>2006-12-19</td>\n",
              "      <td>26</td>\n",
              "      <td>2</td>\n",
              "      <td>1</td>\n",
              "      <td>5</td>\n",
              "      <td>AbNormal</td>\n",
              "      <td>0</td>\n",
              "      <td>1995-12-22</td>\n",
              "      <td>...</td>\n",
              "      <td>1</td>\n",
              "      <td>4.9</td>\n",
              "      <td>4.2</td>\n",
              "      <td>2.5</td>\n",
              "      <td>3.765</td>\n",
              "      <td>21717770</td>\n",
              "      <td>11</td>\n",
              "      <td>1</td>\n",
              "      <td>0</td>\n",
              "      <td>0</td>\n",
              "    </tr>\n",
              "    <tr>\n",
              "      <th>2</th>\n",
              "      <td>2</td>\n",
              "      <td>909</td>\n",
              "      <td>2012-04-02</td>\n",
              "      <td>70</td>\n",
              "      <td>1</td>\n",
              "      <td>1</td>\n",
              "      <td>3</td>\n",
              "      <td>AbNormal</td>\n",
              "      <td>1</td>\n",
              "      <td>1992-09-02</td>\n",
              "      <td>...</td>\n",
              "      <td>2</td>\n",
              "      <td>4.1</td>\n",
              "      <td>3.8</td>\n",
              "      <td>2.2</td>\n",
              "      <td>3.090</td>\n",
              "      <td>13159200</td>\n",
              "      <td>20</td>\n",
              "      <td>1</td>\n",
              "      <td>0</td>\n",
              "      <td>0</td>\n",
              "    </tr>\n",
              "    <tr>\n",
              "      <th>3</th>\n",
              "      <td>3</td>\n",
              "      <td>1855</td>\n",
              "      <td>2010-03-13</td>\n",
              "      <td>14</td>\n",
              "      <td>3</td>\n",
              "      <td>2</td>\n",
              "      <td>5</td>\n",
              "      <td>Family</td>\n",
              "      <td>0</td>\n",
              "      <td>1988-03-18</td>\n",
              "      <td>...</td>\n",
              "      <td>3</td>\n",
              "      <td>4.7</td>\n",
              "      <td>3.9</td>\n",
              "      <td>3.6</td>\n",
              "      <td>4.010</td>\n",
              "      <td>9630290</td>\n",
              "      <td>22</td>\n",
              "      <td>0</td>\n",
              "      <td>0</td>\n",
              "      <td>1</td>\n",
              "    </tr>\n",
              "    <tr>\n",
              "      <th>4</th>\n",
              "      <td>0</td>\n",
              "      <td>1226</td>\n",
              "      <td>2009-05-10</td>\n",
              "      <td>84</td>\n",
              "      <td>1</td>\n",
              "      <td>1</td>\n",
              "      <td>3</td>\n",
              "      <td>AbNormal</td>\n",
              "      <td>1</td>\n",
              "      <td>1979-10-13</td>\n",
              "      <td>...</td>\n",
              "      <td>4</td>\n",
              "      <td>3.0</td>\n",
              "      <td>2.5</td>\n",
              "      <td>4.1</td>\n",
              "      <td>3.290</td>\n",
              "      <td>7406250</td>\n",
              "      <td>30</td>\n",
              "      <td>0</td>\n",
              "      <td>0</td>\n",
              "      <td>1</td>\n",
              "    </tr>\n",
              "  </tbody>\n",
              "</table>\n",
              "<p>5 rows × 23 columns</p>\n",
              "</div>\n",
              "      <button class=\"colab-df-convert\" onclick=\"convertToInteractive('df-581b5d2e-c7a0-4647-b1f7-b8059e76426d')\"\n",
              "              title=\"Convert this dataframe to an interactive table.\"\n",
              "              style=\"display:none;\">\n",
              "        \n",
              "  <svg xmlns=\"http://www.w3.org/2000/svg\" height=\"24px\"viewBox=\"0 0 24 24\"\n",
              "       width=\"24px\">\n",
              "    <path d=\"M0 0h24v24H0V0z\" fill=\"none\"/>\n",
              "    <path d=\"M18.56 5.44l.94 2.06.94-2.06 2.06-.94-2.06-.94-.94-2.06-.94 2.06-2.06.94zm-11 1L8.5 8.5l.94-2.06 2.06-.94-2.06-.94L8.5 2.5l-.94 2.06-2.06.94zm10 10l.94 2.06.94-2.06 2.06-.94-2.06-.94-.94-2.06-.94 2.06-2.06.94z\"/><path d=\"M17.41 7.96l-1.37-1.37c-.4-.4-.92-.59-1.43-.59-.52 0-1.04.2-1.43.59L10.3 9.45l-7.72 7.72c-.78.78-.78 2.05 0 2.83L4 21.41c.39.39.9.59 1.41.59.51 0 1.02-.2 1.41-.59l7.78-7.78 2.81-2.81c.8-.78.8-2.07 0-2.86zM5.41 20L4 18.59l7.72-7.72 1.47 1.35L5.41 20z\"/>\n",
              "  </svg>\n",
              "      </button>\n",
              "      \n",
              "  <style>\n",
              "    .colab-df-container {\n",
              "      display:flex;\n",
              "      flex-wrap:wrap;\n",
              "      gap: 12px;\n",
              "    }\n",
              "\n",
              "    .colab-df-convert {\n",
              "      background-color: #E8F0FE;\n",
              "      border: none;\n",
              "      border-radius: 50%;\n",
              "      cursor: pointer;\n",
              "      display: none;\n",
              "      fill: #1967D2;\n",
              "      height: 32px;\n",
              "      padding: 0 0 0 0;\n",
              "      width: 32px;\n",
              "    }\n",
              "\n",
              "    .colab-df-convert:hover {\n",
              "      background-color: #E2EBFA;\n",
              "      box-shadow: 0px 1px 2px rgba(60, 64, 67, 0.3), 0px 1px 3px 1px rgba(60, 64, 67, 0.15);\n",
              "      fill: #174EA6;\n",
              "    }\n",
              "\n",
              "    [theme=dark] .colab-df-convert {\n",
              "      background-color: #3B4455;\n",
              "      fill: #D2E3FC;\n",
              "    }\n",
              "\n",
              "    [theme=dark] .colab-df-convert:hover {\n",
              "      background-color: #434B5C;\n",
              "      box-shadow: 0px 1px 3px 1px rgba(0, 0, 0, 0.15);\n",
              "      filter: drop-shadow(0px 1px 2px rgba(0, 0, 0, 0.3));\n",
              "      fill: #FFFFFF;\n",
              "    }\n",
              "  </style>\n",
              "\n",
              "      <script>\n",
              "        const buttonEl =\n",
              "          document.querySelector('#df-581b5d2e-c7a0-4647-b1f7-b8059e76426d button.colab-df-convert');\n",
              "        buttonEl.style.display =\n",
              "          google.colab.kernel.accessAllowed ? 'block' : 'none';\n",
              "\n",
              "        async function convertToInteractive(key) {\n",
              "          const element = document.querySelector('#df-581b5d2e-c7a0-4647-b1f7-b8059e76426d');\n",
              "          const dataTable =\n",
              "            await google.colab.kernel.invokeFunction('convertToInteractive',\n",
              "                                                     [key], {});\n",
              "          if (!dataTable) return;\n",
              "\n",
              "          const docLinkHtml = 'Like what you see? Visit the ' +\n",
              "            '<a target=\"_blank\" href=https://colab.research.google.com/notebooks/data_table.ipynb>data table notebook</a>'\n",
              "            + ' to learn more about interactive tables.';\n",
              "          element.innerHTML = '';\n",
              "          dataTable['output_type'] = 'display_data';\n",
              "          await google.colab.output.renderOutput(dataTable, element);\n",
              "          const docLink = document.createElement('div');\n",
              "          docLink.innerHTML = docLinkHtml;\n",
              "          element.appendChild(docLink);\n",
              "        }\n",
              "      </script>\n",
              "    </div>\n",
              "  </div>\n",
              "  "
            ]
          },
          "metadata": {},
          "execution_count": 70
        }
      ]
    },
    {
      "cell_type": "code",
      "source": [
        "df.rename(columns={\"Commercial\": \"BUILDTYPE_COMMERCIAL\", \"House\": \"BUILDTYPE_HOUSE\",'Other':'BUILDTYPE_OTHER','BULDING_AGE':'BUILDING_AGE'},inplace=True)"
      ],
      "metadata": {
        "id": "PHlBRL9o3cwU"
      },
      "execution_count": 71,
      "outputs": []
    },
    {
      "cell_type": "code",
      "source": [
        "df.head()"
      ],
      "metadata": {
        "colab": {
          "base_uri": "https://localhost:8080/",
          "height": 386
        },
        "id": "6NVUCUsQ3fNp",
        "outputId": "a084e4a3-ed29-4c1f-bc0c-ed4348441651"
      },
      "execution_count": 72,
      "outputs": [
        {
          "output_type": "execute_result",
          "data": {
            "text/plain": [
              "  AREA  INT_SQFT  DATE_SALE  DIST_MAINROAD  N_BEDROOM  N_BATHROOM  N_ROOM  \\\n",
              "0    0      1004 2011-04-05            131          1           1       3   \n",
              "1    1      1986 2006-12-19             26          2           1       5   \n",
              "2    2       909 2012-04-02             70          1           1       3   \n",
              "3    3      1855 2010-03-13             14          3           2       5   \n",
              "4    0      1226 2009-05-10             84          1           1       3   \n",
              "\n",
              "  SALE_COND  PARK_FACIL DATE_BUILD  ... MZZONE  QS_ROOMS  QS_BATHROOM  \\\n",
              "0  AbNormal           1 1967-05-15  ...      0       4.0          3.9   \n",
              "1  AbNormal           0 1995-12-22  ...      1       4.9          4.2   \n",
              "2  AbNormal           1 1992-09-02  ...      2       4.1          3.8   \n",
              "3    Family           0 1988-03-18  ...      3       4.7          3.9   \n",
              "4  AbNormal           1 1979-10-13  ...      4       3.0          2.5   \n",
              "\n",
              "   QS_BEDROOM  QS_OVERALL  SALES_PRICE  BULIDING_AGE  BUILDTYPE_COMMERCIAL  \\\n",
              "0         4.9       4.330      7600000            44                     1   \n",
              "1         2.5       3.765     21717770            11                     1   \n",
              "2         2.2       3.090     13159200            20                     1   \n",
              "3         3.6       4.010      9630290            22                     0   \n",
              "4         4.1       3.290      7406250            30                     0   \n",
              "\n",
              "   BUILDTYPE_HOUSE  BUILDTYPE_OTHER  \n",
              "0                0                0  \n",
              "1                0                0  \n",
              "2                0                0  \n",
              "3                0                1  \n",
              "4                0                1  \n",
              "\n",
              "[5 rows x 23 columns]"
            ],
            "text/html": [
              "\n",
              "  <div id=\"df-92f85ef2-15c3-4bda-80ba-4e02221bdb01\">\n",
              "    <div class=\"colab-df-container\">\n",
              "      <div>\n",
              "<style scoped>\n",
              "    .dataframe tbody tr th:only-of-type {\n",
              "        vertical-align: middle;\n",
              "    }\n",
              "\n",
              "    .dataframe tbody tr th {\n",
              "        vertical-align: top;\n",
              "    }\n",
              "\n",
              "    .dataframe thead th {\n",
              "        text-align: right;\n",
              "    }\n",
              "</style>\n",
              "<table border=\"1\" class=\"dataframe\">\n",
              "  <thead>\n",
              "    <tr style=\"text-align: right;\">\n",
              "      <th></th>\n",
              "      <th>AREA</th>\n",
              "      <th>INT_SQFT</th>\n",
              "      <th>DATE_SALE</th>\n",
              "      <th>DIST_MAINROAD</th>\n",
              "      <th>N_BEDROOM</th>\n",
              "      <th>N_BATHROOM</th>\n",
              "      <th>N_ROOM</th>\n",
              "      <th>SALE_COND</th>\n",
              "      <th>PARK_FACIL</th>\n",
              "      <th>DATE_BUILD</th>\n",
              "      <th>...</th>\n",
              "      <th>MZZONE</th>\n",
              "      <th>QS_ROOMS</th>\n",
              "      <th>QS_BATHROOM</th>\n",
              "      <th>QS_BEDROOM</th>\n",
              "      <th>QS_OVERALL</th>\n",
              "      <th>SALES_PRICE</th>\n",
              "      <th>BULIDING_AGE</th>\n",
              "      <th>BUILDTYPE_COMMERCIAL</th>\n",
              "      <th>BUILDTYPE_HOUSE</th>\n",
              "      <th>BUILDTYPE_OTHER</th>\n",
              "    </tr>\n",
              "  </thead>\n",
              "  <tbody>\n",
              "    <tr>\n",
              "      <th>0</th>\n",
              "      <td>0</td>\n",
              "      <td>1004</td>\n",
              "      <td>2011-04-05</td>\n",
              "      <td>131</td>\n",
              "      <td>1</td>\n",
              "      <td>1</td>\n",
              "      <td>3</td>\n",
              "      <td>AbNormal</td>\n",
              "      <td>1</td>\n",
              "      <td>1967-05-15</td>\n",
              "      <td>...</td>\n",
              "      <td>0</td>\n",
              "      <td>4.0</td>\n",
              "      <td>3.9</td>\n",
              "      <td>4.9</td>\n",
              "      <td>4.330</td>\n",
              "      <td>7600000</td>\n",
              "      <td>44</td>\n",
              "      <td>1</td>\n",
              "      <td>0</td>\n",
              "      <td>0</td>\n",
              "    </tr>\n",
              "    <tr>\n",
              "      <th>1</th>\n",
              "      <td>1</td>\n",
              "      <td>1986</td>\n",
              "      <td>2006-12-19</td>\n",
              "      <td>26</td>\n",
              "      <td>2</td>\n",
              "      <td>1</td>\n",
              "      <td>5</td>\n",
              "      <td>AbNormal</td>\n",
              "      <td>0</td>\n",
              "      <td>1995-12-22</td>\n",
              "      <td>...</td>\n",
              "      <td>1</td>\n",
              "      <td>4.9</td>\n",
              "      <td>4.2</td>\n",
              "      <td>2.5</td>\n",
              "      <td>3.765</td>\n",
              "      <td>21717770</td>\n",
              "      <td>11</td>\n",
              "      <td>1</td>\n",
              "      <td>0</td>\n",
              "      <td>0</td>\n",
              "    </tr>\n",
              "    <tr>\n",
              "      <th>2</th>\n",
              "      <td>2</td>\n",
              "      <td>909</td>\n",
              "      <td>2012-04-02</td>\n",
              "      <td>70</td>\n",
              "      <td>1</td>\n",
              "      <td>1</td>\n",
              "      <td>3</td>\n",
              "      <td>AbNormal</td>\n",
              "      <td>1</td>\n",
              "      <td>1992-09-02</td>\n",
              "      <td>...</td>\n",
              "      <td>2</td>\n",
              "      <td>4.1</td>\n",
              "      <td>3.8</td>\n",
              "      <td>2.2</td>\n",
              "      <td>3.090</td>\n",
              "      <td>13159200</td>\n",
              "      <td>20</td>\n",
              "      <td>1</td>\n",
              "      <td>0</td>\n",
              "      <td>0</td>\n",
              "    </tr>\n",
              "    <tr>\n",
              "      <th>3</th>\n",
              "      <td>3</td>\n",
              "      <td>1855</td>\n",
              "      <td>2010-03-13</td>\n",
              "      <td>14</td>\n",
              "      <td>3</td>\n",
              "      <td>2</td>\n",
              "      <td>5</td>\n",
              "      <td>Family</td>\n",
              "      <td>0</td>\n",
              "      <td>1988-03-18</td>\n",
              "      <td>...</td>\n",
              "      <td>3</td>\n",
              "      <td>4.7</td>\n",
              "      <td>3.9</td>\n",
              "      <td>3.6</td>\n",
              "      <td>4.010</td>\n",
              "      <td>9630290</td>\n",
              "      <td>22</td>\n",
              "      <td>0</td>\n",
              "      <td>0</td>\n",
              "      <td>1</td>\n",
              "    </tr>\n",
              "    <tr>\n",
              "      <th>4</th>\n",
              "      <td>0</td>\n",
              "      <td>1226</td>\n",
              "      <td>2009-05-10</td>\n",
              "      <td>84</td>\n",
              "      <td>1</td>\n",
              "      <td>1</td>\n",
              "      <td>3</td>\n",
              "      <td>AbNormal</td>\n",
              "      <td>1</td>\n",
              "      <td>1979-10-13</td>\n",
              "      <td>...</td>\n",
              "      <td>4</td>\n",
              "      <td>3.0</td>\n",
              "      <td>2.5</td>\n",
              "      <td>4.1</td>\n",
              "      <td>3.290</td>\n",
              "      <td>7406250</td>\n",
              "      <td>30</td>\n",
              "      <td>0</td>\n",
              "      <td>0</td>\n",
              "      <td>1</td>\n",
              "    </tr>\n",
              "  </tbody>\n",
              "</table>\n",
              "<p>5 rows × 23 columns</p>\n",
              "</div>\n",
              "      <button class=\"colab-df-convert\" onclick=\"convertToInteractive('df-92f85ef2-15c3-4bda-80ba-4e02221bdb01')\"\n",
              "              title=\"Convert this dataframe to an interactive table.\"\n",
              "              style=\"display:none;\">\n",
              "        \n",
              "  <svg xmlns=\"http://www.w3.org/2000/svg\" height=\"24px\"viewBox=\"0 0 24 24\"\n",
              "       width=\"24px\">\n",
              "    <path d=\"M0 0h24v24H0V0z\" fill=\"none\"/>\n",
              "    <path d=\"M18.56 5.44l.94 2.06.94-2.06 2.06-.94-2.06-.94-.94-2.06-.94 2.06-2.06.94zm-11 1L8.5 8.5l.94-2.06 2.06-.94-2.06-.94L8.5 2.5l-.94 2.06-2.06.94zm10 10l.94 2.06.94-2.06 2.06-.94-2.06-.94-.94-2.06-.94 2.06-2.06.94z\"/><path d=\"M17.41 7.96l-1.37-1.37c-.4-.4-.92-.59-1.43-.59-.52 0-1.04.2-1.43.59L10.3 9.45l-7.72 7.72c-.78.78-.78 2.05 0 2.83L4 21.41c.39.39.9.59 1.41.59.51 0 1.02-.2 1.41-.59l7.78-7.78 2.81-2.81c.8-.78.8-2.07 0-2.86zM5.41 20L4 18.59l7.72-7.72 1.47 1.35L5.41 20z\"/>\n",
              "  </svg>\n",
              "      </button>\n",
              "      \n",
              "  <style>\n",
              "    .colab-df-container {\n",
              "      display:flex;\n",
              "      flex-wrap:wrap;\n",
              "      gap: 12px;\n",
              "    }\n",
              "\n",
              "    .colab-df-convert {\n",
              "      background-color: #E8F0FE;\n",
              "      border: none;\n",
              "      border-radius: 50%;\n",
              "      cursor: pointer;\n",
              "      display: none;\n",
              "      fill: #1967D2;\n",
              "      height: 32px;\n",
              "      padding: 0 0 0 0;\n",
              "      width: 32px;\n",
              "    }\n",
              "\n",
              "    .colab-df-convert:hover {\n",
              "      background-color: #E2EBFA;\n",
              "      box-shadow: 0px 1px 2px rgba(60, 64, 67, 0.3), 0px 1px 3px 1px rgba(60, 64, 67, 0.15);\n",
              "      fill: #174EA6;\n",
              "    }\n",
              "\n",
              "    [theme=dark] .colab-df-convert {\n",
              "      background-color: #3B4455;\n",
              "      fill: #D2E3FC;\n",
              "    }\n",
              "\n",
              "    [theme=dark] .colab-df-convert:hover {\n",
              "      background-color: #434B5C;\n",
              "      box-shadow: 0px 1px 3px 1px rgba(0, 0, 0, 0.15);\n",
              "      filter: drop-shadow(0px 1px 2px rgba(0, 0, 0, 0.3));\n",
              "      fill: #FFFFFF;\n",
              "    }\n",
              "  </style>\n",
              "\n",
              "      <script>\n",
              "        const buttonEl =\n",
              "          document.querySelector('#df-92f85ef2-15c3-4bda-80ba-4e02221bdb01 button.colab-df-convert');\n",
              "        buttonEl.style.display =\n",
              "          google.colab.kernel.accessAllowed ? 'block' : 'none';\n",
              "\n",
              "        async function convertToInteractive(key) {\n",
              "          const element = document.querySelector('#df-92f85ef2-15c3-4bda-80ba-4e02221bdb01');\n",
              "          const dataTable =\n",
              "            await google.colab.kernel.invokeFunction('convertToInteractive',\n",
              "                                                     [key], {});\n",
              "          if (!dataTable) return;\n",
              "\n",
              "          const docLinkHtml = 'Like what you see? Visit the ' +\n",
              "            '<a target=\"_blank\" href=https://colab.research.google.com/notebooks/data_table.ipynb>data table notebook</a>'\n",
              "            + ' to learn more about interactive tables.';\n",
              "          element.innerHTML = '';\n",
              "          dataTable['output_type'] = 'display_data';\n",
              "          await google.colab.output.renderOutput(dataTable, element);\n",
              "          const docLink = document.createElement('div');\n",
              "          docLink.innerHTML = docLinkHtml;\n",
              "          element.appendChild(docLink);\n",
              "        }\n",
              "      </script>\n",
              "    </div>\n",
              "  </div>\n",
              "  "
            ]
          },
          "metadata": {},
          "execution_count": 72
        }
      ]
    },
    {
      "cell_type": "markdown",
      "source": [
        "Now Drop the UnNeccessary columns"
      ],
      "metadata": {
        "id": "yj_IutsA3-eM"
      }
    },
    {
      "cell_type": "code",
      "source": [
        "df.drop(['DATE_SALE','DIST_MAINROAD','SALE_COND','DATE_BUILD', 'BUILDTYPE','QS_ROOMS',\n",
        "       'QS_BATHROOM', 'QS_BEDROOM', 'QS_OVERALL'],axis=1,inplace=True)"
      ],
      "metadata": {
        "id": "MSKGaLdv4Nx2"
      },
      "execution_count": 73,
      "outputs": []
    },
    {
      "cell_type": "code",
      "source": [
        "df.head()"
      ],
      "metadata": {
        "colab": {
          "base_uri": "https://localhost:8080/",
          "height": 270
        },
        "id": "JttGpVo05Wjv",
        "outputId": "18846334-1d4e-48fb-e718-360aa4fefb5a"
      },
      "execution_count": 74,
      "outputs": [
        {
          "output_type": "execute_result",
          "data": {
            "text/plain": [
              "  AREA  INT_SQFT  N_BEDROOM  N_BATHROOM  N_ROOM  PARK_FACIL  UTILITY_AVAIL  \\\n",
              "0    0      1004          1           1       3           1              1   \n",
              "1    1      1986          2           1       5           0              1   \n",
              "2    2       909          1           1       3           1              2   \n",
              "3    3      1855          3           2       5           0              3   \n",
              "4    0      1226          1           1       3           1              1   \n",
              "\n",
              "   STREET  MZZONE  SALES_PRICE  BULIDING_AGE  BUILDTYPE_COMMERCIAL  \\\n",
              "0       1       0      7600000            44                     1   \n",
              "1       2       1     21717770            11                     1   \n",
              "2       2       2     13159200            20                     1   \n",
              "3       1       3      9630290            22                     0   \n",
              "4       2       4      7406250            30                     0   \n",
              "\n",
              "   BUILDTYPE_HOUSE  BUILDTYPE_OTHER  \n",
              "0                0                0  \n",
              "1                0                0  \n",
              "2                0                0  \n",
              "3                0                1  \n",
              "4                0                1  "
            ],
            "text/html": [
              "\n",
              "  <div id=\"df-05642066-d9de-4446-ba28-eb97ebac24d7\">\n",
              "    <div class=\"colab-df-container\">\n",
              "      <div>\n",
              "<style scoped>\n",
              "    .dataframe tbody tr th:only-of-type {\n",
              "        vertical-align: middle;\n",
              "    }\n",
              "\n",
              "    .dataframe tbody tr th {\n",
              "        vertical-align: top;\n",
              "    }\n",
              "\n",
              "    .dataframe thead th {\n",
              "        text-align: right;\n",
              "    }\n",
              "</style>\n",
              "<table border=\"1\" class=\"dataframe\">\n",
              "  <thead>\n",
              "    <tr style=\"text-align: right;\">\n",
              "      <th></th>\n",
              "      <th>AREA</th>\n",
              "      <th>INT_SQFT</th>\n",
              "      <th>N_BEDROOM</th>\n",
              "      <th>N_BATHROOM</th>\n",
              "      <th>N_ROOM</th>\n",
              "      <th>PARK_FACIL</th>\n",
              "      <th>UTILITY_AVAIL</th>\n",
              "      <th>STREET</th>\n",
              "      <th>MZZONE</th>\n",
              "      <th>SALES_PRICE</th>\n",
              "      <th>BULIDING_AGE</th>\n",
              "      <th>BUILDTYPE_COMMERCIAL</th>\n",
              "      <th>BUILDTYPE_HOUSE</th>\n",
              "      <th>BUILDTYPE_OTHER</th>\n",
              "    </tr>\n",
              "  </thead>\n",
              "  <tbody>\n",
              "    <tr>\n",
              "      <th>0</th>\n",
              "      <td>0</td>\n",
              "      <td>1004</td>\n",
              "      <td>1</td>\n",
              "      <td>1</td>\n",
              "      <td>3</td>\n",
              "      <td>1</td>\n",
              "      <td>1</td>\n",
              "      <td>1</td>\n",
              "      <td>0</td>\n",
              "      <td>7600000</td>\n",
              "      <td>44</td>\n",
              "      <td>1</td>\n",
              "      <td>0</td>\n",
              "      <td>0</td>\n",
              "    </tr>\n",
              "    <tr>\n",
              "      <th>1</th>\n",
              "      <td>1</td>\n",
              "      <td>1986</td>\n",
              "      <td>2</td>\n",
              "      <td>1</td>\n",
              "      <td>5</td>\n",
              "      <td>0</td>\n",
              "      <td>1</td>\n",
              "      <td>2</td>\n",
              "      <td>1</td>\n",
              "      <td>21717770</td>\n",
              "      <td>11</td>\n",
              "      <td>1</td>\n",
              "      <td>0</td>\n",
              "      <td>0</td>\n",
              "    </tr>\n",
              "    <tr>\n",
              "      <th>2</th>\n",
              "      <td>2</td>\n",
              "      <td>909</td>\n",
              "      <td>1</td>\n",
              "      <td>1</td>\n",
              "      <td>3</td>\n",
              "      <td>1</td>\n",
              "      <td>2</td>\n",
              "      <td>2</td>\n",
              "      <td>2</td>\n",
              "      <td>13159200</td>\n",
              "      <td>20</td>\n",
              "      <td>1</td>\n",
              "      <td>0</td>\n",
              "      <td>0</td>\n",
              "    </tr>\n",
              "    <tr>\n",
              "      <th>3</th>\n",
              "      <td>3</td>\n",
              "      <td>1855</td>\n",
              "      <td>3</td>\n",
              "      <td>2</td>\n",
              "      <td>5</td>\n",
              "      <td>0</td>\n",
              "      <td>3</td>\n",
              "      <td>1</td>\n",
              "      <td>3</td>\n",
              "      <td>9630290</td>\n",
              "      <td>22</td>\n",
              "      <td>0</td>\n",
              "      <td>0</td>\n",
              "      <td>1</td>\n",
              "    </tr>\n",
              "    <tr>\n",
              "      <th>4</th>\n",
              "      <td>0</td>\n",
              "      <td>1226</td>\n",
              "      <td>1</td>\n",
              "      <td>1</td>\n",
              "      <td>3</td>\n",
              "      <td>1</td>\n",
              "      <td>1</td>\n",
              "      <td>2</td>\n",
              "      <td>4</td>\n",
              "      <td>7406250</td>\n",
              "      <td>30</td>\n",
              "      <td>0</td>\n",
              "      <td>0</td>\n",
              "      <td>1</td>\n",
              "    </tr>\n",
              "  </tbody>\n",
              "</table>\n",
              "</div>\n",
              "      <button class=\"colab-df-convert\" onclick=\"convertToInteractive('df-05642066-d9de-4446-ba28-eb97ebac24d7')\"\n",
              "              title=\"Convert this dataframe to an interactive table.\"\n",
              "              style=\"display:none;\">\n",
              "        \n",
              "  <svg xmlns=\"http://www.w3.org/2000/svg\" height=\"24px\"viewBox=\"0 0 24 24\"\n",
              "       width=\"24px\">\n",
              "    <path d=\"M0 0h24v24H0V0z\" fill=\"none\"/>\n",
              "    <path d=\"M18.56 5.44l.94 2.06.94-2.06 2.06-.94-2.06-.94-.94-2.06-.94 2.06-2.06.94zm-11 1L8.5 8.5l.94-2.06 2.06-.94-2.06-.94L8.5 2.5l-.94 2.06-2.06.94zm10 10l.94 2.06.94-2.06 2.06-.94-2.06-.94-.94-2.06-.94 2.06-2.06.94z\"/><path d=\"M17.41 7.96l-1.37-1.37c-.4-.4-.92-.59-1.43-.59-.52 0-1.04.2-1.43.59L10.3 9.45l-7.72 7.72c-.78.78-.78 2.05 0 2.83L4 21.41c.39.39.9.59 1.41.59.51 0 1.02-.2 1.41-.59l7.78-7.78 2.81-2.81c.8-.78.8-2.07 0-2.86zM5.41 20L4 18.59l7.72-7.72 1.47 1.35L5.41 20z\"/>\n",
              "  </svg>\n",
              "      </button>\n",
              "      \n",
              "  <style>\n",
              "    .colab-df-container {\n",
              "      display:flex;\n",
              "      flex-wrap:wrap;\n",
              "      gap: 12px;\n",
              "    }\n",
              "\n",
              "    .colab-df-convert {\n",
              "      background-color: #E8F0FE;\n",
              "      border: none;\n",
              "      border-radius: 50%;\n",
              "      cursor: pointer;\n",
              "      display: none;\n",
              "      fill: #1967D2;\n",
              "      height: 32px;\n",
              "      padding: 0 0 0 0;\n",
              "      width: 32px;\n",
              "    }\n",
              "\n",
              "    .colab-df-convert:hover {\n",
              "      background-color: #E2EBFA;\n",
              "      box-shadow: 0px 1px 2px rgba(60, 64, 67, 0.3), 0px 1px 3px 1px rgba(60, 64, 67, 0.15);\n",
              "      fill: #174EA6;\n",
              "    }\n",
              "\n",
              "    [theme=dark] .colab-df-convert {\n",
              "      background-color: #3B4455;\n",
              "      fill: #D2E3FC;\n",
              "    }\n",
              "\n",
              "    [theme=dark] .colab-df-convert:hover {\n",
              "      background-color: #434B5C;\n",
              "      box-shadow: 0px 1px 3px 1px rgba(0, 0, 0, 0.15);\n",
              "      filter: drop-shadow(0px 1px 2px rgba(0, 0, 0, 0.3));\n",
              "      fill: #FFFFFF;\n",
              "    }\n",
              "  </style>\n",
              "\n",
              "      <script>\n",
              "        const buttonEl =\n",
              "          document.querySelector('#df-05642066-d9de-4446-ba28-eb97ebac24d7 button.colab-df-convert');\n",
              "        buttonEl.style.display =\n",
              "          google.colab.kernel.accessAllowed ? 'block' : 'none';\n",
              "\n",
              "        async function convertToInteractive(key) {\n",
              "          const element = document.querySelector('#df-05642066-d9de-4446-ba28-eb97ebac24d7');\n",
              "          const dataTable =\n",
              "            await google.colab.kernel.invokeFunction('convertToInteractive',\n",
              "                                                     [key], {});\n",
              "          if (!dataTable) return;\n",
              "\n",
              "          const docLinkHtml = 'Like what you see? Visit the ' +\n",
              "            '<a target=\"_blank\" href=https://colab.research.google.com/notebooks/data_table.ipynb>data table notebook</a>'\n",
              "            + ' to learn more about interactive tables.';\n",
              "          element.innerHTML = '';\n",
              "          dataTable['output_type'] = 'display_data';\n",
              "          await google.colab.output.renderOutput(dataTable, element);\n",
              "          const docLink = document.createElement('div');\n",
              "          docLink.innerHTML = docLinkHtml;\n",
              "          element.appendChild(docLink);\n",
              "        }\n",
              "      </script>\n",
              "    </div>\n",
              "  </div>\n",
              "  "
            ]
          },
          "metadata": {},
          "execution_count": 74
        }
      ]
    },
    {
      "cell_type": "code",
      "source": [
        "df.AREA=df.AREA.astype('int')"
      ],
      "metadata": {
        "id": "E-_xnvok5huO"
      },
      "execution_count": 75,
      "outputs": []
    },
    {
      "cell_type": "code",
      "source": [
        "df.dtypes"
      ],
      "metadata": {
        "colab": {
          "base_uri": "https://localhost:8080/"
        },
        "id": "Qnapy7kD5bNP",
        "outputId": "d0c5cc0e-b4ee-4e35-b670-a706addea167"
      },
      "execution_count": 76,
      "outputs": [
        {
          "output_type": "execute_result",
          "data": {
            "text/plain": [
              "AREA                    int64\n",
              "INT_SQFT                int64\n",
              "N_BEDROOM               int64\n",
              "N_BATHROOM              int64\n",
              "N_ROOM                  int64\n",
              "PARK_FACIL              int64\n",
              "UTILITY_AVAIL           int64\n",
              "STREET                  int64\n",
              "MZZONE                  int64\n",
              "SALES_PRICE             int64\n",
              "BULIDING_AGE            int64\n",
              "BUILDTYPE_COMMERCIAL    uint8\n",
              "BUILDTYPE_HOUSE         uint8\n",
              "BUILDTYPE_OTHER         uint8\n",
              "dtype: object"
            ]
          },
          "metadata": {},
          "execution_count": 76
        }
      ]
    },
    {
      "cell_type": "code",
      "source": [
        "x=df.drop('SALES_PRICE',axis=1)\n",
        "x.head()"
      ],
      "metadata": {
        "colab": {
          "base_uri": "https://localhost:8080/",
          "height": 270
        },
        "id": "7_svwdFL5ybi",
        "outputId": "e4320ab8-4ccc-4035-bc65-4f4e8ff3abed"
      },
      "execution_count": 77,
      "outputs": [
        {
          "output_type": "execute_result",
          "data": {
            "text/plain": [
              "   AREA  INT_SQFT  N_BEDROOM  N_BATHROOM  N_ROOM  PARK_FACIL  UTILITY_AVAIL  \\\n",
              "0     0      1004          1           1       3           1              1   \n",
              "1     1      1986          2           1       5           0              1   \n",
              "2     2       909          1           1       3           1              2   \n",
              "3     3      1855          3           2       5           0              3   \n",
              "4     0      1226          1           1       3           1              1   \n",
              "\n",
              "   STREET  MZZONE  BULIDING_AGE  BUILDTYPE_COMMERCIAL  BUILDTYPE_HOUSE  \\\n",
              "0       1       0            44                     1                0   \n",
              "1       2       1            11                     1                0   \n",
              "2       2       2            20                     1                0   \n",
              "3       1       3            22                     0                0   \n",
              "4       2       4            30                     0                0   \n",
              "\n",
              "   BUILDTYPE_OTHER  \n",
              "0                0  \n",
              "1                0  \n",
              "2                0  \n",
              "3                1  \n",
              "4                1  "
            ],
            "text/html": [
              "\n",
              "  <div id=\"df-35c9414b-2e41-40bb-9447-07c583fe5b6c\">\n",
              "    <div class=\"colab-df-container\">\n",
              "      <div>\n",
              "<style scoped>\n",
              "    .dataframe tbody tr th:only-of-type {\n",
              "        vertical-align: middle;\n",
              "    }\n",
              "\n",
              "    .dataframe tbody tr th {\n",
              "        vertical-align: top;\n",
              "    }\n",
              "\n",
              "    .dataframe thead th {\n",
              "        text-align: right;\n",
              "    }\n",
              "</style>\n",
              "<table border=\"1\" class=\"dataframe\">\n",
              "  <thead>\n",
              "    <tr style=\"text-align: right;\">\n",
              "      <th></th>\n",
              "      <th>AREA</th>\n",
              "      <th>INT_SQFT</th>\n",
              "      <th>N_BEDROOM</th>\n",
              "      <th>N_BATHROOM</th>\n",
              "      <th>N_ROOM</th>\n",
              "      <th>PARK_FACIL</th>\n",
              "      <th>UTILITY_AVAIL</th>\n",
              "      <th>STREET</th>\n",
              "      <th>MZZONE</th>\n",
              "      <th>BULIDING_AGE</th>\n",
              "      <th>BUILDTYPE_COMMERCIAL</th>\n",
              "      <th>BUILDTYPE_HOUSE</th>\n",
              "      <th>BUILDTYPE_OTHER</th>\n",
              "    </tr>\n",
              "  </thead>\n",
              "  <tbody>\n",
              "    <tr>\n",
              "      <th>0</th>\n",
              "      <td>0</td>\n",
              "      <td>1004</td>\n",
              "      <td>1</td>\n",
              "      <td>1</td>\n",
              "      <td>3</td>\n",
              "      <td>1</td>\n",
              "      <td>1</td>\n",
              "      <td>1</td>\n",
              "      <td>0</td>\n",
              "      <td>44</td>\n",
              "      <td>1</td>\n",
              "      <td>0</td>\n",
              "      <td>0</td>\n",
              "    </tr>\n",
              "    <tr>\n",
              "      <th>1</th>\n",
              "      <td>1</td>\n",
              "      <td>1986</td>\n",
              "      <td>2</td>\n",
              "      <td>1</td>\n",
              "      <td>5</td>\n",
              "      <td>0</td>\n",
              "      <td>1</td>\n",
              "      <td>2</td>\n",
              "      <td>1</td>\n",
              "      <td>11</td>\n",
              "      <td>1</td>\n",
              "      <td>0</td>\n",
              "      <td>0</td>\n",
              "    </tr>\n",
              "    <tr>\n",
              "      <th>2</th>\n",
              "      <td>2</td>\n",
              "      <td>909</td>\n",
              "      <td>1</td>\n",
              "      <td>1</td>\n",
              "      <td>3</td>\n",
              "      <td>1</td>\n",
              "      <td>2</td>\n",
              "      <td>2</td>\n",
              "      <td>2</td>\n",
              "      <td>20</td>\n",
              "      <td>1</td>\n",
              "      <td>0</td>\n",
              "      <td>0</td>\n",
              "    </tr>\n",
              "    <tr>\n",
              "      <th>3</th>\n",
              "      <td>3</td>\n",
              "      <td>1855</td>\n",
              "      <td>3</td>\n",
              "      <td>2</td>\n",
              "      <td>5</td>\n",
              "      <td>0</td>\n",
              "      <td>3</td>\n",
              "      <td>1</td>\n",
              "      <td>3</td>\n",
              "      <td>22</td>\n",
              "      <td>0</td>\n",
              "      <td>0</td>\n",
              "      <td>1</td>\n",
              "    </tr>\n",
              "    <tr>\n",
              "      <th>4</th>\n",
              "      <td>0</td>\n",
              "      <td>1226</td>\n",
              "      <td>1</td>\n",
              "      <td>1</td>\n",
              "      <td>3</td>\n",
              "      <td>1</td>\n",
              "      <td>1</td>\n",
              "      <td>2</td>\n",
              "      <td>4</td>\n",
              "      <td>30</td>\n",
              "      <td>0</td>\n",
              "      <td>0</td>\n",
              "      <td>1</td>\n",
              "    </tr>\n",
              "  </tbody>\n",
              "</table>\n",
              "</div>\n",
              "      <button class=\"colab-df-convert\" onclick=\"convertToInteractive('df-35c9414b-2e41-40bb-9447-07c583fe5b6c')\"\n",
              "              title=\"Convert this dataframe to an interactive table.\"\n",
              "              style=\"display:none;\">\n",
              "        \n",
              "  <svg xmlns=\"http://www.w3.org/2000/svg\" height=\"24px\"viewBox=\"0 0 24 24\"\n",
              "       width=\"24px\">\n",
              "    <path d=\"M0 0h24v24H0V0z\" fill=\"none\"/>\n",
              "    <path d=\"M18.56 5.44l.94 2.06.94-2.06 2.06-.94-2.06-.94-.94-2.06-.94 2.06-2.06.94zm-11 1L8.5 8.5l.94-2.06 2.06-.94-2.06-.94L8.5 2.5l-.94 2.06-2.06.94zm10 10l.94 2.06.94-2.06 2.06-.94-2.06-.94-.94-2.06-.94 2.06-2.06.94z\"/><path d=\"M17.41 7.96l-1.37-1.37c-.4-.4-.92-.59-1.43-.59-.52 0-1.04.2-1.43.59L10.3 9.45l-7.72 7.72c-.78.78-.78 2.05 0 2.83L4 21.41c.39.39.9.59 1.41.59.51 0 1.02-.2 1.41-.59l7.78-7.78 2.81-2.81c.8-.78.8-2.07 0-2.86zM5.41 20L4 18.59l7.72-7.72 1.47 1.35L5.41 20z\"/>\n",
              "  </svg>\n",
              "      </button>\n",
              "      \n",
              "  <style>\n",
              "    .colab-df-container {\n",
              "      display:flex;\n",
              "      flex-wrap:wrap;\n",
              "      gap: 12px;\n",
              "    }\n",
              "\n",
              "    .colab-df-convert {\n",
              "      background-color: #E8F0FE;\n",
              "      border: none;\n",
              "      border-radius: 50%;\n",
              "      cursor: pointer;\n",
              "      display: none;\n",
              "      fill: #1967D2;\n",
              "      height: 32px;\n",
              "      padding: 0 0 0 0;\n",
              "      width: 32px;\n",
              "    }\n",
              "\n",
              "    .colab-df-convert:hover {\n",
              "      background-color: #E2EBFA;\n",
              "      box-shadow: 0px 1px 2px rgba(60, 64, 67, 0.3), 0px 1px 3px 1px rgba(60, 64, 67, 0.15);\n",
              "      fill: #174EA6;\n",
              "    }\n",
              "\n",
              "    [theme=dark] .colab-df-convert {\n",
              "      background-color: #3B4455;\n",
              "      fill: #D2E3FC;\n",
              "    }\n",
              "\n",
              "    [theme=dark] .colab-df-convert:hover {\n",
              "      background-color: #434B5C;\n",
              "      box-shadow: 0px 1px 3px 1px rgba(0, 0, 0, 0.15);\n",
              "      filter: drop-shadow(0px 1px 2px rgba(0, 0, 0, 0.3));\n",
              "      fill: #FFFFFF;\n",
              "    }\n",
              "  </style>\n",
              "\n",
              "      <script>\n",
              "        const buttonEl =\n",
              "          document.querySelector('#df-35c9414b-2e41-40bb-9447-07c583fe5b6c button.colab-df-convert');\n",
              "        buttonEl.style.display =\n",
              "          google.colab.kernel.accessAllowed ? 'block' : 'none';\n",
              "\n",
              "        async function convertToInteractive(key) {\n",
              "          const element = document.querySelector('#df-35c9414b-2e41-40bb-9447-07c583fe5b6c');\n",
              "          const dataTable =\n",
              "            await google.colab.kernel.invokeFunction('convertToInteractive',\n",
              "                                                     [key], {});\n",
              "          if (!dataTable) return;\n",
              "\n",
              "          const docLinkHtml = 'Like what you see? Visit the ' +\n",
              "            '<a target=\"_blank\" href=https://colab.research.google.com/notebooks/data_table.ipynb>data table notebook</a>'\n",
              "            + ' to learn more about interactive tables.';\n",
              "          element.innerHTML = '';\n",
              "          dataTable['output_type'] = 'display_data';\n",
              "          await google.colab.output.renderOutput(dataTable, element);\n",
              "          const docLink = document.createElement('div');\n",
              "          docLink.innerHTML = docLinkHtml;\n",
              "          element.appendChild(docLink);\n",
              "        }\n",
              "      </script>\n",
              "    </div>\n",
              "  </div>\n",
              "  "
            ]
          },
          "metadata": {},
          "execution_count": 77
        }
      ]
    },
    {
      "cell_type": "code",
      "source": [
        "y=df['SALES_PRICE']\n",
        "y.head()"
      ],
      "metadata": {
        "colab": {
          "base_uri": "https://localhost:8080/"
        },
        "id": "559tamfz6aid",
        "outputId": "3a01e392-3539-4174-8c0c-aad8a490a226"
      },
      "execution_count": 78,
      "outputs": [
        {
          "output_type": "execute_result",
          "data": {
            "text/plain": [
              "0     7600000\n",
              "1    21717770\n",
              "2    13159200\n",
              "3     9630290\n",
              "4     7406250\n",
              "Name: SALES_PRICE, dtype: int64"
            ]
          },
          "metadata": {},
          "execution_count": 78
        }
      ]
    },
    {
      "cell_type": "markdown",
      "source": [
        "Splitting data as a Train Data and Test Data using with Train_Test_Split Method.\n",
        "\n",
        "Splitting."
      ],
      "metadata": {
        "id": "PhkKxd_r9gAN"
      }
    },
    {
      "cell_type": "code",
      "source": [
        "x_train,x_test,y_train,y_test=train_test_split(x,y,test_size=0.2,random_state=5)"
      ],
      "metadata": {
        "id": "OHR4u-cG6p3T"
      },
      "execution_count": 79,
      "outputs": []
    },
    {
      "cell_type": "markdown",
      "source": [
        "Scaling the data."
      ],
      "metadata": {
        "id": "GNJeYUtdkegx"
      }
    },
    {
      "cell_type": "code",
      "source": [
        "scaler = StandardScaler() \n",
        "scaler.fit(x_train,y_train) \n",
        "x_train_scaled = scaler.transform(x_train)\n",
        "x_test_scaled = scaler.transform(x_test)"
      ],
      "metadata": {
        "id": "VeIG7e7UkjOP"
      },
      "execution_count": 80,
      "outputs": []
    },
    {
      "cell_type": "markdown",
      "source": [
        "# **Model Fitting.**"
      ],
      "metadata": {
        "id": "ble3ZiQWlB5u"
      }
    },
    {
      "cell_type": "markdown",
      "source": [
        "## Linear Regression Algorithm"
      ],
      "metadata": {
        "id": "vNSdAxYIlQe-"
      }
    },
    {
      "cell_type": "markdown",
      "source": [
        "Fitting the Model"
      ],
      "metadata": {
        "id": "2_JTFNKDyKb0"
      }
    },
    {
      "cell_type": "code",
      "source": [
        "model=LinearRegression()\n",
        "model.fit(x_train_scaled,y_train)"
      ],
      "metadata": {
        "colab": {
          "base_uri": "https://localhost:8080/"
        },
        "id": "qZVzm8qrlQJk",
        "outputId": "2d4c4c86-8a77-4d8a-c4ec-99b4d510d9ec"
      },
      "execution_count": 81,
      "outputs": [
        {
          "output_type": "execute_result",
          "data": {
            "text/plain": [
              "LinearRegression()"
            ]
          },
          "metadata": {},
          "execution_count": 81
        }
      ]
    },
    {
      "cell_type": "markdown",
      "source": [
        "Predicting values"
      ],
      "metadata": {
        "id": "_kV9s1ftmMyl"
      }
    },
    {
      "cell_type": "code",
      "source": [
        "y_pred=model.predict(x_test_scaled)\n",
        "y_pred"
      ],
      "metadata": {
        "colab": {
          "base_uri": "https://localhost:8080/"
        },
        "id": "zNkvHnMgk_rt",
        "outputId": "a84bc780-6492-453e-cb3b-7f40fb55abd9"
      },
      "execution_count": 82,
      "outputs": [
        {
          "output_type": "execute_result",
          "data": {
            "text/plain": [
              "array([11212374.87028538, 13142541.23887028, 14129672.30917396, ...,\n",
              "        7191327.79456052,  9678535.14389177, 15364182.05902148])"
            ]
          },
          "metadata": {},
          "execution_count": 82
        }
      ]
    },
    {
      "cell_type": "markdown",
      "source": [
        "Evaluation Metric R2 Score."
      ],
      "metadata": {
        "id": "Lx7pbS6Cmn9e"
      }
    },
    {
      "cell_type": "code",
      "source": [
        "print('R2- SCORE:', metrics.r2_score(y_test,y_pred))"
      ],
      "metadata": {
        "colab": {
          "base_uri": "https://localhost:8080/"
        },
        "id": "QdxPq6TumurN",
        "outputId": "5b9c2170-4245-45b7-8062-63e53dd185c9"
      },
      "execution_count": 83,
      "outputs": [
        {
          "output_type": "stream",
          "name": "stdout",
          "text": [
            "R2- SCORE: 0.8668473591354626\n"
          ]
        }
      ]
    },
    {
      "cell_type": "markdown",
      "source": [
        "## K Nearest Neighbours Alogrithm (KNN)"
      ],
      "metadata": {
        "id": "GiZKuRpXqsj_"
      }
    },
    {
      "cell_type": "markdown",
      "source": [
        "Hyperparameter Tuning based on K-values,Fitting the Model"
      ],
      "metadata": {
        "id": "ujYR3ipU1Ukw"
      }
    },
    {
      "cell_type": "code",
      "source": [
        "for i in [1,2,3,4,5,6,7,8,9,10,20,50]:\n",
        "  knn = KNeighborsRegressor(i) \n",
        "  knn.fit(x_train_scaled,y_train) \n",
        "  print(\"K value  : \" , i, \" train score : \", knn.score(x_train_scaled,y_train) , \" score : \", np.mean(cross_val_score(knn, x_train_scaled, y_train, cv=10)))\n",
        "\n",
        "\n"
      ],
      "metadata": {
        "colab": {
          "base_uri": "https://localhost:8080/"
        },
        "id": "A6I8PNupqrTE",
        "outputId": "0e93208f-37c8-4968-c8b0-6ec3df6af3af"
      },
      "execution_count": 84,
      "outputs": [
        {
          "output_type": "stream",
          "name": "stdout",
          "text": [
            "K value  :  1  train score :  0.9999971391844843  score :  0.9084756940164231\n",
            "K value  :  2  train score :  0.9781347814447279  score :  0.9224472494465937\n",
            "K value  :  3  train score :  0.9675415908329379  score :  0.9255378679458184\n",
            "K value  :  4  train score :  0.9595973003930056  score :  0.9241679002973553\n",
            "K value  :  5  train score :  0.9534976955728605  score :  0.9218707662982\n",
            "K value  :  6  train score :  0.9486690070833685  score :  0.9187701530703091\n",
            "K value  :  7  train score :  0.943147753967191  score :  0.9151380414073647\n",
            "K value  :  8  train score :  0.9387597603725626  score :  0.9113000617237381\n",
            "K value  :  9  train score :  0.9338942033202527  score :  0.907271997276692\n",
            "K value  :  10  train score :  0.9291431161260085  score :  0.9033119363969837\n",
            "K value  :  20  train score :  0.892831944149165  score :  0.8719680185137658\n",
            "K value  :  50  train score :  0.8327302118443671  score :  0.8195295583510325\n"
          ]
        }
      ]
    },
    {
      "cell_type": "markdown",
      "source": [
        "scoring the model-R2 score with best hyperparameter"
      ],
      "metadata": {
        "id": "1oicpkU484tL"
      }
    },
    {
      "cell_type": "code",
      "source": [
        " knn = KNeighborsRegressor(2) \n",
        " knn.fit(x_train_scaled,y_train) \n",
        " knn.score(x_test_scaled,y_test)"
      ],
      "metadata": {
        "colab": {
          "base_uri": "https://localhost:8080/"
        },
        "id": "sWLyB5lj9DOc",
        "outputId": "a73d71ab-8784-4da0-dece-89cd36d22d6d"
      },
      "execution_count": 85,
      "outputs": [
        {
          "output_type": "execute_result",
          "data": {
            "text/plain": [
              "0.9404638437137571"
            ]
          },
          "metadata": {},
          "execution_count": 85
        }
      ]
    },
    {
      "cell_type": "markdown",
      "source": [
        "## Decision Tree Regressor Algorithm"
      ],
      "metadata": {
        "id": "0hSUf6mZxTBy"
      }
    },
    {
      "cell_type": "code",
      "source": [],
      "metadata": {
        "id": "K_mQ6uFNFKD-"
      },
      "execution_count": null,
      "outputs": []
    },
    {
      "cell_type": "markdown",
      "source": [
        "Fitting the Model"
      ],
      "metadata": {
        "id": "nDKkDIZbyEZz"
      }
    },
    {
      "cell_type": "code",
      "source": [
        "dt=DecisionTreeRegressor(max_depth=15,max_features='auto')\n",
        "dt.fit(x_train_scaled,y_train)"
      ],
      "metadata": {
        "colab": {
          "base_uri": "https://localhost:8080/"
        },
        "id": "K1ds00laxm9K",
        "outputId": "838d9976-3341-4f9c-bc99-5aa6ee1428dd"
      },
      "execution_count": 165,
      "outputs": [
        {
          "output_type": "execute_result",
          "data": {
            "text/plain": [
              "DecisionTreeRegressor(max_depth=15, max_features='auto')"
            ]
          },
          "metadata": {},
          "execution_count": 165
        }
      ]
    },
    {
      "cell_type": "markdown",
      "source": [
        "Predicting values"
      ],
      "metadata": {
        "id": "OoE3NzioyOlu"
      }
    },
    {
      "cell_type": "code",
      "source": [
        "y_pred=dt.predict(x_test_scaled)\n",
        "y_pred"
      ],
      "metadata": {
        "colab": {
          "base_uri": "https://localhost:8080/"
        },
        "id": "7OSzOLpsyPgD",
        "outputId": "8fbb1ade-4167-484d-9115-b64dc6bab6b9"
      },
      "execution_count": 166,
      "outputs": [
        {
          "output_type": "execute_result",
          "data": {
            "text/plain": [
              "array([10561493.33333333, 14292780.        , 13344696.66666667, ...,\n",
              "        7074750.        ,  9646825.        , 13982960.        ])"
            ]
          },
          "metadata": {},
          "execution_count": 166
        }
      ]
    },
    {
      "cell_type": "markdown",
      "source": [
        "Evaluation Metric R2 Score."
      ],
      "metadata": {
        "id": "jcIbuBhSygRf"
      }
    },
    {
      "cell_type": "code",
      "source": [
        "print('R2- SCORE:', metrics.r2_score(y_test,y_pred))"
      ],
      "metadata": {
        "colab": {
          "base_uri": "https://localhost:8080/"
        },
        "id": "LsfrcILxykkr",
        "outputId": "b361362a-09fe-42ed-cdfe-c437a3d2db84"
      },
      "execution_count": 167,
      "outputs": [
        {
          "output_type": "stream",
          "name": "stdout",
          "text": [
            "R2- SCORE: 0.9687255622666248\n"
          ]
        }
      ]
    },
    {
      "cell_type": "markdown",
      "source": [
        "## Random Forest Regressor Algorithm"
      ],
      "metadata": {
        "id": "D6Be4E3xyznh"
      }
    },
    {
      "cell_type": "markdown",
      "source": [
        "Fitting the Model"
      ],
      "metadata": {
        "id": "pku9-BAjy-p0"
      }
    },
    {
      "cell_type": "code",
      "source": [
        "rfr=RandomForestRegressor(n_estimators=100,max_depth=15,max_features='auto')\n",
        "rfr.fit(x_train_scaled,y_train)\n"
      ],
      "metadata": {
        "colab": {
          "base_uri": "https://localhost:8080/"
        },
        "id": "vN3j2h7Oy8Jw",
        "outputId": "7ed20e47-8aa9-4497-8858-e6cff5456f71"
      },
      "execution_count": 147,
      "outputs": [
        {
          "output_type": "execute_result",
          "data": {
            "text/plain": [
              "RandomForestRegressor(max_depth=15)"
            ]
          },
          "metadata": {},
          "execution_count": 147
        }
      ]
    },
    {
      "cell_type": "markdown",
      "source": [
        "Predicting Values"
      ],
      "metadata": {
        "id": "ZTLsdK3KzZJe"
      }
    },
    {
      "cell_type": "code",
      "source": [
        "y_pred=rfr.predict(x_test_scaled)\n",
        "y_pred"
      ],
      "metadata": {
        "colab": {
          "base_uri": "https://localhost:8080/"
        },
        "id": "UvIGN-FSzYh3",
        "outputId": "4fdcef87-a0da-4fd7-cfb6-2e9dbe71deef"
      },
      "execution_count": 148,
      "outputs": [
        {
          "output_type": "execute_result",
          "data": {
            "text/plain": [
              "array([10340522.30143579, 13799035.01071429, 13121216.4977381 , ...,\n",
              "        6656636.66666667,  9369767.03970772, 14509605.87024253])"
            ]
          },
          "metadata": {},
          "execution_count": 148
        }
      ]
    },
    {
      "cell_type": "markdown",
      "source": [
        "Evaluation Metric R2 Score."
      ],
      "metadata": {
        "id": "WbCBH63W1QBU"
      }
    },
    {
      "cell_type": "code",
      "source": [
        "print('R2- SCORE:', metrics.r2_score(y_test,y_pred))"
      ],
      "metadata": {
        "colab": {
          "base_uri": "https://localhost:8080/"
        },
        "id": "bk7__bO6zgxs",
        "outputId": "44906783-c843-445d-cf6f-1b9d620849b1"
      },
      "execution_count": 149,
      "outputs": [
        {
          "output_type": "stream",
          "name": "stdout",
          "text": [
            "R2- SCORE: 0.9854710851894488\n"
          ]
        }
      ]
    },
    {
      "cell_type": "markdown",
      "source": [
        "## XG Boost Algorithm"
      ],
      "metadata": {
        "id": "Q5FPFHKH3qUm"
      }
    },
    {
      "cell_type": "markdown",
      "source": [
        "Tuning based on the learning rate, Fitting the model."
      ],
      "metadata": {
        "id": "pxZ3XW1g3yet"
      }
    },
    {
      "cell_type": "code",
      "source": [
        "for lr in [0.01,0.02,0.03,0.04,0.05,0.06,0.07,0.08,0.09,0.1,0.11,0.12,0.13,0.14,0.15,0.2,0.5,0.7,1]:\n",
        "  model = xgb.XGBRegressor(learning_rate = lr, n_estimators=100, verbosity = 0) \n",
        "  model.fit(x_train_scaled,y_train) \n",
        "  model.score(x_test_scaled, y_test) \n",
        "  print(\"Learning rate : \", lr, \" Train score : \", model.score(x_train_scaled,y_train), \" Cross-Val score : \", np.mean(cross_val_score(model, x_train_scaled, y_train, cv=10)))"
      ],
      "metadata": {
        "colab": {
          "base_uri": "https://localhost:8080/"
        },
        "id": "tDfsFpzv3lkS",
        "outputId": "82cf205d-d1d1-4d1d-e605-4d3df0ab4e04"
      },
      "execution_count": 92,
      "outputs": [
        {
          "output_type": "stream",
          "name": "stdout",
          "text": [
            "Learning rate :  0.01  Train score :  -0.4512352456366908  Cross-Val score :  -0.45823176170244617\n",
            "Learning rate :  0.02  Train score :  0.7007814974015283  Cross-Val score :  0.6963201506216711\n",
            "Learning rate :  0.03  Train score :  0.8950626841067024  Cross-Val score :  0.8902503134644224\n",
            "Learning rate :  0.04  Train score :  0.9407174231653423  Cross-Val score :  0.9368798194818272\n",
            "Learning rate :  0.05  Train score :  0.9592667523443561  Cross-Val score :  0.9558575062838681\n",
            "Learning rate :  0.06  Train score :  0.9707551416690214  Cross-Val score :  0.9671146011855558\n",
            "Learning rate :  0.07  Train score :  0.9770880151963925  Cross-Val score :  0.9740501930620417\n",
            "Learning rate :  0.08  Train score :  0.9822516469795272  Cross-Val score :  0.9790563290437924\n",
            "Learning rate :  0.09  Train score :  0.9852587042327853  Cross-Val score :  0.9825495501320312\n",
            "Learning rate :  0.1  Train score :  0.9877788096116747  Cross-Val score :  0.984868104050858\n",
            "Learning rate :  0.11  Train score :  0.9884071477884049  Cross-Val score :  0.9866603510144408\n",
            "Learning rate :  0.12  Train score :  0.989730741690457  Cross-Val score :  0.9879228966453144\n",
            "Learning rate :  0.13  Train score :  0.9903533491258354  Cross-Val score :  0.988774123441047\n",
            "Learning rate :  0.14  Train score :  0.9913936853596188  Cross-Val score :  0.9895102927974919\n",
            "Learning rate :  0.15  Train score :  0.9918957491391625  Cross-Val score :  0.9898767455419204\n",
            "Learning rate :  0.2  Train score :  0.9931794776677841  Cross-Val score :  0.9917729537238401\n",
            "Learning rate :  0.5  Train score :  0.9943906370942514  Cross-Val score :  0.9926117310599535\n",
            "Learning rate :  0.7  Train score :  0.9949889222446815  Cross-Val score :  0.99208428522715\n",
            "Learning rate :  1  Train score :  0.9930283100839202  Cross-Val score :  0.9887088265762278\n"
          ]
        }
      ]
    },
    {
      "cell_type": "markdown",
      "source": [
        "calculating score - R2-score"
      ],
      "metadata": {
        "id": "1NX72CJB2hFM"
      }
    },
    {
      "cell_type": "code",
      "source": [
        "model = xgb.XGBRegressor(learning_rate = 0.7, n_estimators=100)\n",
        "model.fit(x_train_scaled,y_train) \n",
        "model.score(x_test_scaled, y_test)"
      ],
      "metadata": {
        "colab": {
          "base_uri": "https://localhost:8080/"
        },
        "id": "LVCZflox5MbY",
        "outputId": "5bab1ac5-8acb-4c4c-9b4d-18b45d44443c"
      },
      "execution_count": 93,
      "outputs": [
        {
          "output_type": "stream",
          "name": "stdout",
          "text": [
            "[09:20:27] WARNING: /workspace/src/objective/regression_obj.cu:152: reg:linear is now deprecated in favor of reg:squarederror.\n"
          ]
        },
        {
          "output_type": "execute_result",
          "data": {
            "text/plain": [
              "0.9930703086265772"
            ]
          },
          "metadata": {},
          "execution_count": 93
        }
      ]
    },
    {
      "cell_type": "markdown",
      "source": [
        " **R2-scores for all**"
      ],
      "metadata": {
        "id": "toG31v916JQc"
      }
    },
    {
      "cell_type": "markdown",
      "source": [
        "* LinearRegression : R2 - SCORE: 0.8668473591354626.\n",
        "* KNearNeighbourRegressor : R2 - SCORE: 0.9404638437137571\n",
        "* DecisionTreeRegressor : R2- SCORE: 0.9687255622666248\n",
        "* RandomForestRegressor : R2- SCORE: 0.9854710851894488\n",
        "* XGBoostRegressor : R2 - SCORE:0.9930703086265772"
      ],
      "metadata": {
        "id": "wcft7nY_6Vv3"
      }
    }
  ],
  "metadata": {
    "colab": {
      "collapsed_sections": [],
      "provenance": [],
      "authorship_tag": "ABX9TyPEqXL9NL49YBYw4JbDnvHf",
      "include_colab_link": true
    },
    "kernelspec": {
      "display_name": "Python 3",
      "name": "python3"
    },
    "language_info": {
      "name": "python"
    }
  },
  "nbformat": 4,
  "nbformat_minor": 0
}